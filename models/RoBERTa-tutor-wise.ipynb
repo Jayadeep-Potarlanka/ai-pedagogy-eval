{
 "cells": [
  {
   "cell_type": "code",
   "execution_count": null,
   "id": "12d481e4",
   "metadata": {},
   "outputs": [],
   "source": [
    "import os\n",
    "os.environ[\"TRANSFORMERS_NO_TF\"] = \"1\"\n",
    "os.environ[\"TRANSFORMERS_NO_FLAX\"] = \"1\"\n",
    "\n",
    "import torch\n",
    "import torch.nn as nn\n",
    "import torch.nn.functional as F\n",
    "from torch.utils.data import Dataset, DataLoader, WeightedRandomSampler\n",
    "from transformers import AutoTokenizer, AutoModel, get_scheduler\n",
    "from torch.optim import AdamW\n",
    "from sklearn.metrics import classification_report, f1_score,confusion_matrix, accuracy_score\n",
    "from sklearn.utils.class_weight import compute_class_weight\n",
    "import json\n",
    "import numpy as np\n",
    "from tqdm import tqdm\n",
    "from typing import List\n",
    "import warnings\n",
    "warnings.filterwarnings(\"ignore\")\n",
    "import matplotlib.pyplot as plt\n",
    "# --- Constants ---\n",
    "MODEL_NAME = 'roberta-base'\n",
    "NUM_LABELS = 3\n",
    "LABELS = [\"No\", \"To some extent\", \"Yes\"]\n",
    "LABEL2ID = {label: i for i, label in enumerate(LABELS)}\n",
    "ID2LABEL = {v: k for k, v in LABEL2ID.items()}\n",
    "TASKS = ['Mistake_Identification', 'Mistake_Location', 'Providing_Guidance', 'Actionability']\n",
    "\n",
    "# --- Dataset Loader ---\n",
    "class TutorDataset(Dataset):\n",
    "    def __init__(self, data: List[dict], tokenizer, max_length=512):\n",
    "        self.data = data\n",
    "        self.tokenizer = tokenizer\n",
    "        self.max_length = max_length\n",
    "\n",
    "    def __len__(self):\n",
    "        return len(self.data)\n",
    "\n",
    "    def __getitem__(self, idx):\n",
    "        item = self.data[idx]\n",
    "        text = item['conversation_history'] + \"\\nTutor Response: \" + item['response']\n",
    "        encoding = self.tokenizer(text, truncation=True, padding='max_length', max_length=self.max_length, return_tensors='pt')\n",
    "\n",
    "        labels = {task: LABEL2ID[item['annotation'][task]] for task in TASKS}\n",
    "\n",
    "        return {\n",
    "            'input_ids': encoding['input_ids'].squeeze(),\n",
    "            'attention_mask': encoding['attention_mask'].squeeze(),\n",
    "            'labels': torch.tensor([labels[task] for task in TASKS], dtype=torch.long)\n",
    "        }\n",
    "\n",
    "# --- Model Definition ---\n",
    "class PedagogicalModel(nn.Module):\n",
    "    def __init__(self):\n",
    "        super().__init__()\n",
    "        self.encoder = AutoModel.from_pretrained(MODEL_NAME)\n",
    "        self.dropout = nn.Dropout(0.2)\n",
    "        self.heads = nn.ModuleDict({task: nn.Linear(self.encoder.config.hidden_size, NUM_LABELS) for task in TASKS})\n",
    "\n",
    "    def forward(self, input_ids, attention_mask):\n",
    "        outputs = self.encoder(input_ids=input_ids, attention_mask=attention_mask)\n",
    "        pooled = self.dropout(outputs.last_hidden_state[:, 0])\n",
    "        return {task: head(pooled) for task, head in self.heads.items()}\n",
    "\n",
    "# --- Focal Loss ---\n",
    "class FocalLoss(nn.Module):\n",
    "    def __init__(self, alpha=1.0, gamma=2.0):\n",
    "        super().__init__()\n",
    "        self.alpha = alpha\n",
    "        self.gamma = gamma\n",
    "\n",
    "    def forward(self, inputs, targets):\n",
    "        ce_loss = F.cross_entropy(inputs, targets, reduction='none')\n",
    "        pt = torch.exp(-ce_loss)\n",
    "        focal_loss = self.alpha * (1 - pt) ** self.gamma * ce_loss\n",
    "        return focal_loss.mean()\n",
    "\n",
    "# --- Evaluation ---\n",
    "def evaluate_model(model, dataloader):\n",
    "    model.eval()\n",
    "    device = next(model.parameters()).device\n",
    "    y_true = {task: [] for task in TASKS}\n",
    "    y_pred = {task: [] for task in TASKS}\n",
    "\n",
    "    with torch.no_grad():\n",
    "        for batch in dataloader:\n",
    "            input_ids = batch['input_ids'].to(device)\n",
    "            attention_mask = batch['attention_mask'].to(device)\n",
    "            labels = batch['labels']\n",
    "\n",
    "            outputs = model(input_ids, attention_mask)\n",
    "            for i, task in enumerate(TASKS):\n",
    "                logits = outputs[task].cpu()\n",
    "                preds = torch.argmax(logits, dim=-1)\n",
    "                y_pred[task].extend(preds.tolist())\n",
    "                y_true[task].extend(labels[:, i].tolist())\n",
    "\n",
    "    return y_true, y_pred\n"
   ]
  },
  {
   "cell_type": "code",
   "execution_count": 3,
   "id": "19092b93",
   "metadata": {},
   "outputs": [],
   "source": [
    "# --- MODIFIED: Load JSON and Separate Tutor Responses ---\n",
    "def load_json_dataset_by_tutor(path):\n",
    "    with open(path, 'r') as f:\n",
    "        raw = json.load(f)\n",
    "\n",
    "    tutor_data = {}\n",
    "    for conv in raw:\n",
    "        for tutor_name, info in conv['tutor_responses'].items():\n",
    "            sample = {\n",
    "                'conversation_id': conv['conversation_id'],\n",
    "                'conversation_history': conv['conversation_history'],\n",
    "                'response': info['response'],\n",
    "                'annotation': info['annotation']\n",
    "            }\n",
    "            tutor_data.setdefault(tutor_name, []).append(sample)\n",
    "    return tutor_data\n",
    "\n",
    "# --- Evaluate Predictions: Exact & Lenient ---\n",
    "def evaluate_predictions(y_pred, y_true):\n",
    "    for task in TASKS:\n",
    "        print(f\"\\n=== {task} ===\")\n",
    "        print(\"-- Exact (3-Class) --\")\n",
    "        print(classification_report(\n",
    "            y_true[task],\n",
    "            y_pred[task],\n",
    "            labels=[0, 1, 2],\n",
    "            target_names=LABELS,\n",
    "            digits=3\n",
    "        ))\n",
    "        print(\"Confusion Matrix:\")\n",
    "        print(confusion_matrix(y_true[task], y_pred[task], labels=[0, 1, 2]))\n",
    "        print(\"Accuracy:\", accuracy_score(y_true[task], y_pred[task]))\n",
    "        print(\"Macro F1:\", f1_score(y_true[task], y_pred[task], average='macro'))\n",
    "        print(\"Micro F1:\", f1_score(y_true[task], y_pred[task], average='micro'))\n",
    "        # Lenient Evaluation (2-Class)\n",
    "        def binarize(labels):\n",
    "            return [0 if l == 0 else 1 for l in labels]  # No = 0, TSE/Yes = 1\n",
    "\n",
    "        y_true_bin = binarize(y_true[task])\n",
    "        y_pred_bin = binarize(y_pred[task])\n",
    "\n",
    "        print(\"-- Lenient (2-Class) --\")\n",
    "        print(classification_report(\n",
    "            y_true_bin,\n",
    "            y_pred_bin,\n",
    "            labels=[0, 1],\n",
    "            target_names=[\"No\", \"Yes/TSE\"],\n",
    "            digits=3\n",
    "        ))\n",
    "        print(\"Confusion Matrix:\")\n",
    "        print(confusion_matrix(y_true_bin, y_pred_bin, labels=[0, 1]))\n",
    "        print(\"Accuracy:\", accuracy_score(y_true_bin, y_pred_bin))\n",
    "        print(\"Macro F1:\", f1_score(y_true_bin, y_pred_bin, average='macro'))\n",
    "        print(\"Micro F1:\", f1_score(y_true_bin, y_pred_bin, average='micro'))\n",
    "\n",
    "# --- Training Function ---\n",
    "def train_model(model, train_loader, val_loader, epochs=25, lr=2e-5, use_focal=True, save_dir=\"models\"):\n",
    "    import os\n",
    "    os.makedirs(save_dir, exist_ok=True)\n",
    "\n",
    "    device = torch.device(\"cuda\" if torch.cuda.is_available() else \"cpu\")\n",
    "    model.to(device)\n",
    "    optimizer = AdamW(model.parameters(), lr=lr)\n",
    "    scheduler = get_scheduler(\"linear\", optimizer=optimizer, num_warmup_steps=0, num_training_steps=len(train_loader) * epochs)\n",
    "\n",
    "    loss_fn = FocalLoss() if use_focal else nn.CrossEntropyLoss()\n",
    "\n",
    "    for epoch in range(epochs):\n",
    "        model.train()\n",
    "        total_loss = 0\n",
    "        for batch in tqdm(train_loader, desc=f\"Training Epoch {epoch+1}\"):\n",
    "            input_ids = batch['input_ids'].to(device)\n",
    "            attention_mask = batch['attention_mask'].to(device)\n",
    "            labels = batch['labels'].to(device)\n",
    "\n",
    "            outputs = model(input_ids, attention_mask)\n",
    "            loss = sum([loss_fn(outputs[task], labels[:, i]) for i, task in enumerate(TASKS)])\n",
    "            loss.backward()\n",
    "            optimizer.step()\n",
    "            scheduler.step()\n",
    "            optimizer.zero_grad()\n",
    "            total_loss += loss.item()\n",
    "\n",
    "        print(f\"Epoch {epoch+1} Loss: {total_loss / len(train_loader):.4f}\")\n",
    "\n",
    "        # 🔒 Save model after each epoch\n",
    "        torch.save(model.state_dict(), os.path.join(save_dir, f\"model.pt\"))\n",
    "\n",
    "    # Evaluate after all epochs (once per tutor)\n",
    "    y_true, y_pred = evaluate_model(model, val_loader)\n",
    "    print(\"\\nFINAL EVALUATION ON VALIDATION SET\")\n",
    "    evaluate_predictions(y_pred, y_true)\n",
    "    return y_true, y_pred"
   ]
  },
  {
   "cell_type": "code",
   "execution_count": null,
   "id": "3d0c1cbe",
   "metadata": {},
   "outputs": [
    {
     "name": "stdout",
     "output_type": "stream",
     "text": [
      "\n",
      "\n",
      "================= TUTOR: Sonnet =================\n"
     ]
    },
    {
     "name": "stderr",
     "output_type": "stream",
     "text": [
      "Some weights of RobertaModel were not initialized from the model checkpoint at roberta-base and are newly initialized: ['roberta.pooler.dense.bias', 'roberta.pooler.dense.weight']\n",
      "You should probably TRAIN this model on a down-stream task to be able to use it for predictions and inference.\n",
      "Training Epoch 1: 100%|██████████| 30/30 [00:13<00:00,  2.20it/s]\n"
     ]
    },
    {
     "name": "stdout",
     "output_type": "stream",
     "text": [
      "Epoch 1 Loss: 1.6083\n"
     ]
    },
    {
     "name": "stderr",
     "output_type": "stream",
     "text": [
      "Training Epoch 2: 100%|██████████| 30/30 [00:10<00:00,  2.86it/s]\n"
     ]
    },
    {
     "name": "stdout",
     "output_type": "stream",
     "text": [
      "Epoch 2 Loss: 1.4304\n"
     ]
    },
    {
     "name": "stderr",
     "output_type": "stream",
     "text": [
      "Training Epoch 3: 100%|██████████| 30/30 [00:10<00:00,  2.87it/s]\n"
     ]
    },
    {
     "name": "stdout",
     "output_type": "stream",
     "text": [
      "Epoch 3 Loss: 1.4491\n"
     ]
    },
    {
     "name": "stderr",
     "output_type": "stream",
     "text": [
      "Training Epoch 4: 100%|██████████| 30/30 [00:10<00:00,  2.87it/s]\n"
     ]
    },
    {
     "name": "stdout",
     "output_type": "stream",
     "text": [
      "Epoch 4 Loss: 1.3627\n"
     ]
    },
    {
     "name": "stderr",
     "output_type": "stream",
     "text": [
      "Training Epoch 5: 100%|██████████| 30/30 [00:10<00:00,  2.90it/s]\n"
     ]
    },
    {
     "name": "stdout",
     "output_type": "stream",
     "text": [
      "Epoch 5 Loss: 1.3089\n"
     ]
    },
    {
     "name": "stderr",
     "output_type": "stream",
     "text": [
      "Training Epoch 6: 100%|██████████| 30/30 [00:10<00:00,  2.88it/s]\n"
     ]
    },
    {
     "name": "stdout",
     "output_type": "stream",
     "text": [
      "Epoch 6 Loss: 1.1901\n"
     ]
    },
    {
     "name": "stderr",
     "output_type": "stream",
     "text": [
      "Training Epoch 7: 100%|██████████| 30/30 [00:10<00:00,  3.00it/s]\n"
     ]
    },
    {
     "name": "stdout",
     "output_type": "stream",
     "text": [
      "Epoch 7 Loss: 0.9865\n"
     ]
    },
    {
     "name": "stderr",
     "output_type": "stream",
     "text": [
      "Training Epoch 8: 100%|██████████| 30/30 [00:11<00:00,  2.57it/s]\n"
     ]
    },
    {
     "name": "stdout",
     "output_type": "stream",
     "text": [
      "Epoch 8 Loss: 0.7570\n"
     ]
    },
    {
     "name": "stderr",
     "output_type": "stream",
     "text": [
      "Training Epoch 9: 100%|██████████| 30/30 [00:11<00:00,  2.67it/s]\n"
     ]
    },
    {
     "name": "stdout",
     "output_type": "stream",
     "text": [
      "Epoch 9 Loss: 0.5198\n"
     ]
    },
    {
     "name": "stderr",
     "output_type": "stream",
     "text": [
      "Training Epoch 10: 100%|██████████| 30/30 [00:11<00:00,  2.70it/s]\n"
     ]
    },
    {
     "name": "stdout",
     "output_type": "stream",
     "text": [
      "Epoch 10 Loss: 0.3814\n"
     ]
    },
    {
     "name": "stderr",
     "output_type": "stream",
     "text": [
      "Training Epoch 11: 100%|██████████| 30/30 [00:11<00:00,  2.60it/s]\n"
     ]
    },
    {
     "name": "stdout",
     "output_type": "stream",
     "text": [
      "Epoch 11 Loss: 0.2730\n"
     ]
    },
    {
     "name": "stderr",
     "output_type": "stream",
     "text": [
      "Training Epoch 12: 100%|██████████| 30/30 [00:11<00:00,  2.71it/s]\n"
     ]
    },
    {
     "name": "stdout",
     "output_type": "stream",
     "text": [
      "Epoch 12 Loss: 0.2456\n"
     ]
    },
    {
     "name": "stderr",
     "output_type": "stream",
     "text": [
      "Training Epoch 13: 100%|██████████| 30/30 [00:11<00:00,  2.69it/s]\n"
     ]
    },
    {
     "name": "stdout",
     "output_type": "stream",
     "text": [
      "Epoch 13 Loss: 0.2186\n"
     ]
    },
    {
     "name": "stderr",
     "output_type": "stream",
     "text": [
      "Training Epoch 14: 100%|██████████| 30/30 [00:11<00:00,  2.68it/s]\n"
     ]
    },
    {
     "name": "stdout",
     "output_type": "stream",
     "text": [
      "Epoch 14 Loss: 0.1791\n"
     ]
    },
    {
     "name": "stderr",
     "output_type": "stream",
     "text": [
      "Training Epoch 15: 100%|██████████| 30/30 [00:11<00:00,  2.69it/s]\n"
     ]
    },
    {
     "name": "stdout",
     "output_type": "stream",
     "text": [
      "Epoch 15 Loss: 0.1344\n"
     ]
    },
    {
     "name": "stderr",
     "output_type": "stream",
     "text": [
      "Training Epoch 16: 100%|██████████| 30/30 [00:11<00:00,  2.57it/s]\n"
     ]
    },
    {
     "name": "stdout",
     "output_type": "stream",
     "text": [
      "Epoch 16 Loss: 0.1034\n"
     ]
    },
    {
     "name": "stderr",
     "output_type": "stream",
     "text": [
      "Training Epoch 17: 100%|██████████| 30/30 [00:11<00:00,  2.68it/s]\n"
     ]
    },
    {
     "name": "stdout",
     "output_type": "stream",
     "text": [
      "Epoch 17 Loss: 0.0915\n"
     ]
    },
    {
     "name": "stderr",
     "output_type": "stream",
     "text": [
      "Training Epoch 18: 100%|██████████| 30/30 [00:11<00:00,  2.66it/s]\n"
     ]
    },
    {
     "name": "stdout",
     "output_type": "stream",
     "text": [
      "Epoch 18 Loss: 0.0721\n"
     ]
    },
    {
     "name": "stderr",
     "output_type": "stream",
     "text": [
      "Training Epoch 19: 100%|██████████| 30/30 [00:11<00:00,  2.69it/s]\n"
     ]
    },
    {
     "name": "stdout",
     "output_type": "stream",
     "text": [
      "Epoch 19 Loss: 0.0562\n"
     ]
    },
    {
     "name": "stderr",
     "output_type": "stream",
     "text": [
      "Training Epoch 20: 100%|██████████| 30/30 [00:10<00:00,  2.74it/s]\n"
     ]
    },
    {
     "name": "stdout",
     "output_type": "stream",
     "text": [
      "Epoch 20 Loss: 0.0528\n"
     ]
    },
    {
     "name": "stderr",
     "output_type": "stream",
     "text": [
      "Training Epoch 21: 100%|██████████| 30/30 [00:11<00:00,  2.55it/s]\n"
     ]
    },
    {
     "name": "stdout",
     "output_type": "stream",
     "text": [
      "Epoch 21 Loss: 0.0385\n"
     ]
    },
    {
     "name": "stderr",
     "output_type": "stream",
     "text": [
      "Training Epoch 22: 100%|██████████| 30/30 [00:11<00:00,  2.67it/s]\n"
     ]
    },
    {
     "name": "stdout",
     "output_type": "stream",
     "text": [
      "Epoch 22 Loss: 0.0275\n"
     ]
    },
    {
     "name": "stderr",
     "output_type": "stream",
     "text": [
      "Training Epoch 23: 100%|██████████| 30/30 [00:11<00:00,  2.70it/s]\n"
     ]
    },
    {
     "name": "stdout",
     "output_type": "stream",
     "text": [
      "Epoch 23 Loss: 0.0205\n"
     ]
    },
    {
     "name": "stderr",
     "output_type": "stream",
     "text": [
      "Training Epoch 24: 100%|██████████| 30/30 [00:11<00:00,  2.59it/s]\n"
     ]
    },
    {
     "name": "stdout",
     "output_type": "stream",
     "text": [
      "Epoch 24 Loss: 0.0259\n"
     ]
    },
    {
     "name": "stderr",
     "output_type": "stream",
     "text": [
      "Training Epoch 25: 100%|██████████| 30/30 [00:11<00:00,  2.70it/s]\n"
     ]
    },
    {
     "name": "stdout",
     "output_type": "stream",
     "text": [
      "Epoch 25 Loss: 0.0216\n"
     ]
    },
    {
     "name": "stderr",
     "output_type": "stream",
     "text": [
      "Training Epoch 26: 100%|██████████| 30/30 [00:11<00:00,  2.66it/s]\n"
     ]
    },
    {
     "name": "stdout",
     "output_type": "stream",
     "text": [
      "Epoch 26 Loss: 0.0159\n"
     ]
    },
    {
     "name": "stderr",
     "output_type": "stream",
     "text": [
      "Training Epoch 27: 100%|██████████| 30/30 [00:11<00:00,  2.61it/s]\n"
     ]
    },
    {
     "name": "stdout",
     "output_type": "stream",
     "text": [
      "Epoch 27 Loss: 0.0099\n"
     ]
    },
    {
     "name": "stderr",
     "output_type": "stream",
     "text": [
      "Training Epoch 28: 100%|██████████| 30/30 [00:11<00:00,  2.69it/s]\n"
     ]
    },
    {
     "name": "stdout",
     "output_type": "stream",
     "text": [
      "Epoch 28 Loss: 0.0095\n"
     ]
    },
    {
     "name": "stderr",
     "output_type": "stream",
     "text": [
      "Training Epoch 29: 100%|██████████| 30/30 [00:11<00:00,  2.58it/s]\n"
     ]
    },
    {
     "name": "stdout",
     "output_type": "stream",
     "text": [
      "Epoch 29 Loss: 0.0092\n"
     ]
    },
    {
     "name": "stderr",
     "output_type": "stream",
     "text": [
      "Training Epoch 30: 100%|██████████| 30/30 [00:11<00:00,  2.69it/s]\n"
     ]
    },
    {
     "name": "stdout",
     "output_type": "stream",
     "text": [
      "Epoch 30 Loss: 0.0078\n"
     ]
    },
    {
     "name": "stderr",
     "output_type": "stream",
     "text": [
      "Training Epoch 31: 100%|██████████| 30/30 [00:11<00:00,  2.63it/s]\n"
     ]
    },
    {
     "name": "stdout",
     "output_type": "stream",
     "text": [
      "Epoch 31 Loss: 0.0065\n"
     ]
    },
    {
     "name": "stderr",
     "output_type": "stream",
     "text": [
      "Training Epoch 32: 100%|██████████| 30/30 [00:11<00:00,  2.65it/s]\n"
     ]
    },
    {
     "name": "stdout",
     "output_type": "stream",
     "text": [
      "Epoch 32 Loss: 0.0077\n"
     ]
    },
    {
     "name": "stderr",
     "output_type": "stream",
     "text": [
      "Training Epoch 33: 100%|██████████| 30/30 [00:11<00:00,  2.59it/s]\n"
     ]
    },
    {
     "name": "stdout",
     "output_type": "stream",
     "text": [
      "Epoch 33 Loss: 0.0063\n"
     ]
    },
    {
     "name": "stderr",
     "output_type": "stream",
     "text": [
      "Training Epoch 34: 100%|██████████| 30/30 [00:10<00:00,  2.73it/s]\n"
     ]
    },
    {
     "name": "stdout",
     "output_type": "stream",
     "text": [
      "Epoch 34 Loss: 0.0050\n"
     ]
    },
    {
     "name": "stderr",
     "output_type": "stream",
     "text": [
      "Training Epoch 35: 100%|██████████| 30/30 [00:11<00:00,  2.72it/s]\n"
     ]
    },
    {
     "name": "stdout",
     "output_type": "stream",
     "text": [
      "Epoch 35 Loss: 0.0061\n"
     ]
    },
    {
     "name": "stderr",
     "output_type": "stream",
     "text": [
      "Training Epoch 36: 100%|██████████| 30/30 [00:11<00:00,  2.68it/s]\n"
     ]
    },
    {
     "name": "stdout",
     "output_type": "stream",
     "text": [
      "Epoch 36 Loss: 0.0052\n"
     ]
    },
    {
     "name": "stderr",
     "output_type": "stream",
     "text": [
      "Training Epoch 37: 100%|██████████| 30/30 [00:11<00:00,  2.63it/s]\n"
     ]
    },
    {
     "name": "stdout",
     "output_type": "stream",
     "text": [
      "Epoch 37 Loss: 0.0047\n"
     ]
    },
    {
     "name": "stderr",
     "output_type": "stream",
     "text": [
      "Training Epoch 38: 100%|██████████| 30/30 [00:11<00:00,  2.62it/s]\n"
     ]
    },
    {
     "name": "stdout",
     "output_type": "stream",
     "text": [
      "Epoch 38 Loss: 0.0047\n"
     ]
    },
    {
     "name": "stderr",
     "output_type": "stream",
     "text": [
      "Training Epoch 39: 100%|██████████| 30/30 [00:11<00:00,  2.67it/s]\n"
     ]
    },
    {
     "name": "stdout",
     "output_type": "stream",
     "text": [
      "Epoch 39 Loss: 0.0047\n"
     ]
    },
    {
     "name": "stderr",
     "output_type": "stream",
     "text": [
      "Training Epoch 40: 100%|██████████| 30/30 [00:11<00:00,  2.60it/s]\n"
     ]
    },
    {
     "name": "stdout",
     "output_type": "stream",
     "text": [
      "Epoch 40 Loss: 0.0049\n"
     ]
    },
    {
     "name": "stderr",
     "output_type": "stream",
     "text": [
      "Training Epoch 41: 100%|██████████| 30/30 [00:11<00:00,  2.64it/s]\n"
     ]
    },
    {
     "name": "stdout",
     "output_type": "stream",
     "text": [
      "Epoch 41 Loss: 0.0040\n"
     ]
    },
    {
     "name": "stderr",
     "output_type": "stream",
     "text": [
      "Training Epoch 42: 100%|██████████| 30/30 [00:11<00:00,  2.65it/s]\n"
     ]
    },
    {
     "name": "stdout",
     "output_type": "stream",
     "text": [
      "Epoch 42 Loss: 0.0039\n"
     ]
    },
    {
     "name": "stderr",
     "output_type": "stream",
     "text": [
      "Training Epoch 43: 100%|██████████| 30/30 [00:11<00:00,  2.67it/s]\n"
     ]
    },
    {
     "name": "stdout",
     "output_type": "stream",
     "text": [
      "Epoch 43 Loss: 0.0041\n"
     ]
    },
    {
     "name": "stderr",
     "output_type": "stream",
     "text": [
      "Training Epoch 44: 100%|██████████| 30/30 [00:11<00:00,  2.65it/s]\n"
     ]
    },
    {
     "name": "stdout",
     "output_type": "stream",
     "text": [
      "Epoch 44 Loss: 0.0037\n"
     ]
    },
    {
     "name": "stderr",
     "output_type": "stream",
     "text": [
      "Training Epoch 45: 100%|██████████| 30/30 [00:11<00:00,  2.67it/s]\n"
     ]
    },
    {
     "name": "stdout",
     "output_type": "stream",
     "text": [
      "Epoch 45 Loss: 0.0040\n"
     ]
    },
    {
     "name": "stderr",
     "output_type": "stream",
     "text": [
      "Training Epoch 46: 100%|██████████| 30/30 [00:11<00:00,  2.65it/s]\n"
     ]
    },
    {
     "name": "stdout",
     "output_type": "stream",
     "text": [
      "Epoch 46 Loss: 0.0033\n"
     ]
    },
    {
     "name": "stderr",
     "output_type": "stream",
     "text": [
      "Training Epoch 47: 100%|██████████| 30/30 [00:11<00:00,  2.64it/s]\n"
     ]
    },
    {
     "name": "stdout",
     "output_type": "stream",
     "text": [
      "Epoch 47 Loss: 0.0036\n"
     ]
    },
    {
     "name": "stderr",
     "output_type": "stream",
     "text": [
      "Training Epoch 48: 100%|██████████| 30/30 [00:11<00:00,  2.63it/s]\n"
     ]
    },
    {
     "name": "stdout",
     "output_type": "stream",
     "text": [
      "Epoch 48 Loss: 0.0038\n"
     ]
    },
    {
     "name": "stderr",
     "output_type": "stream",
     "text": [
      "Training Epoch 49: 100%|██████████| 30/30 [00:11<00:00,  2.64it/s]\n"
     ]
    },
    {
     "name": "stdout",
     "output_type": "stream",
     "text": [
      "Epoch 49 Loss: 0.0033\n"
     ]
    },
    {
     "name": "stderr",
     "output_type": "stream",
     "text": [
      "Training Epoch 50: 100%|██████████| 30/30 [00:11<00:00,  2.63it/s]\n"
     ]
    },
    {
     "name": "stdout",
     "output_type": "stream",
     "text": [
      "Epoch 50 Loss: 0.0038\n",
      "\n",
      "FINAL EVALUATION ON VALIDATION SET\n",
      "\n",
      "=== Mistake_Identification ===\n",
      "-- Exact (3-Class) --\n",
      "                precision    recall  f1-score   support\n",
      "\n",
      "            No      0.000     0.000     0.000         0\n",
      "To some extent      0.000     0.000     0.000         3\n",
      "           Yes      0.944     0.895     0.919        57\n",
      "\n",
      "     micro avg      0.850     0.850     0.850        60\n",
      "     macro avg      0.315     0.298     0.306        60\n",
      "  weighted avg      0.897     0.850     0.873        60\n",
      "\n",
      "Confusion Matrix:\n",
      "[[ 0  0  0]\n",
      " [ 0  0  3]\n",
      " [ 0  6 51]]\n",
      "Accuracy: 0.85\n",
      "Macro F1: 0.4594594594594595\n",
      "Micro F1: 0.85\n",
      "-- Lenient (2-Class) --\n",
      "              precision    recall  f1-score   support\n",
      "\n",
      "          No      0.000     0.000     0.000         0\n",
      "     Yes/TSE      1.000     1.000     1.000        60\n",
      "\n",
      "   micro avg      1.000     1.000     1.000        60\n",
      "   macro avg      0.500     0.500     0.500        60\n",
      "weighted avg      1.000     1.000     1.000        60\n",
      "\n",
      "Confusion Matrix:\n",
      "[[ 0  0]\n",
      " [ 0 60]]\n",
      "Accuracy: 1.0\n",
      "Macro F1: 1.0\n",
      "Micro F1: 1.0\n",
      "\n",
      "=== Mistake_Location ===\n",
      "-- Exact (3-Class) --\n",
      "                precision    recall  f1-score   support\n",
      "\n",
      "            No      0.375     0.300     0.333        10\n",
      "To some extent      0.000     0.000     0.000         7\n",
      "           Yes      0.755     0.860     0.804        43\n",
      "\n",
      "      accuracy                          0.667        60\n",
      "     macro avg      0.377     0.387     0.379        60\n",
      "  weighted avg      0.604     0.667     0.632        60\n",
      "\n",
      "Confusion Matrix:\n",
      "[[ 3  0  7]\n",
      " [ 2  0  5]\n",
      " [ 3  3 37]]\n",
      "Accuracy: 0.6666666666666666\n",
      "Macro F1: 0.3792270531400965\n",
      "Micro F1: 0.6666666666666666\n",
      "-- Lenient (2-Class) --\n",
      "              precision    recall  f1-score   support\n",
      "\n",
      "          No      0.375     0.300     0.333        10\n",
      "     Yes/TSE      0.865     0.900     0.882        50\n",
      "\n",
      "    accuracy                          0.800        60\n",
      "   macro avg      0.620     0.600     0.608        60\n",
      "weighted avg      0.784     0.800     0.791        60\n",
      "\n",
      "Confusion Matrix:\n",
      "[[ 3  7]\n",
      " [ 5 45]]\n",
      "Accuracy: 0.8\n",
      "Macro F1: 0.607843137254902\n",
      "Micro F1: 0.8000000000000002\n",
      "\n",
      "=== Providing_Guidance ===\n",
      "-- Exact (3-Class) --\n",
      "                precision    recall  f1-score   support\n",
      "\n",
      "            No      0.333     0.083     0.133        12\n",
      "To some extent      0.286     0.267     0.276        15\n",
      "           Yes      0.558     0.727     0.632        33\n",
      "\n",
      "      accuracy                          0.483        60\n",
      "     macro avg      0.392     0.359     0.347        60\n",
      "  weighted avg      0.445     0.483     0.443        60\n",
      "\n",
      "Confusion Matrix:\n",
      "[[ 1  2  9]\n",
      " [ 1  4 10]\n",
      " [ 1  8 24]]\n",
      "Accuracy: 0.48333333333333334\n",
      "Macro F1: 0.34692478322242387\n",
      "Micro F1: 0.48333333333333334\n",
      "-- Lenient (2-Class) --\n",
      "              precision    recall  f1-score   support\n",
      "\n",
      "          No      0.333     0.083     0.133        12\n",
      "     Yes/TSE      0.807     0.958     0.876        48\n",
      "\n",
      "    accuracy                          0.783        60\n",
      "   macro avg      0.570     0.521     0.505        60\n",
      "weighted avg      0.712     0.783     0.728        60\n",
      "\n",
      "Confusion Matrix:\n",
      "[[ 1 11]\n",
      " [ 2 46]]\n",
      "Accuracy: 0.7833333333333333\n",
      "Macro F1: 0.5047619047619047\n",
      "Micro F1: 0.7833333333333333\n",
      "\n",
      "=== Actionability ===\n",
      "-- Exact (3-Class) --\n",
      "                precision    recall  f1-score   support\n",
      "\n",
      "            No      0.000     0.000     0.000         6\n",
      "To some extent      0.368     0.333     0.350        21\n",
      "           Yes      0.625     0.758     0.685        33\n",
      "\n",
      "      accuracy                          0.533        60\n",
      "     macro avg      0.331     0.364     0.345        60\n",
      "  weighted avg      0.473     0.533     0.499        60\n",
      "\n",
      "Confusion Matrix:\n",
      "[[ 0  4  2]\n",
      " [ 1  7 13]\n",
      " [ 0  8 25]]\n",
      "Accuracy: 0.5333333333333333\n",
      "Macro F1: 0.34497716894977176\n",
      "Micro F1: 0.5333333333333333\n",
      "-- Lenient (2-Class) --\n",
      "              precision    recall  f1-score   support\n",
      "\n",
      "          No      0.000     0.000     0.000         6\n",
      "     Yes/TSE      0.898     0.981     0.938        54\n",
      "\n",
      "    accuracy                          0.883        60\n",
      "   macro avg      0.449     0.491     0.469        60\n",
      "weighted avg      0.808     0.883     0.844        60\n",
      "\n",
      "Confusion Matrix:\n",
      "[[ 0  6]\n",
      " [ 1 53]]\n",
      "Accuracy: 0.8833333333333333\n",
      "Macro F1: 0.4690265486725664\n",
      "Micro F1: 0.8833333333333333\n",
      "\n",
      "\n",
      "================= TUTOR: Llama318B =================\n"
     ]
    },
    {
     "name": "stderr",
     "output_type": "stream",
     "text": [
      "Some weights of RobertaModel were not initialized from the model checkpoint at roberta-base and are newly initialized: ['roberta.pooler.dense.bias', 'roberta.pooler.dense.weight']\n",
      "You should probably TRAIN this model on a down-stream task to be able to use it for predictions and inference.\n",
      "Training Epoch 1: 100%|██████████| 30/30 [00:11<00:00,  2.58it/s]\n"
     ]
    },
    {
     "name": "stdout",
     "output_type": "stream",
     "text": [
      "Epoch 1 Loss: 1.7346\n"
     ]
    },
    {
     "name": "stderr",
     "output_type": "stream",
     "text": [
      "Training Epoch 2: 100%|██████████| 30/30 [00:11<00:00,  2.67it/s]\n"
     ]
    },
    {
     "name": "stdout",
     "output_type": "stream",
     "text": [
      "Epoch 2 Loss: 1.7212\n"
     ]
    },
    {
     "name": "stderr",
     "output_type": "stream",
     "text": [
      "Training Epoch 3: 100%|██████████| 30/30 [00:11<00:00,  2.68it/s]\n"
     ]
    },
    {
     "name": "stdout",
     "output_type": "stream",
     "text": [
      "Epoch 3 Loss: 1.6099\n"
     ]
    },
    {
     "name": "stderr",
     "output_type": "stream",
     "text": [
      "Training Epoch 4: 100%|██████████| 30/30 [00:11<00:00,  2.70it/s]\n"
     ]
    },
    {
     "name": "stdout",
     "output_type": "stream",
     "text": [
      "Epoch 4 Loss: 1.5874\n"
     ]
    },
    {
     "name": "stderr",
     "output_type": "stream",
     "text": [
      "Training Epoch 5: 100%|██████████| 30/30 [00:11<00:00,  2.59it/s]\n"
     ]
    },
    {
     "name": "stdout",
     "output_type": "stream",
     "text": [
      "Epoch 5 Loss: 1.5446\n"
     ]
    },
    {
     "name": "stderr",
     "output_type": "stream",
     "text": [
      "Training Epoch 6: 100%|██████████| 30/30 [00:11<00:00,  2.69it/s]\n"
     ]
    },
    {
     "name": "stdout",
     "output_type": "stream",
     "text": [
      "Epoch 6 Loss: 1.4796\n"
     ]
    },
    {
     "name": "stderr",
     "output_type": "stream",
     "text": [
      "Training Epoch 7: 100%|██████████| 30/30 [00:11<00:00,  2.63it/s]\n"
     ]
    },
    {
     "name": "stdout",
     "output_type": "stream",
     "text": [
      "Epoch 7 Loss: 1.3941\n"
     ]
    },
    {
     "name": "stderr",
     "output_type": "stream",
     "text": [
      "Training Epoch 8: 100%|██████████| 30/30 [00:10<00:00,  2.75it/s]\n"
     ]
    },
    {
     "name": "stdout",
     "output_type": "stream",
     "text": [
      "Epoch 8 Loss: 1.2377\n"
     ]
    },
    {
     "name": "stderr",
     "output_type": "stream",
     "text": [
      "Training Epoch 9: 100%|██████████| 30/30 [00:11<00:00,  2.60it/s]\n"
     ]
    },
    {
     "name": "stdout",
     "output_type": "stream",
     "text": [
      "Epoch 9 Loss: 1.0716\n"
     ]
    },
    {
     "name": "stderr",
     "output_type": "stream",
     "text": [
      "Training Epoch 10: 100%|██████████| 30/30 [00:11<00:00,  2.71it/s]\n"
     ]
    },
    {
     "name": "stdout",
     "output_type": "stream",
     "text": [
      "Epoch 10 Loss: 0.8740\n"
     ]
    },
    {
     "name": "stderr",
     "output_type": "stream",
     "text": [
      "Training Epoch 11: 100%|██████████| 30/30 [00:11<00:00,  2.60it/s]\n"
     ]
    },
    {
     "name": "stdout",
     "output_type": "stream",
     "text": [
      "Epoch 11 Loss: 0.7105\n"
     ]
    },
    {
     "name": "stderr",
     "output_type": "stream",
     "text": [
      "Training Epoch 12: 100%|██████████| 30/30 [00:11<00:00,  2.71it/s]\n"
     ]
    },
    {
     "name": "stdout",
     "output_type": "stream",
     "text": [
      "Epoch 12 Loss: 0.5541\n"
     ]
    },
    {
     "name": "stderr",
     "output_type": "stream",
     "text": [
      "Training Epoch 13: 100%|██████████| 30/30 [00:11<00:00,  2.60it/s]\n"
     ]
    },
    {
     "name": "stdout",
     "output_type": "stream",
     "text": [
      "Epoch 13 Loss: 0.3634\n"
     ]
    },
    {
     "name": "stderr",
     "output_type": "stream",
     "text": [
      "Training Epoch 14: 100%|██████████| 30/30 [00:11<00:00,  2.61it/s]\n"
     ]
    },
    {
     "name": "stdout",
     "output_type": "stream",
     "text": [
      "Epoch 14 Loss: 0.2248\n"
     ]
    },
    {
     "name": "stderr",
     "output_type": "stream",
     "text": [
      "Training Epoch 15: 100%|██████████| 30/30 [00:11<00:00,  2.63it/s]\n"
     ]
    },
    {
     "name": "stdout",
     "output_type": "stream",
     "text": [
      "Epoch 15 Loss: 0.1595\n"
     ]
    },
    {
     "name": "stderr",
     "output_type": "stream",
     "text": [
      "Training Epoch 16: 100%|██████████| 30/30 [00:11<00:00,  2.62it/s]\n"
     ]
    },
    {
     "name": "stdout",
     "output_type": "stream",
     "text": [
      "Epoch 16 Loss: 0.1551\n"
     ]
    },
    {
     "name": "stderr",
     "output_type": "stream",
     "text": [
      "Training Epoch 17: 100%|██████████| 30/30 [00:11<00:00,  2.56it/s]\n"
     ]
    },
    {
     "name": "stdout",
     "output_type": "stream",
     "text": [
      "Epoch 17 Loss: 0.1022\n"
     ]
    },
    {
     "name": "stderr",
     "output_type": "stream",
     "text": [
      "Training Epoch 18: 100%|██████████| 30/30 [00:11<00:00,  2.58it/s]\n"
     ]
    },
    {
     "name": "stdout",
     "output_type": "stream",
     "text": [
      "Epoch 18 Loss: 0.0800\n"
     ]
    },
    {
     "name": "stderr",
     "output_type": "stream",
     "text": [
      "Training Epoch 19: 100%|██████████| 30/30 [00:11<00:00,  2.70it/s]\n"
     ]
    },
    {
     "name": "stdout",
     "output_type": "stream",
     "text": [
      "Epoch 19 Loss: 0.0831\n"
     ]
    },
    {
     "name": "stderr",
     "output_type": "stream",
     "text": [
      "Training Epoch 20: 100%|██████████| 30/30 [00:11<00:00,  2.54it/s]\n"
     ]
    },
    {
     "name": "stdout",
     "output_type": "stream",
     "text": [
      "Epoch 20 Loss: 0.0499\n"
     ]
    },
    {
     "name": "stderr",
     "output_type": "stream",
     "text": [
      "Training Epoch 21: 100%|██████████| 30/30 [00:11<00:00,  2.58it/s]\n"
     ]
    },
    {
     "name": "stdout",
     "output_type": "stream",
     "text": [
      "Epoch 21 Loss: 0.0387\n"
     ]
    },
    {
     "name": "stderr",
     "output_type": "stream",
     "text": [
      "Training Epoch 22: 100%|██████████| 30/30 [00:11<00:00,  2.62it/s]\n"
     ]
    },
    {
     "name": "stdout",
     "output_type": "stream",
     "text": [
      "Epoch 22 Loss: 0.0344\n"
     ]
    },
    {
     "name": "stderr",
     "output_type": "stream",
     "text": [
      "Training Epoch 23: 100%|██████████| 30/30 [00:11<00:00,  2.66it/s]\n"
     ]
    },
    {
     "name": "stdout",
     "output_type": "stream",
     "text": [
      "Epoch 23 Loss: 0.0352\n"
     ]
    },
    {
     "name": "stderr",
     "output_type": "stream",
     "text": [
      "Training Epoch 24: 100%|██████████| 30/30 [00:11<00:00,  2.56it/s]\n"
     ]
    },
    {
     "name": "stdout",
     "output_type": "stream",
     "text": [
      "Epoch 24 Loss: 0.0263\n"
     ]
    },
    {
     "name": "stderr",
     "output_type": "stream",
     "text": [
      "Training Epoch 25: 100%|██████████| 30/30 [00:07<00:00,  3.77it/s]\n"
     ]
    },
    {
     "name": "stdout",
     "output_type": "stream",
     "text": [
      "Epoch 25 Loss: 0.0227\n"
     ]
    },
    {
     "name": "stderr",
     "output_type": "stream",
     "text": [
      "Training Epoch 26: 100%|██████████| 30/30 [00:10<00:00,  2.85it/s]\n"
     ]
    },
    {
     "name": "stdout",
     "output_type": "stream",
     "text": [
      "Epoch 26 Loss: 0.0206\n"
     ]
    },
    {
     "name": "stderr",
     "output_type": "stream",
     "text": [
      "Training Epoch 27: 100%|██████████| 30/30 [00:10<00:00,  2.86it/s]\n"
     ]
    },
    {
     "name": "stdout",
     "output_type": "stream",
     "text": [
      "Epoch 27 Loss: 0.0184\n"
     ]
    },
    {
     "name": "stderr",
     "output_type": "stream",
     "text": [
      "Training Epoch 28: 100%|██████████| 30/30 [00:10<00:00,  2.84it/s]\n"
     ]
    },
    {
     "name": "stdout",
     "output_type": "stream",
     "text": [
      "Epoch 28 Loss: 0.0153\n"
     ]
    },
    {
     "name": "stderr",
     "output_type": "stream",
     "text": [
      "Training Epoch 29: 100%|██████████| 30/30 [00:10<00:00,  2.85it/s]\n"
     ]
    },
    {
     "name": "stdout",
     "output_type": "stream",
     "text": [
      "Epoch 29 Loss: 0.0140\n"
     ]
    },
    {
     "name": "stderr",
     "output_type": "stream",
     "text": [
      "Training Epoch 30: 100%|██████████| 30/30 [00:09<00:00,  3.17it/s]\n"
     ]
    },
    {
     "name": "stdout",
     "output_type": "stream",
     "text": [
      "Epoch 30 Loss: 0.0118\n"
     ]
    },
    {
     "name": "stderr",
     "output_type": "stream",
     "text": [
      "Training Epoch 31: 100%|██████████| 30/30 [00:11<00:00,  2.71it/s]\n"
     ]
    },
    {
     "name": "stdout",
     "output_type": "stream",
     "text": [
      "Epoch 31 Loss: 0.0139\n"
     ]
    },
    {
     "name": "stderr",
     "output_type": "stream",
     "text": [
      "Training Epoch 32: 100%|██████████| 30/30 [00:11<00:00,  2.62it/s]\n"
     ]
    },
    {
     "name": "stdout",
     "output_type": "stream",
     "text": [
      "Epoch 32 Loss: 0.0138\n"
     ]
    },
    {
     "name": "stderr",
     "output_type": "stream",
     "text": [
      "Training Epoch 33: 100%|██████████| 30/30 [00:11<00:00,  2.71it/s]\n"
     ]
    },
    {
     "name": "stdout",
     "output_type": "stream",
     "text": [
      "Epoch 33 Loss: 0.0111\n"
     ]
    },
    {
     "name": "stderr",
     "output_type": "stream",
     "text": [
      "Training Epoch 34: 100%|██████████| 30/30 [00:11<00:00,  2.60it/s]\n"
     ]
    },
    {
     "name": "stdout",
     "output_type": "stream",
     "text": [
      "Epoch 34 Loss: 0.0111\n"
     ]
    },
    {
     "name": "stderr",
     "output_type": "stream",
     "text": [
      "Training Epoch 35: 100%|██████████| 30/30 [00:11<00:00,  2.63it/s]\n"
     ]
    },
    {
     "name": "stdout",
     "output_type": "stream",
     "text": [
      "Epoch 35 Loss: 0.0092\n"
     ]
    },
    {
     "name": "stderr",
     "output_type": "stream",
     "text": [
      "Training Epoch 36: 100%|██████████| 30/30 [00:11<00:00,  2.62it/s]\n"
     ]
    },
    {
     "name": "stdout",
     "output_type": "stream",
     "text": [
      "Epoch 36 Loss: 0.0083\n"
     ]
    },
    {
     "name": "stderr",
     "output_type": "stream",
     "text": [
      "Training Epoch 37: 100%|██████████| 30/30 [00:11<00:00,  2.63it/s]\n"
     ]
    },
    {
     "name": "stdout",
     "output_type": "stream",
     "text": [
      "Epoch 37 Loss: 0.0089\n"
     ]
    },
    {
     "name": "stderr",
     "output_type": "stream",
     "text": [
      "Training Epoch 38: 100%|██████████| 30/30 [00:11<00:00,  2.64it/s]\n"
     ]
    },
    {
     "name": "stdout",
     "output_type": "stream",
     "text": [
      "Epoch 38 Loss: 0.0089\n"
     ]
    },
    {
     "name": "stderr",
     "output_type": "stream",
     "text": [
      "Training Epoch 39: 100%|██████████| 30/30 [00:11<00:00,  2.60it/s]\n"
     ]
    },
    {
     "name": "stdout",
     "output_type": "stream",
     "text": [
      "Epoch 39 Loss: 0.0081\n"
     ]
    },
    {
     "name": "stderr",
     "output_type": "stream",
     "text": [
      "Training Epoch 40: 100%|██████████| 30/30 [00:11<00:00,  2.63it/s]\n"
     ]
    },
    {
     "name": "stdout",
     "output_type": "stream",
     "text": [
      "Epoch 40 Loss: 0.0083\n"
     ]
    },
    {
     "name": "stderr",
     "output_type": "stream",
     "text": [
      "Training Epoch 41: 100%|██████████| 30/30 [00:11<00:00,  2.57it/s]\n"
     ]
    },
    {
     "name": "stdout",
     "output_type": "stream",
     "text": [
      "Epoch 41 Loss: 0.0079\n"
     ]
    },
    {
     "name": "stderr",
     "output_type": "stream",
     "text": [
      "Training Epoch 42: 100%|██████████| 30/30 [00:11<00:00,  2.65it/s]\n"
     ]
    },
    {
     "name": "stdout",
     "output_type": "stream",
     "text": [
      "Epoch 42 Loss: 0.0080\n"
     ]
    },
    {
     "name": "stderr",
     "output_type": "stream",
     "text": [
      "Training Epoch 43: 100%|██████████| 30/30 [00:11<00:00,  2.61it/s]\n"
     ]
    },
    {
     "name": "stdout",
     "output_type": "stream",
     "text": [
      "Epoch 43 Loss: 0.0073\n"
     ]
    },
    {
     "name": "stderr",
     "output_type": "stream",
     "text": [
      "Training Epoch 44: 100%|██████████| 30/30 [00:11<00:00,  2.66it/s]\n"
     ]
    },
    {
     "name": "stdout",
     "output_type": "stream",
     "text": [
      "Epoch 44 Loss: 0.0085\n"
     ]
    },
    {
     "name": "stderr",
     "output_type": "stream",
     "text": [
      "Training Epoch 45: 100%|██████████| 30/30 [00:11<00:00,  2.63it/s]\n"
     ]
    },
    {
     "name": "stdout",
     "output_type": "stream",
     "text": [
      "Epoch 45 Loss: 0.0075\n"
     ]
    },
    {
     "name": "stderr",
     "output_type": "stream",
     "text": [
      "Training Epoch 46: 100%|██████████| 30/30 [00:11<00:00,  2.62it/s]\n"
     ]
    },
    {
     "name": "stdout",
     "output_type": "stream",
     "text": [
      "Epoch 46 Loss: 0.0062\n"
     ]
    },
    {
     "name": "stderr",
     "output_type": "stream",
     "text": [
      "Training Epoch 47: 100%|██████████| 30/30 [00:11<00:00,  2.63it/s]\n"
     ]
    },
    {
     "name": "stdout",
     "output_type": "stream",
     "text": [
      "Epoch 47 Loss: 0.0061\n"
     ]
    },
    {
     "name": "stderr",
     "output_type": "stream",
     "text": [
      "Training Epoch 48: 100%|██████████| 30/30 [00:11<00:00,  2.65it/s]\n"
     ]
    },
    {
     "name": "stdout",
     "output_type": "stream",
     "text": [
      "Epoch 48 Loss: 0.0058\n"
     ]
    },
    {
     "name": "stderr",
     "output_type": "stream",
     "text": [
      "Training Epoch 49: 100%|██████████| 30/30 [00:11<00:00,  2.63it/s]\n"
     ]
    },
    {
     "name": "stdout",
     "output_type": "stream",
     "text": [
      "Epoch 49 Loss: 0.0063\n"
     ]
    },
    {
     "name": "stderr",
     "output_type": "stream",
     "text": [
      "Training Epoch 50: 100%|██████████| 30/30 [00:11<00:00,  2.71it/s]\n"
     ]
    },
    {
     "name": "stdout",
     "output_type": "stream",
     "text": [
      "Epoch 50 Loss: 0.0072\n",
      "\n",
      "FINAL EVALUATION ON VALIDATION SET\n",
      "\n",
      "=== Mistake_Identification ===\n",
      "-- Exact (3-Class) --\n",
      "                precision    recall  f1-score   support\n",
      "\n",
      "            No      0.000     0.000     0.000         6\n",
      "To some extent      0.000     0.000     0.000         4\n",
      "           Yes      0.831     0.980     0.899        50\n",
      "\n",
      "      accuracy                          0.817        60\n",
      "     macro avg      0.277     0.327     0.300        60\n",
      "  weighted avg      0.692     0.817     0.749        60\n",
      "\n",
      "Confusion Matrix:\n",
      "[[ 0  0  6]\n",
      " [ 0  0  4]\n",
      " [ 0  1 49]]\n",
      "Accuracy: 0.8166666666666667\n",
      "Macro F1: 0.2996941896024465\n",
      "Micro F1: 0.8166666666666667\n",
      "-- Lenient (2-Class) --\n",
      "              precision    recall  f1-score   support\n",
      "\n",
      "          No      0.000     0.000     0.000         6\n",
      "     Yes/TSE      0.900     1.000     0.947        54\n",
      "\n",
      "    accuracy                          0.900        60\n",
      "   macro avg      0.450     0.500     0.474        60\n",
      "weighted avg      0.810     0.900     0.853        60\n",
      "\n",
      "Confusion Matrix:\n",
      "[[ 0  6]\n",
      " [ 0 54]]\n",
      "Accuracy: 0.9\n",
      "Macro F1: 0.4736842105263158\n",
      "Micro F1: 0.9\n",
      "\n",
      "=== Mistake_Location ===\n",
      "-- Exact (3-Class) --\n",
      "                precision    recall  f1-score   support\n",
      "\n",
      "            No      0.412     0.318     0.359        22\n",
      "To some extent      0.000     0.000     0.000         4\n",
      "           Yes      0.658     0.735     0.694        34\n",
      "\n",
      "      accuracy                          0.533        60\n",
      "     macro avg      0.357     0.351     0.351        60\n",
      "  weighted avg      0.524     0.533     0.525        60\n",
      "\n",
      "Confusion Matrix:\n",
      "[[ 7  3 12]\n",
      " [ 3  0  1]\n",
      " [ 7  2 25]]\n",
      "Accuracy: 0.5333333333333333\n",
      "Macro F1: 0.35113960113960113\n",
      "Micro F1: 0.5333333333333333\n",
      "-- Lenient (2-Class) --\n",
      "              precision    recall  f1-score   support\n",
      "\n",
      "          No      0.412     0.318     0.359        22\n",
      "     Yes/TSE      0.651     0.737     0.691        38\n",
      "\n",
      "    accuracy                          0.583        60\n",
      "   macro avg      0.531     0.528     0.525        60\n",
      "weighted avg      0.563     0.583     0.569        60\n",
      "\n",
      "Confusion Matrix:\n",
      "[[ 7 15]\n",
      " [10 28]]\n",
      "Accuracy: 0.5833333333333334\n",
      "Macro F1: 0.5251661918328585\n",
      "Micro F1: 0.5833333333333334\n",
      "\n",
      "=== Providing_Guidance ===\n",
      "-- Exact (3-Class) --\n",
      "                precision    recall  f1-score   support\n",
      "\n",
      "            No      0.333     0.118     0.174        17\n",
      "To some extent      0.417     0.500     0.455        20\n",
      "           Yes      0.400     0.522     0.453        23\n",
      "\n",
      "      accuracy                          0.400        60\n",
      "     macro avg      0.383     0.380     0.360        60\n",
      "  weighted avg      0.387     0.400     0.374        60\n",
      "\n",
      "Confusion Matrix:\n",
      "[[ 2  6  9]\n",
      " [ 1 10  9]\n",
      " [ 3  8 12]]\n",
      "Accuracy: 0.4\n",
      "Macro F1: 0.36042956223432027\n",
      "Micro F1: 0.4000000000000001\n",
      "-- Lenient (2-Class) --\n",
      "              precision    recall  f1-score   support\n",
      "\n",
      "          No      0.333     0.118     0.174        17\n",
      "     Yes/TSE      0.722     0.907     0.804        43\n",
      "\n",
      "    accuracy                          0.683        60\n",
      "   macro avg      0.528     0.512     0.489        60\n",
      "weighted avg      0.612     0.683     0.626        60\n",
      "\n",
      "Confusion Matrix:\n",
      "[[ 2 15]\n",
      " [ 4 39]]\n",
      "Accuracy: 0.6833333333333333\n",
      "Macro F1: 0.4890183774092335\n",
      "Micro F1: 0.6833333333333333\n",
      "\n",
      "=== Actionability ===\n",
      "-- Exact (3-Class) --\n",
      "                precision    recall  f1-score   support\n",
      "\n",
      "            No      0.500     0.500     0.500        26\n",
      "To some extent      0.444     0.400     0.421        10\n",
      "           Yes      0.520     0.542     0.531        24\n",
      "\n",
      "      accuracy                          0.500        60\n",
      "     macro avg      0.488     0.481     0.484        60\n",
      "  weighted avg      0.499     0.500     0.499        60\n",
      "\n",
      "Confusion Matrix:\n",
      "[[13  3 10]\n",
      " [ 4  4  2]\n",
      " [ 9  2 13]]\n",
      "Accuracy: 0.5\n",
      "Macro F1: 0.4838882921589689\n",
      "Micro F1: 0.5\n",
      "-- Lenient (2-Class) --\n",
      "              precision    recall  f1-score   support\n",
      "\n",
      "          No      0.500     0.500     0.500        26\n",
      "     Yes/TSE      0.618     0.618     0.618        34\n",
      "\n",
      "    accuracy                          0.567        60\n",
      "   macro avg      0.559     0.559     0.559        60\n",
      "weighted avg      0.567     0.567     0.567        60\n",
      "\n",
      "Confusion Matrix:\n",
      "[[13 13]\n",
      " [13 21]]\n",
      "Accuracy: 0.5666666666666667\n",
      "Macro F1: 0.5588235294117647\n",
      "Micro F1: 0.5666666666666667\n",
      "\n",
      "\n",
      "================= TUTOR: Llama31405B =================\n"
     ]
    },
    {
     "name": "stderr",
     "output_type": "stream",
     "text": [
      "Some weights of RobertaModel were not initialized from the model checkpoint at roberta-base and are newly initialized: ['roberta.pooler.dense.bias', 'roberta.pooler.dense.weight']\n",
      "You should probably TRAIN this model on a down-stream task to be able to use it for predictions and inference.\n",
      "Training Epoch 1: 100%|██████████| 30/30 [00:11<00:00,  2.62it/s]\n"
     ]
    },
    {
     "name": "stdout",
     "output_type": "stream",
     "text": [
      "Epoch 1 Loss: 1.2424\n"
     ]
    },
    {
     "name": "stderr",
     "output_type": "stream",
     "text": [
      "Training Epoch 2: 100%|██████████| 30/30 [00:11<00:00,  2.60it/s]\n"
     ]
    },
    {
     "name": "stdout",
     "output_type": "stream",
     "text": [
      "Epoch 2 Loss: 0.9617\n"
     ]
    },
    {
     "name": "stderr",
     "output_type": "stream",
     "text": [
      "Training Epoch 3: 100%|██████████| 30/30 [00:16<00:00,  1.84it/s]\n"
     ]
    },
    {
     "name": "stdout",
     "output_type": "stream",
     "text": [
      "Epoch 3 Loss: 0.9691\n"
     ]
    },
    {
     "name": "stderr",
     "output_type": "stream",
     "text": [
      "Training Epoch 4: 100%|██████████| 30/30 [00:16<00:00,  1.78it/s]\n"
     ]
    },
    {
     "name": "stdout",
     "output_type": "stream",
     "text": [
      "Epoch 4 Loss: 0.9302\n"
     ]
    },
    {
     "name": "stderr",
     "output_type": "stream",
     "text": [
      "Training Epoch 5: 100%|██████████| 30/30 [00:16<00:00,  1.80it/s]\n"
     ]
    },
    {
     "name": "stdout",
     "output_type": "stream",
     "text": [
      "Epoch 5 Loss: 0.9020\n"
     ]
    },
    {
     "name": "stderr",
     "output_type": "stream",
     "text": [
      "Training Epoch 6: 100%|██████████| 30/30 [00:17<00:00,  1.73it/s]\n"
     ]
    },
    {
     "name": "stdout",
     "output_type": "stream",
     "text": [
      "Epoch 6 Loss: 0.8049\n"
     ]
    },
    {
     "name": "stderr",
     "output_type": "stream",
     "text": [
      "Training Epoch 7: 100%|██████████| 30/30 [00:16<00:00,  1.81it/s]\n"
     ]
    },
    {
     "name": "stdout",
     "output_type": "stream",
     "text": [
      "Epoch 7 Loss: 0.7127\n"
     ]
    },
    {
     "name": "stderr",
     "output_type": "stream",
     "text": [
      "Training Epoch 8: 100%|██████████| 30/30 [00:16<00:00,  1.81it/s]\n"
     ]
    },
    {
     "name": "stdout",
     "output_type": "stream",
     "text": [
      "Epoch 8 Loss: 0.5826\n"
     ]
    },
    {
     "name": "stderr",
     "output_type": "stream",
     "text": [
      "Training Epoch 9: 100%|██████████| 30/30 [00:16<00:00,  1.82it/s]\n"
     ]
    },
    {
     "name": "stdout",
     "output_type": "stream",
     "text": [
      "Epoch 9 Loss: 0.4735\n"
     ]
    },
    {
     "name": "stderr",
     "output_type": "stream",
     "text": [
      "Training Epoch 10: 100%|██████████| 30/30 [00:16<00:00,  1.82it/s]\n"
     ]
    },
    {
     "name": "stdout",
     "output_type": "stream",
     "text": [
      "Epoch 10 Loss: 0.3382\n"
     ]
    },
    {
     "name": "stderr",
     "output_type": "stream",
     "text": [
      "Training Epoch 11: 100%|██████████| 30/30 [00:16<00:00,  1.81it/s]\n"
     ]
    },
    {
     "name": "stdout",
     "output_type": "stream",
     "text": [
      "Epoch 11 Loss: 0.2189\n"
     ]
    },
    {
     "name": "stderr",
     "output_type": "stream",
     "text": [
      "Training Epoch 12: 100%|██████████| 30/30 [00:16<00:00,  1.79it/s]\n"
     ]
    },
    {
     "name": "stdout",
     "output_type": "stream",
     "text": [
      "Epoch 12 Loss: 0.1805\n"
     ]
    },
    {
     "name": "stderr",
     "output_type": "stream",
     "text": [
      "Training Epoch 13: 100%|██████████| 30/30 [00:16<00:00,  1.82it/s]\n"
     ]
    },
    {
     "name": "stdout",
     "output_type": "stream",
     "text": [
      "Epoch 13 Loss: 0.1255\n"
     ]
    },
    {
     "name": "stderr",
     "output_type": "stream",
     "text": [
      "Training Epoch 14: 100%|██████████| 30/30 [00:16<00:00,  1.78it/s]\n"
     ]
    },
    {
     "name": "stdout",
     "output_type": "stream",
     "text": [
      "Epoch 14 Loss: 0.0782\n"
     ]
    },
    {
     "name": "stderr",
     "output_type": "stream",
     "text": [
      "Training Epoch 15: 100%|██████████| 30/30 [00:16<00:00,  1.81it/s]\n"
     ]
    },
    {
     "name": "stdout",
     "output_type": "stream",
     "text": [
      "Epoch 15 Loss: 0.0599\n"
     ]
    },
    {
     "name": "stderr",
     "output_type": "stream",
     "text": [
      "Training Epoch 16: 100%|██████████| 30/30 [00:16<00:00,  1.79it/s]\n"
     ]
    },
    {
     "name": "stdout",
     "output_type": "stream",
     "text": [
      "Epoch 16 Loss: 0.0564\n"
     ]
    },
    {
     "name": "stderr",
     "output_type": "stream",
     "text": [
      "Training Epoch 17: 100%|██████████| 30/30 [00:16<00:00,  1.80it/s]\n"
     ]
    },
    {
     "name": "stdout",
     "output_type": "stream",
     "text": [
      "Epoch 17 Loss: 0.0276\n"
     ]
    },
    {
     "name": "stderr",
     "output_type": "stream",
     "text": [
      "Training Epoch 18: 100%|██████████| 30/30 [00:16<00:00,  1.78it/s]\n"
     ]
    },
    {
     "name": "stdout",
     "output_type": "stream",
     "text": [
      "Epoch 18 Loss: 0.0208\n"
     ]
    },
    {
     "name": "stderr",
     "output_type": "stream",
     "text": [
      "Training Epoch 19: 100%|██████████| 30/30 [00:16<00:00,  1.81it/s]\n"
     ]
    },
    {
     "name": "stdout",
     "output_type": "stream",
     "text": [
      "Epoch 19 Loss: 0.0144\n"
     ]
    },
    {
     "name": "stderr",
     "output_type": "stream",
     "text": [
      "Training Epoch 20: 100%|██████████| 30/30 [00:16<00:00,  1.84it/s]\n"
     ]
    },
    {
     "name": "stdout",
     "output_type": "stream",
     "text": [
      "Epoch 20 Loss: 0.0095\n"
     ]
    },
    {
     "name": "stderr",
     "output_type": "stream",
     "text": [
      "Training Epoch 21: 100%|██████████| 30/30 [00:14<00:00,  2.00it/s]\n"
     ]
    },
    {
     "name": "stdout",
     "output_type": "stream",
     "text": [
      "Epoch 21 Loss: 0.0088\n"
     ]
    },
    {
     "name": "stderr",
     "output_type": "stream",
     "text": [
      "Training Epoch 22: 100%|██████████| 30/30 [00:16<00:00,  1.80it/s]\n"
     ]
    },
    {
     "name": "stdout",
     "output_type": "stream",
     "text": [
      "Epoch 22 Loss: 0.0068\n"
     ]
    },
    {
     "name": "stderr",
     "output_type": "stream",
     "text": [
      "Training Epoch 23: 100%|██████████| 30/30 [00:16<00:00,  1.81it/s]\n"
     ]
    },
    {
     "name": "stdout",
     "output_type": "stream",
     "text": [
      "Epoch 23 Loss: 0.0061\n"
     ]
    },
    {
     "name": "stderr",
     "output_type": "stream",
     "text": [
      "Training Epoch 24: 100%|██████████| 30/30 [00:16<00:00,  1.85it/s]\n"
     ]
    },
    {
     "name": "stdout",
     "output_type": "stream",
     "text": [
      "Epoch 24 Loss: 0.0063\n"
     ]
    },
    {
     "name": "stderr",
     "output_type": "stream",
     "text": [
      "Training Epoch 25: 100%|██████████| 30/30 [00:16<00:00,  1.79it/s]\n"
     ]
    },
    {
     "name": "stdout",
     "output_type": "stream",
     "text": [
      "Epoch 25 Loss: 0.0050\n"
     ]
    },
    {
     "name": "stderr",
     "output_type": "stream",
     "text": [
      "Training Epoch 26: 100%|██████████| 30/30 [00:16<00:00,  1.80it/s]\n"
     ]
    },
    {
     "name": "stdout",
     "output_type": "stream",
     "text": [
      "Epoch 26 Loss: 0.0048\n"
     ]
    },
    {
     "name": "stderr",
     "output_type": "stream",
     "text": [
      "Training Epoch 27: 100%|██████████| 30/30 [00:16<00:00,  1.82it/s]\n"
     ]
    },
    {
     "name": "stdout",
     "output_type": "stream",
     "text": [
      "Epoch 27 Loss: 0.0064\n"
     ]
    },
    {
     "name": "stderr",
     "output_type": "stream",
     "text": [
      "Training Epoch 28: 100%|██████████| 30/30 [00:16<00:00,  1.85it/s]\n"
     ]
    },
    {
     "name": "stdout",
     "output_type": "stream",
     "text": [
      "Epoch 28 Loss: 0.0055\n"
     ]
    },
    {
     "name": "stderr",
     "output_type": "stream",
     "text": [
      "Training Epoch 29: 100%|██████████| 30/30 [00:11<00:00,  2.65it/s]\n"
     ]
    },
    {
     "name": "stdout",
     "output_type": "stream",
     "text": [
      "Epoch 29 Loss: 0.0048\n"
     ]
    },
    {
     "name": "stderr",
     "output_type": "stream",
     "text": [
      "Training Epoch 30: 100%|██████████| 30/30 [00:11<00:00,  2.61it/s]\n"
     ]
    },
    {
     "name": "stdout",
     "output_type": "stream",
     "text": [
      "Epoch 30 Loss: 0.0047\n"
     ]
    },
    {
     "name": "stderr",
     "output_type": "stream",
     "text": [
      "Training Epoch 31: 100%|██████████| 30/30 [00:11<00:00,  2.66it/s]\n"
     ]
    },
    {
     "name": "stdout",
     "output_type": "stream",
     "text": [
      "Epoch 31 Loss: 0.0038\n"
     ]
    },
    {
     "name": "stderr",
     "output_type": "stream",
     "text": [
      "Training Epoch 32: 100%|██████████| 30/30 [00:11<00:00,  2.53it/s]\n"
     ]
    },
    {
     "name": "stdout",
     "output_type": "stream",
     "text": [
      "Epoch 32 Loss: 0.0031\n"
     ]
    },
    {
     "name": "stderr",
     "output_type": "stream",
     "text": [
      "Training Epoch 33: 100%|██████████| 30/30 [00:11<00:00,  2.70it/s]\n"
     ]
    },
    {
     "name": "stdout",
     "output_type": "stream",
     "text": [
      "Epoch 33 Loss: 0.0031\n"
     ]
    },
    {
     "name": "stderr",
     "output_type": "stream",
     "text": [
      "Training Epoch 34: 100%|██████████| 30/30 [00:11<00:00,  2.52it/s]\n"
     ]
    },
    {
     "name": "stdout",
     "output_type": "stream",
     "text": [
      "Epoch 34 Loss: 0.0034\n"
     ]
    },
    {
     "name": "stderr",
     "output_type": "stream",
     "text": [
      "Training Epoch 35: 100%|██████████| 30/30 [00:11<00:00,  2.57it/s]\n"
     ]
    },
    {
     "name": "stdout",
     "output_type": "stream",
     "text": [
      "Epoch 35 Loss: 0.0029\n"
     ]
    },
    {
     "name": "stderr",
     "output_type": "stream",
     "text": [
      "Training Epoch 36: 100%|██████████| 30/30 [00:11<00:00,  2.60it/s]\n"
     ]
    },
    {
     "name": "stdout",
     "output_type": "stream",
     "text": [
      "Epoch 36 Loss: 0.0023\n"
     ]
    },
    {
     "name": "stderr",
     "output_type": "stream",
     "text": [
      "Training Epoch 37: 100%|██████████| 30/30 [00:10<00:00,  2.73it/s]\n"
     ]
    },
    {
     "name": "stdout",
     "output_type": "stream",
     "text": [
      "Epoch 37 Loss: 0.0022\n"
     ]
    },
    {
     "name": "stderr",
     "output_type": "stream",
     "text": [
      "Training Epoch 38: 100%|██████████| 30/30 [00:11<00:00,  2.56it/s]\n"
     ]
    },
    {
     "name": "stdout",
     "output_type": "stream",
     "text": [
      "Epoch 38 Loss: 0.0024\n"
     ]
    },
    {
     "name": "stderr",
     "output_type": "stream",
     "text": [
      "Training Epoch 39: 100%|██████████| 30/30 [00:11<00:00,  2.57it/s]\n"
     ]
    },
    {
     "name": "stdout",
     "output_type": "stream",
     "text": [
      "Epoch 39 Loss: 0.0026\n"
     ]
    },
    {
     "name": "stderr",
     "output_type": "stream",
     "text": [
      "Training Epoch 40: 100%|██████████| 30/30 [00:11<00:00,  2.67it/s]\n"
     ]
    },
    {
     "name": "stdout",
     "output_type": "stream",
     "text": [
      "Epoch 40 Loss: 0.0023\n"
     ]
    },
    {
     "name": "stderr",
     "output_type": "stream",
     "text": [
      "Training Epoch 41: 100%|██████████| 30/30 [00:11<00:00,  2.71it/s]\n"
     ]
    },
    {
     "name": "stdout",
     "output_type": "stream",
     "text": [
      "Epoch 41 Loss: 0.0024\n"
     ]
    },
    {
     "name": "stderr",
     "output_type": "stream",
     "text": [
      "Training Epoch 42: 100%|██████████| 30/30 [00:11<00:00,  2.60it/s]\n"
     ]
    },
    {
     "name": "stdout",
     "output_type": "stream",
     "text": [
      "Epoch 42 Loss: 0.0024\n"
     ]
    },
    {
     "name": "stderr",
     "output_type": "stream",
     "text": [
      "Training Epoch 43: 100%|██████████| 30/30 [00:11<00:00,  2.56it/s]\n"
     ]
    },
    {
     "name": "stdout",
     "output_type": "stream",
     "text": [
      "Epoch 43 Loss: 0.0023\n"
     ]
    },
    {
     "name": "stderr",
     "output_type": "stream",
     "text": [
      "Training Epoch 44: 100%|██████████| 30/30 [00:11<00:00,  2.65it/s]\n"
     ]
    },
    {
     "name": "stdout",
     "output_type": "stream",
     "text": [
      "Epoch 44 Loss: 0.0020\n"
     ]
    },
    {
     "name": "stderr",
     "output_type": "stream",
     "text": [
      "Training Epoch 45: 100%|██████████| 30/30 [00:11<00:00,  2.52it/s]\n"
     ]
    },
    {
     "name": "stdout",
     "output_type": "stream",
     "text": [
      "Epoch 45 Loss: 0.0020\n"
     ]
    },
    {
     "name": "stderr",
     "output_type": "stream",
     "text": [
      "Training Epoch 46: 100%|██████████| 30/30 [00:11<00:00,  2.60it/s]\n"
     ]
    },
    {
     "name": "stdout",
     "output_type": "stream",
     "text": [
      "Epoch 46 Loss: 0.0021\n"
     ]
    },
    {
     "name": "stderr",
     "output_type": "stream",
     "text": [
      "Training Epoch 47: 100%|██████████| 30/30 [00:11<00:00,  2.56it/s]\n"
     ]
    },
    {
     "name": "stdout",
     "output_type": "stream",
     "text": [
      "Epoch 47 Loss: 0.0020\n"
     ]
    },
    {
     "name": "stderr",
     "output_type": "stream",
     "text": [
      "Training Epoch 48: 100%|██████████| 30/30 [00:11<00:00,  2.64it/s]\n"
     ]
    },
    {
     "name": "stdout",
     "output_type": "stream",
     "text": [
      "Epoch 48 Loss: 0.0020\n"
     ]
    },
    {
     "name": "stderr",
     "output_type": "stream",
     "text": [
      "Training Epoch 49: 100%|██████████| 30/30 [00:11<00:00,  2.60it/s]\n"
     ]
    },
    {
     "name": "stdout",
     "output_type": "stream",
     "text": [
      "Epoch 49 Loss: 0.0026\n"
     ]
    },
    {
     "name": "stderr",
     "output_type": "stream",
     "text": [
      "Training Epoch 50: 100%|██████████| 30/30 [00:11<00:00,  2.54it/s]\n"
     ]
    },
    {
     "name": "stdout",
     "output_type": "stream",
     "text": [
      "Epoch 50 Loss: 0.0025\n",
      "\n",
      "FINAL EVALUATION ON VALIDATION SET\n",
      "\n",
      "=== Mistake_Identification ===\n",
      "-- Exact (3-Class) --\n",
      "                precision    recall  f1-score   support\n",
      "\n",
      "            No      0.000     0.000     0.000         0\n",
      "To some extent      0.000     0.000     0.000         0\n",
      "           Yes      1.000     1.000     1.000        60\n",
      "\n",
      "     micro avg      1.000     1.000     1.000        60\n",
      "     macro avg      0.333     0.333     0.333        60\n",
      "  weighted avg      1.000     1.000     1.000        60\n",
      "\n",
      "Confusion Matrix:\n",
      "[[ 0  0  0]\n",
      " [ 0  0  0]\n",
      " [ 0  0 60]]\n",
      "Accuracy: 1.0\n",
      "Macro F1: 1.0\n",
      "Micro F1: 1.0\n",
      "-- Lenient (2-Class) --\n",
      "              precision    recall  f1-score   support\n",
      "\n",
      "          No      0.000     0.000     0.000         0\n",
      "     Yes/TSE      1.000     1.000     1.000        60\n",
      "\n",
      "   micro avg      1.000     1.000     1.000        60\n",
      "   macro avg      0.500     0.500     0.500        60\n",
      "weighted avg      1.000     1.000     1.000        60\n",
      "\n",
      "Confusion Matrix:\n",
      "[[ 0  0]\n",
      " [ 0 60]]\n",
      "Accuracy: 1.0\n",
      "Macro F1: 1.0\n",
      "Micro F1: 1.0\n",
      "\n",
      "=== Mistake_Location ===\n",
      "-- Exact (3-Class) --\n",
      "                precision    recall  f1-score   support\n",
      "\n",
      "            No      0.000     0.000     0.000         4\n",
      "To some extent      0.000     0.000     0.000         2\n",
      "           Yes      0.895     0.944     0.919        54\n",
      "\n",
      "      accuracy                          0.850        60\n",
      "     macro avg      0.298     0.315     0.306        60\n",
      "  weighted avg      0.805     0.850     0.827        60\n",
      "\n",
      "Confusion Matrix:\n",
      "[[ 0  0  4]\n",
      " [ 0  0  2]\n",
      " [ 0  3 51]]\n",
      "Accuracy: 0.85\n",
      "Macro F1: 0.30630630630630634\n",
      "Micro F1: 0.85\n",
      "-- Lenient (2-Class) --\n",
      "              precision    recall  f1-score   support\n",
      "\n",
      "          No      0.000     0.000     0.000         4\n",
      "     Yes/TSE      0.933     1.000     0.966        56\n",
      "\n",
      "    accuracy                          0.933        60\n",
      "   macro avg      0.467     0.500     0.483        60\n",
      "weighted avg      0.871     0.933     0.901        60\n",
      "\n",
      "Confusion Matrix:\n",
      "[[ 0  4]\n",
      " [ 0 56]]\n",
      "Accuracy: 0.9333333333333333\n",
      "Macro F1: 0.4827586206896552\n",
      "Micro F1: 0.9333333333333333\n",
      "\n",
      "=== Providing_Guidance ===\n",
      "-- Exact (3-Class) --\n",
      "                precision    recall  f1-score   support\n",
      "\n",
      "            No      0.000     0.000     0.000         3\n",
      "To some extent      0.000     0.000     0.000        11\n",
      "           Yes      0.759     0.957     0.846        46\n",
      "\n",
      "      accuracy                          0.733        60\n",
      "     macro avg      0.253     0.319     0.282        60\n",
      "  weighted avg      0.582     0.733     0.649        60\n",
      "\n",
      "Confusion Matrix:\n",
      "[[ 0  0  3]\n",
      " [ 0  0 11]\n",
      " [ 0  2 44]]\n",
      "Accuracy: 0.7333333333333333\n",
      "Macro F1: 0.28205128205128205\n",
      "Micro F1: 0.7333333333333333\n",
      "-- Lenient (2-Class) --\n",
      "              precision    recall  f1-score   support\n",
      "\n",
      "          No      0.000     0.000     0.000         3\n",
      "     Yes/TSE      0.950     1.000     0.974        57\n",
      "\n",
      "    accuracy                          0.950        60\n",
      "   macro avg      0.475     0.500     0.487        60\n",
      "weighted avg      0.902     0.950     0.926        60\n",
      "\n",
      "Confusion Matrix:\n",
      "[[ 0  3]\n",
      " [ 0 57]]\n",
      "Accuracy: 0.95\n",
      "Macro F1: 0.48717948717948717\n",
      "Micro F1: 0.9500000000000001\n",
      "\n",
      "=== Actionability ===\n",
      "-- Exact (3-Class) --\n",
      "                precision    recall  f1-score   support\n",
      "\n",
      "            No      0.571     0.400     0.471        10\n",
      "To some extent      0.000     0.000     0.000         7\n",
      "           Yes      0.774     0.953     0.854        43\n",
      "\n",
      "      accuracy                          0.750        60\n",
      "     macro avg      0.448     0.451     0.442        60\n",
      "  weighted avg      0.650     0.750     0.691        60\n",
      "\n",
      "Confusion Matrix:\n",
      "[[ 4  0  6]\n",
      " [ 1  0  6]\n",
      " [ 2  0 41]]\n",
      "Accuracy: 0.75\n",
      "Macro F1: 0.4415849673202614\n",
      "Micro F1: 0.75\n",
      "-- Lenient (2-Class) --\n",
      "              precision    recall  f1-score   support\n",
      "\n",
      "          No      0.571     0.400     0.471        10\n",
      "     Yes/TSE      0.887     0.940     0.913        50\n",
      "\n",
      "    accuracy                          0.850        60\n",
      "   macro avg      0.729     0.670     0.692        60\n",
      "weighted avg      0.834     0.850     0.839        60\n",
      "\n",
      "Confusion Matrix:\n",
      "[[ 4  6]\n",
      " [ 3 47]]\n",
      "Accuracy: 0.85\n",
      "Macro F1: 0.6916047972587094\n",
      "Micro F1: 0.85\n",
      "\n",
      "\n",
      "================= TUTOR: GPT4 =================\n"
     ]
    },
    {
     "name": "stderr",
     "output_type": "stream",
     "text": [
      "Some weights of RobertaModel were not initialized from the model checkpoint at roberta-base and are newly initialized: ['roberta.pooler.dense.bias', 'roberta.pooler.dense.weight']\n",
      "You should probably TRAIN this model on a down-stream task to be able to use it for predictions and inference.\n",
      "Training Epoch 1: 100%|██████████| 30/30 [00:11<00:00,  2.54it/s]\n"
     ]
    },
    {
     "name": "stdout",
     "output_type": "stream",
     "text": [
      "Epoch 1 Loss: 1.2295\n"
     ]
    },
    {
     "name": "stderr",
     "output_type": "stream",
     "text": [
      "Training Epoch 2: 100%|██████████| 30/30 [00:11<00:00,  2.64it/s]\n"
     ]
    },
    {
     "name": "stdout",
     "output_type": "stream",
     "text": [
      "Epoch 2 Loss: 0.9196\n"
     ]
    },
    {
     "name": "stderr",
     "output_type": "stream",
     "text": [
      "Training Epoch 3: 100%|██████████| 30/30 [00:11<00:00,  2.62it/s]\n"
     ]
    },
    {
     "name": "stdout",
     "output_type": "stream",
     "text": [
      "Epoch 3 Loss: 0.8917\n"
     ]
    },
    {
     "name": "stderr",
     "output_type": "stream",
     "text": [
      "Training Epoch 4: 100%|██████████| 30/30 [00:11<00:00,  2.60it/s]\n"
     ]
    },
    {
     "name": "stdout",
     "output_type": "stream",
     "text": [
      "Epoch 4 Loss: 0.8541\n"
     ]
    },
    {
     "name": "stderr",
     "output_type": "stream",
     "text": [
      "Training Epoch 5: 100%|██████████| 30/30 [00:11<00:00,  2.60it/s]\n"
     ]
    },
    {
     "name": "stdout",
     "output_type": "stream",
     "text": [
      "Epoch 5 Loss: 0.8314\n"
     ]
    },
    {
     "name": "stderr",
     "output_type": "stream",
     "text": [
      "Training Epoch 6: 100%|██████████| 30/30 [00:11<00:00,  2.63it/s]\n"
     ]
    },
    {
     "name": "stdout",
     "output_type": "stream",
     "text": [
      "Epoch 6 Loss: 0.7368\n"
     ]
    },
    {
     "name": "stderr",
     "output_type": "stream",
     "text": [
      "Training Epoch 7: 100%|██████████| 30/30 [00:11<00:00,  2.59it/s]\n"
     ]
    },
    {
     "name": "stdout",
     "output_type": "stream",
     "text": [
      "Epoch 7 Loss: 0.6701\n"
     ]
    },
    {
     "name": "stderr",
     "output_type": "stream",
     "text": [
      "Training Epoch 8: 100%|██████████| 30/30 [00:11<00:00,  2.59it/s]\n"
     ]
    },
    {
     "name": "stdout",
     "output_type": "stream",
     "text": [
      "Epoch 8 Loss: 0.5389\n"
     ]
    },
    {
     "name": "stderr",
     "output_type": "stream",
     "text": [
      "Training Epoch 9: 100%|██████████| 30/30 [00:11<00:00,  2.66it/s]\n"
     ]
    },
    {
     "name": "stdout",
     "output_type": "stream",
     "text": [
      "Epoch 9 Loss: 0.4320\n"
     ]
    },
    {
     "name": "stderr",
     "output_type": "stream",
     "text": [
      "Training Epoch 10: 100%|██████████| 30/30 [00:11<00:00,  2.57it/s]\n"
     ]
    },
    {
     "name": "stdout",
     "output_type": "stream",
     "text": [
      "Epoch 10 Loss: 0.3437\n"
     ]
    },
    {
     "name": "stderr",
     "output_type": "stream",
     "text": [
      "Training Epoch 11: 100%|██████████| 30/30 [00:11<00:00,  2.65it/s]\n"
     ]
    },
    {
     "name": "stdout",
     "output_type": "stream",
     "text": [
      "Epoch 11 Loss: 0.2981\n"
     ]
    },
    {
     "name": "stderr",
     "output_type": "stream",
     "text": [
      "Training Epoch 12: 100%|██████████| 30/30 [00:11<00:00,  2.54it/s]\n"
     ]
    },
    {
     "name": "stdout",
     "output_type": "stream",
     "text": [
      "Epoch 12 Loss: 0.2369\n"
     ]
    },
    {
     "name": "stderr",
     "output_type": "stream",
     "text": [
      "Training Epoch 13: 100%|██████████| 30/30 [00:11<00:00,  2.58it/s]\n"
     ]
    },
    {
     "name": "stdout",
     "output_type": "stream",
     "text": [
      "Epoch 13 Loss: 0.1665\n"
     ]
    },
    {
     "name": "stderr",
     "output_type": "stream",
     "text": [
      "Training Epoch 14: 100%|██████████| 30/30 [00:11<00:00,  2.64it/s]\n"
     ]
    },
    {
     "name": "stdout",
     "output_type": "stream",
     "text": [
      "Epoch 14 Loss: 0.1200\n"
     ]
    },
    {
     "name": "stderr",
     "output_type": "stream",
     "text": [
      "Training Epoch 15: 100%|██████████| 30/30 [00:11<00:00,  2.58it/s]\n"
     ]
    },
    {
     "name": "stdout",
     "output_type": "stream",
     "text": [
      "Epoch 15 Loss: 0.1091\n"
     ]
    },
    {
     "name": "stderr",
     "output_type": "stream",
     "text": [
      "Training Epoch 16: 100%|██████████| 30/30 [00:08<00:00,  3.40it/s]\n"
     ]
    },
    {
     "name": "stdout",
     "output_type": "stream",
     "text": [
      "Epoch 16 Loss: 0.0738\n"
     ]
    },
    {
     "name": "stderr",
     "output_type": "stream",
     "text": [
      "Training Epoch 17: 100%|██████████| 30/30 [00:10<00:00,  2.88it/s]\n"
     ]
    },
    {
     "name": "stdout",
     "output_type": "stream",
     "text": [
      "Epoch 17 Loss: 0.0376\n"
     ]
    },
    {
     "name": "stderr",
     "output_type": "stream",
     "text": [
      "Training Epoch 18: 100%|██████████| 30/30 [00:10<00:00,  2.88it/s]\n"
     ]
    },
    {
     "name": "stdout",
     "output_type": "stream",
     "text": [
      "Epoch 18 Loss: 0.0437\n"
     ]
    },
    {
     "name": "stderr",
     "output_type": "stream",
     "text": [
      "Training Epoch 19: 100%|██████████| 30/30 [00:10<00:00,  2.87it/s]\n"
     ]
    },
    {
     "name": "stdout",
     "output_type": "stream",
     "text": [
      "Epoch 19 Loss: 0.0258\n"
     ]
    },
    {
     "name": "stderr",
     "output_type": "stream",
     "text": [
      "Training Epoch 20: 100%|██████████| 30/30 [00:10<00:00,  2.87it/s]\n"
     ]
    },
    {
     "name": "stdout",
     "output_type": "stream",
     "text": [
      "Epoch 20 Loss: 0.0170\n"
     ]
    },
    {
     "name": "stderr",
     "output_type": "stream",
     "text": [
      "Training Epoch 21: 100%|██████████| 30/30 [00:09<00:00,  3.09it/s]\n"
     ]
    },
    {
     "name": "stdout",
     "output_type": "stream",
     "text": [
      "Epoch 21 Loss: 0.0126\n"
     ]
    },
    {
     "name": "stderr",
     "output_type": "stream",
     "text": [
      "Training Epoch 22: 100%|██████████| 30/30 [00:11<00:00,  2.68it/s]\n"
     ]
    },
    {
     "name": "stdout",
     "output_type": "stream",
     "text": [
      "Epoch 22 Loss: 0.0098\n"
     ]
    },
    {
     "name": "stderr",
     "output_type": "stream",
     "text": [
      "Training Epoch 23: 100%|██████████| 30/30 [00:12<00:00,  2.50it/s]\n"
     ]
    },
    {
     "name": "stdout",
     "output_type": "stream",
     "text": [
      "Epoch 23 Loss: 0.0071\n"
     ]
    },
    {
     "name": "stderr",
     "output_type": "stream",
     "text": [
      "Training Epoch 24: 100%|██████████| 30/30 [00:11<00:00,  2.55it/s]\n"
     ]
    },
    {
     "name": "stdout",
     "output_type": "stream",
     "text": [
      "Epoch 24 Loss: 0.0065\n"
     ]
    },
    {
     "name": "stderr",
     "output_type": "stream",
     "text": [
      "Training Epoch 25: 100%|██████████| 30/30 [00:11<00:00,  2.55it/s]\n"
     ]
    },
    {
     "name": "stdout",
     "output_type": "stream",
     "text": [
      "Epoch 25 Loss: 0.0059\n"
     ]
    },
    {
     "name": "stderr",
     "output_type": "stream",
     "text": [
      "Training Epoch 26: 100%|██████████| 30/30 [00:11<00:00,  2.64it/s]\n"
     ]
    },
    {
     "name": "stdout",
     "output_type": "stream",
     "text": [
      "Epoch 26 Loss: 0.0073\n"
     ]
    },
    {
     "name": "stderr",
     "output_type": "stream",
     "text": [
      "Training Epoch 27: 100%|██████████| 30/30 [00:11<00:00,  2.66it/s]\n"
     ]
    },
    {
     "name": "stdout",
     "output_type": "stream",
     "text": [
      "Epoch 27 Loss: 0.0075\n"
     ]
    },
    {
     "name": "stderr",
     "output_type": "stream",
     "text": [
      "Training Epoch 28: 100%|██████████| 30/30 [00:11<00:00,  2.65it/s]\n"
     ]
    },
    {
     "name": "stdout",
     "output_type": "stream",
     "text": [
      "Epoch 28 Loss: 0.0044\n"
     ]
    },
    {
     "name": "stderr",
     "output_type": "stream",
     "text": [
      "Training Epoch 29: 100%|██████████| 30/30 [00:11<00:00,  2.58it/s]\n"
     ]
    },
    {
     "name": "stdout",
     "output_type": "stream",
     "text": [
      "Epoch 29 Loss: 0.0042\n"
     ]
    },
    {
     "name": "stderr",
     "output_type": "stream",
     "text": [
      "Training Epoch 30: 100%|██████████| 30/30 [00:11<00:00,  2.63it/s]\n"
     ]
    },
    {
     "name": "stdout",
     "output_type": "stream",
     "text": [
      "Epoch 30 Loss: 0.0042\n"
     ]
    },
    {
     "name": "stderr",
     "output_type": "stream",
     "text": [
      "Training Epoch 31: 100%|██████████| 30/30 [00:11<00:00,  2.72it/s]\n"
     ]
    },
    {
     "name": "stdout",
     "output_type": "stream",
     "text": [
      "Epoch 31 Loss: 0.0041\n"
     ]
    },
    {
     "name": "stderr",
     "output_type": "stream",
     "text": [
      "Training Epoch 32: 100%|██████████| 30/30 [00:11<00:00,  2.66it/s]\n"
     ]
    },
    {
     "name": "stdout",
     "output_type": "stream",
     "text": [
      "Epoch 32 Loss: 0.0036\n"
     ]
    },
    {
     "name": "stderr",
     "output_type": "stream",
     "text": [
      "Training Epoch 33: 100%|██████████| 30/30 [00:11<00:00,  2.59it/s]\n"
     ]
    },
    {
     "name": "stdout",
     "output_type": "stream",
     "text": [
      "Epoch 33 Loss: 0.0050\n"
     ]
    },
    {
     "name": "stderr",
     "output_type": "stream",
     "text": [
      "Training Epoch 34: 100%|██████████| 30/30 [00:11<00:00,  2.65it/s]\n"
     ]
    },
    {
     "name": "stdout",
     "output_type": "stream",
     "text": [
      "Epoch 34 Loss: 0.0030\n"
     ]
    },
    {
     "name": "stderr",
     "output_type": "stream",
     "text": [
      "Training Epoch 35: 100%|██████████| 30/30 [00:11<00:00,  2.63it/s]\n"
     ]
    },
    {
     "name": "stdout",
     "output_type": "stream",
     "text": [
      "Epoch 35 Loss: 0.0029\n"
     ]
    },
    {
     "name": "stderr",
     "output_type": "stream",
     "text": [
      "Training Epoch 36: 100%|██████████| 30/30 [00:11<00:00,  2.59it/s]\n"
     ]
    },
    {
     "name": "stdout",
     "output_type": "stream",
     "text": [
      "Epoch 36 Loss: 0.0028\n"
     ]
    },
    {
     "name": "stderr",
     "output_type": "stream",
     "text": [
      "Training Epoch 37: 100%|██████████| 30/30 [00:11<00:00,  2.60it/s]\n"
     ]
    },
    {
     "name": "stdout",
     "output_type": "stream",
     "text": [
      "Epoch 37 Loss: 0.0026\n"
     ]
    },
    {
     "name": "stderr",
     "output_type": "stream",
     "text": [
      "Training Epoch 38: 100%|██████████| 30/30 [00:11<00:00,  2.57it/s]\n"
     ]
    },
    {
     "name": "stdout",
     "output_type": "stream",
     "text": [
      "Epoch 38 Loss: 0.0027\n"
     ]
    },
    {
     "name": "stderr",
     "output_type": "stream",
     "text": [
      "Training Epoch 39: 100%|██████████| 30/30 [00:11<00:00,  2.69it/s]\n"
     ]
    },
    {
     "name": "stdout",
     "output_type": "stream",
     "text": [
      "Epoch 39 Loss: 0.0028\n"
     ]
    },
    {
     "name": "stderr",
     "output_type": "stream",
     "text": [
      "Training Epoch 40: 100%|██████████| 30/30 [00:11<00:00,  2.65it/s]\n"
     ]
    },
    {
     "name": "stdout",
     "output_type": "stream",
     "text": [
      "Epoch 40 Loss: 0.0023\n"
     ]
    },
    {
     "name": "stderr",
     "output_type": "stream",
     "text": [
      "Training Epoch 41: 100%|██████████| 30/30 [00:11<00:00,  2.55it/s]\n"
     ]
    },
    {
     "name": "stdout",
     "output_type": "stream",
     "text": [
      "Epoch 41 Loss: 0.0024\n"
     ]
    },
    {
     "name": "stderr",
     "output_type": "stream",
     "text": [
      "Training Epoch 42: 100%|██████████| 30/30 [00:11<00:00,  2.67it/s]\n"
     ]
    },
    {
     "name": "stdout",
     "output_type": "stream",
     "text": [
      "Epoch 42 Loss: 0.0021\n"
     ]
    },
    {
     "name": "stderr",
     "output_type": "stream",
     "text": [
      "Training Epoch 43: 100%|██████████| 30/30 [00:11<00:00,  2.53it/s]\n"
     ]
    },
    {
     "name": "stdout",
     "output_type": "stream",
     "text": [
      "Epoch 43 Loss: 0.0023\n"
     ]
    },
    {
     "name": "stderr",
     "output_type": "stream",
     "text": [
      "Training Epoch 44: 100%|██████████| 30/30 [00:11<00:00,  2.64it/s]\n"
     ]
    },
    {
     "name": "stdout",
     "output_type": "stream",
     "text": [
      "Epoch 44 Loss: 0.0023\n"
     ]
    },
    {
     "name": "stderr",
     "output_type": "stream",
     "text": [
      "Training Epoch 45: 100%|██████████| 30/30 [00:11<00:00,  2.68it/s]\n"
     ]
    },
    {
     "name": "stdout",
     "output_type": "stream",
     "text": [
      "Epoch 45 Loss: 0.0019\n"
     ]
    },
    {
     "name": "stderr",
     "output_type": "stream",
     "text": [
      "Training Epoch 46: 100%|██████████| 30/30 [00:11<00:00,  2.57it/s]\n"
     ]
    },
    {
     "name": "stdout",
     "output_type": "stream",
     "text": [
      "Epoch 46 Loss: 0.0019\n"
     ]
    },
    {
     "name": "stderr",
     "output_type": "stream",
     "text": [
      "Training Epoch 47: 100%|██████████| 30/30 [00:11<00:00,  2.59it/s]\n"
     ]
    },
    {
     "name": "stdout",
     "output_type": "stream",
     "text": [
      "Epoch 47 Loss: 0.0020\n"
     ]
    },
    {
     "name": "stderr",
     "output_type": "stream",
     "text": [
      "Training Epoch 48: 100%|██████████| 30/30 [00:11<00:00,  2.66it/s]\n"
     ]
    },
    {
     "name": "stdout",
     "output_type": "stream",
     "text": [
      "Epoch 48 Loss: 0.0023\n"
     ]
    },
    {
     "name": "stderr",
     "output_type": "stream",
     "text": [
      "Training Epoch 49: 100%|██████████| 30/30 [00:11<00:00,  2.58it/s]\n"
     ]
    },
    {
     "name": "stdout",
     "output_type": "stream",
     "text": [
      "Epoch 49 Loss: 0.0018\n"
     ]
    },
    {
     "name": "stderr",
     "output_type": "stream",
     "text": [
      "Training Epoch 50: 100%|██████████| 30/30 [00:11<00:00,  2.61it/s]\n"
     ]
    },
    {
     "name": "stdout",
     "output_type": "stream",
     "text": [
      "Epoch 50 Loss: 0.0021\n",
      "\n",
      "FINAL EVALUATION ON VALIDATION SET\n",
      "\n",
      "=== Mistake_Identification ===\n",
      "-- Exact (3-Class) --\n",
      "                precision    recall  f1-score   support\n",
      "\n",
      "            No      0.000     0.000     0.000         3\n",
      "To some extent      0.000     0.000     0.000         0\n",
      "           Yes      0.950     1.000     0.974        57\n",
      "\n",
      "     micro avg      0.950     0.950     0.950        60\n",
      "     macro avg      0.317     0.333     0.325        60\n",
      "  weighted avg      0.902     0.950     0.926        60\n",
      "\n",
      "Confusion Matrix:\n",
      "[[ 0  0  3]\n",
      " [ 0  0  0]\n",
      " [ 0  0 57]]\n",
      "Accuracy: 0.95\n",
      "Macro F1: 0.48717948717948717\n",
      "Micro F1: 0.9500000000000001\n",
      "-- Lenient (2-Class) --\n",
      "              precision    recall  f1-score   support\n",
      "\n",
      "          No      0.000     0.000     0.000         3\n",
      "     Yes/TSE      0.950     1.000     0.974        57\n",
      "\n",
      "    accuracy                          0.950        60\n",
      "   macro avg      0.475     0.500     0.487        60\n",
      "weighted avg      0.902     0.950     0.926        60\n",
      "\n",
      "Confusion Matrix:\n",
      "[[ 0  3]\n",
      " [ 0 57]]\n",
      "Accuracy: 0.95\n",
      "Macro F1: 0.48717948717948717\n",
      "Micro F1: 0.9500000000000001\n",
      "\n",
      "=== Mistake_Location ===\n",
      "-- Exact (3-Class) --\n",
      "                precision    recall  f1-score   support\n",
      "\n",
      "            No      0.200     0.200     0.200         5\n",
      "To some extent      0.000     0.000     0.000         2\n",
      "           Yes      0.904     0.887     0.895        53\n",
      "\n",
      "      accuracy                          0.800        60\n",
      "     macro avg      0.368     0.362     0.365        60\n",
      "  weighted avg      0.815     0.800     0.807        60\n",
      "\n",
      "Confusion Matrix:\n",
      "[[ 1  1  3]\n",
      " [ 0  0  2]\n",
      " [ 4  2 47]]\n",
      "Accuracy: 0.8\n",
      "Macro F1: 0.3650793650793651\n",
      "Micro F1: 0.8000000000000002\n",
      "-- Lenient (2-Class) --\n",
      "              precision    recall  f1-score   support\n",
      "\n",
      "          No      0.200     0.200     0.200         5\n",
      "     Yes/TSE      0.927     0.927     0.927        55\n",
      "\n",
      "    accuracy                          0.867        60\n",
      "   macro avg      0.564     0.564     0.564        60\n",
      "weighted avg      0.867     0.867     0.867        60\n",
      "\n",
      "Confusion Matrix:\n",
      "[[ 1  4]\n",
      " [ 4 51]]\n",
      "Accuracy: 0.8666666666666667\n",
      "Macro F1: 0.5636363636363636\n",
      "Micro F1: 0.8666666666666667\n",
      "\n",
      "=== Providing_Guidance ===\n",
      "-- Exact (3-Class) --\n",
      "                precision    recall  f1-score   support\n",
      "\n",
      "            No      0.400     0.182     0.250        11\n",
      "To some extent      0.400     0.200     0.267        10\n",
      "           Yes      0.660     0.846     0.742        39\n",
      "\n",
      "      accuracy                          0.617        60\n",
      "     macro avg      0.487     0.409     0.419        60\n",
      "  weighted avg      0.569     0.617     0.572        60\n",
      "\n",
      "Confusion Matrix:\n",
      "[[ 2  0  9]\n",
      " [ 0  2  8]\n",
      " [ 3  3 33]]\n",
      "Accuracy: 0.6166666666666667\n",
      "Macro F1: 0.41941323345817727\n",
      "Micro F1: 0.6166666666666667\n",
      "-- Lenient (2-Class) --\n",
      "              precision    recall  f1-score   support\n",
      "\n",
      "          No      0.400     0.182     0.250        11\n",
      "     Yes/TSE      0.836     0.939     0.885        49\n",
      "\n",
      "    accuracy                          0.800        60\n",
      "   macro avg      0.618     0.560     0.567        60\n",
      "weighted avg      0.756     0.800     0.768        60\n",
      "\n",
      "Confusion Matrix:\n",
      "[[ 2  9]\n",
      " [ 3 46]]\n",
      "Accuracy: 0.8\n",
      "Macro F1: 0.5673076923076923\n",
      "Micro F1: 0.8000000000000002\n",
      "\n",
      "=== Actionability ===\n",
      "-- Exact (3-Class) --\n",
      "                precision    recall  f1-score   support\n",
      "\n",
      "            No      0.741     0.606     0.667        33\n",
      "To some extent      0.000     0.000     0.000         4\n",
      "           Yes      0.500     0.696     0.582        23\n",
      "\n",
      "      accuracy                          0.600        60\n",
      "     macro avg      0.414     0.434     0.416        60\n",
      "  weighted avg      0.599     0.600     0.590        60\n",
      "\n",
      "Confusion Matrix:\n",
      "[[20  1 12]\n",
      " [ 0  0  4]\n",
      " [ 7  0 16]]\n",
      "Accuracy: 0.6\n",
      "Macro F1: 0.4161616161616162\n",
      "Micro F1: 0.6\n",
      "-- Lenient (2-Class) --\n",
      "              precision    recall  f1-score   support\n",
      "\n",
      "          No      0.741     0.606     0.667        33\n",
      "     Yes/TSE      0.606     0.741     0.667        27\n",
      "\n",
      "    accuracy                          0.667        60\n",
      "   macro avg      0.673     0.673     0.667        60\n",
      "weighted avg      0.680     0.667     0.667        60\n",
      "\n",
      "Confusion Matrix:\n",
      "[[20 13]\n",
      " [ 7 20]]\n",
      "Accuracy: 0.6666666666666666\n",
      "Macro F1: 0.6666666666666666\n",
      "Micro F1: 0.6666666666666666\n",
      "\n",
      "\n",
      "================= TUTOR: Mistral =================\n"
     ]
    },
    {
     "name": "stderr",
     "output_type": "stream",
     "text": [
      "Some weights of RobertaModel were not initialized from the model checkpoint at roberta-base and are newly initialized: ['roberta.pooler.dense.bias', 'roberta.pooler.dense.weight']\n",
      "You should probably TRAIN this model on a down-stream task to be able to use it for predictions and inference.\n",
      "Training Epoch 1: 100%|██████████| 30/30 [00:11<00:00,  2.58it/s]\n"
     ]
    },
    {
     "name": "stdout",
     "output_type": "stream",
     "text": [
      "Epoch 1 Loss: 1.4585\n"
     ]
    },
    {
     "name": "stderr",
     "output_type": "stream",
     "text": [
      "Training Epoch 2: 100%|██████████| 30/30 [00:11<00:00,  2.58it/s]\n"
     ]
    },
    {
     "name": "stdout",
     "output_type": "stream",
     "text": [
      "Epoch 2 Loss: 1.3334\n"
     ]
    },
    {
     "name": "stderr",
     "output_type": "stream",
     "text": [
      "Training Epoch 3: 100%|██████████| 30/30 [00:11<00:00,  2.54it/s]\n"
     ]
    },
    {
     "name": "stdout",
     "output_type": "stream",
     "text": [
      "Epoch 3 Loss: 1.2749\n"
     ]
    },
    {
     "name": "stderr",
     "output_type": "stream",
     "text": [
      "Training Epoch 4: 100%|██████████| 30/30 [00:11<00:00,  2.61it/s]\n"
     ]
    },
    {
     "name": "stdout",
     "output_type": "stream",
     "text": [
      "Epoch 4 Loss: 1.2519\n"
     ]
    },
    {
     "name": "stderr",
     "output_type": "stream",
     "text": [
      "Training Epoch 5: 100%|██████████| 30/30 [00:11<00:00,  2.64it/s]\n"
     ]
    },
    {
     "name": "stdout",
     "output_type": "stream",
     "text": [
      "Epoch 5 Loss: 1.2174\n"
     ]
    },
    {
     "name": "stderr",
     "output_type": "stream",
     "text": [
      "Training Epoch 6: 100%|██████████| 30/30 [00:11<00:00,  2.61it/s]\n"
     ]
    },
    {
     "name": "stdout",
     "output_type": "stream",
     "text": [
      "Epoch 6 Loss: 1.0736\n"
     ]
    },
    {
     "name": "stderr",
     "output_type": "stream",
     "text": [
      "Training Epoch 7: 100%|██████████| 30/30 [00:11<00:00,  2.59it/s]\n"
     ]
    },
    {
     "name": "stdout",
     "output_type": "stream",
     "text": [
      "Epoch 7 Loss: 0.9208\n"
     ]
    },
    {
     "name": "stderr",
     "output_type": "stream",
     "text": [
      "Training Epoch 8: 100%|██████████| 30/30 [00:11<00:00,  2.58it/s]\n"
     ]
    },
    {
     "name": "stdout",
     "output_type": "stream",
     "text": [
      "Epoch 8 Loss: 0.6972\n"
     ]
    },
    {
     "name": "stderr",
     "output_type": "stream",
     "text": [
      "Training Epoch 9: 100%|██████████| 30/30 [00:10<00:00,  2.74it/s]\n"
     ]
    },
    {
     "name": "stdout",
     "output_type": "stream",
     "text": [
      "Epoch 9 Loss: 0.4484\n"
     ]
    },
    {
     "name": "stderr",
     "output_type": "stream",
     "text": [
      "Training Epoch 10: 100%|██████████| 30/30 [00:11<00:00,  2.62it/s]\n"
     ]
    },
    {
     "name": "stdout",
     "output_type": "stream",
     "text": [
      "Epoch 10 Loss: 0.2985\n"
     ]
    },
    {
     "name": "stderr",
     "output_type": "stream",
     "text": [
      "Training Epoch 11: 100%|██████████| 30/30 [00:11<00:00,  2.57it/s]\n"
     ]
    },
    {
     "name": "stdout",
     "output_type": "stream",
     "text": [
      "Epoch 11 Loss: 0.2271\n"
     ]
    },
    {
     "name": "stderr",
     "output_type": "stream",
     "text": [
      "Training Epoch 12: 100%|██████████| 30/30 [00:11<00:00,  2.56it/s]\n"
     ]
    },
    {
     "name": "stdout",
     "output_type": "stream",
     "text": [
      "Epoch 12 Loss: 0.1631\n"
     ]
    },
    {
     "name": "stderr",
     "output_type": "stream",
     "text": [
      "Training Epoch 13: 100%|██████████| 30/30 [00:11<00:00,  2.70it/s]\n"
     ]
    },
    {
     "name": "stdout",
     "output_type": "stream",
     "text": [
      "Epoch 13 Loss: 0.0956\n"
     ]
    },
    {
     "name": "stderr",
     "output_type": "stream",
     "text": [
      "Training Epoch 14: 100%|██████████| 30/30 [00:10<00:00,  2.73it/s]\n"
     ]
    },
    {
     "name": "stdout",
     "output_type": "stream",
     "text": [
      "Epoch 14 Loss: 0.0679\n"
     ]
    },
    {
     "name": "stderr",
     "output_type": "stream",
     "text": [
      "Training Epoch 15: 100%|██████████| 30/30 [00:12<00:00,  2.46it/s]\n"
     ]
    },
    {
     "name": "stdout",
     "output_type": "stream",
     "text": [
      "Epoch 15 Loss: 0.0481\n"
     ]
    },
    {
     "name": "stderr",
     "output_type": "stream",
     "text": [
      "Training Epoch 16: 100%|██████████| 30/30 [00:11<00:00,  2.55it/s]\n"
     ]
    },
    {
     "name": "stdout",
     "output_type": "stream",
     "text": [
      "Epoch 16 Loss: 0.0327\n"
     ]
    },
    {
     "name": "stderr",
     "output_type": "stream",
     "text": [
      "Training Epoch 17: 100%|██████████| 30/30 [00:11<00:00,  2.68it/s]\n"
     ]
    },
    {
     "name": "stdout",
     "output_type": "stream",
     "text": [
      "Epoch 17 Loss: 0.0268\n"
     ]
    },
    {
     "name": "stderr",
     "output_type": "stream",
     "text": [
      "Training Epoch 18: 100%|██████████| 30/30 [00:11<00:00,  2.55it/s]\n"
     ]
    },
    {
     "name": "stdout",
     "output_type": "stream",
     "text": [
      "Epoch 18 Loss: 0.0249\n"
     ]
    },
    {
     "name": "stderr",
     "output_type": "stream",
     "text": [
      "Training Epoch 19: 100%|██████████| 30/30 [00:11<00:00,  2.65it/s]\n"
     ]
    },
    {
     "name": "stdout",
     "output_type": "stream",
     "text": [
      "Epoch 19 Loss: 0.0188\n"
     ]
    },
    {
     "name": "stderr",
     "output_type": "stream",
     "text": [
      "Training Epoch 20: 100%|██████████| 30/30 [00:11<00:00,  2.65it/s]\n"
     ]
    },
    {
     "name": "stdout",
     "output_type": "stream",
     "text": [
      "Epoch 20 Loss: 0.0160\n"
     ]
    },
    {
     "name": "stderr",
     "output_type": "stream",
     "text": [
      "Training Epoch 21: 100%|██████████| 30/30 [00:11<00:00,  2.57it/s]\n"
     ]
    },
    {
     "name": "stdout",
     "output_type": "stream",
     "text": [
      "Epoch 21 Loss: 0.0140\n"
     ]
    },
    {
     "name": "stderr",
     "output_type": "stream",
     "text": [
      "Training Epoch 22: 100%|██████████| 30/30 [00:11<00:00,  2.63it/s]\n"
     ]
    },
    {
     "name": "stdout",
     "output_type": "stream",
     "text": [
      "Epoch 22 Loss: 0.0122\n"
     ]
    },
    {
     "name": "stderr",
     "output_type": "stream",
     "text": [
      "Training Epoch 23: 100%|██████████| 30/30 [00:11<00:00,  2.66it/s]\n"
     ]
    },
    {
     "name": "stdout",
     "output_type": "stream",
     "text": [
      "Epoch 23 Loss: 0.0113\n"
     ]
    },
    {
     "name": "stderr",
     "output_type": "stream",
     "text": [
      "Training Epoch 24: 100%|██████████| 30/30 [00:11<00:00,  2.69it/s]\n"
     ]
    },
    {
     "name": "stdout",
     "output_type": "stream",
     "text": [
      "Epoch 24 Loss: 0.0075\n"
     ]
    },
    {
     "name": "stderr",
     "output_type": "stream",
     "text": [
      "Training Epoch 25: 100%|██████████| 30/30 [00:11<00:00,  2.65it/s]\n"
     ]
    },
    {
     "name": "stdout",
     "output_type": "stream",
     "text": [
      "Epoch 25 Loss: 0.0065\n"
     ]
    },
    {
     "name": "stderr",
     "output_type": "stream",
     "text": [
      "Training Epoch 26: 100%|██████████| 30/30 [00:12<00:00,  2.49it/s]\n"
     ]
    },
    {
     "name": "stdout",
     "output_type": "stream",
     "text": [
      "Epoch 26 Loss: 0.0074\n"
     ]
    },
    {
     "name": "stderr",
     "output_type": "stream",
     "text": [
      "Training Epoch 27: 100%|██████████| 30/30 [00:11<00:00,  2.61it/s]\n"
     ]
    },
    {
     "name": "stdout",
     "output_type": "stream",
     "text": [
      "Epoch 27 Loss: 0.0055\n"
     ]
    },
    {
     "name": "stderr",
     "output_type": "stream",
     "text": [
      "Training Epoch 28: 100%|██████████| 30/30 [00:11<00:00,  2.60it/s]\n"
     ]
    },
    {
     "name": "stdout",
     "output_type": "stream",
     "text": [
      "Epoch 28 Loss: 0.0060\n"
     ]
    },
    {
     "name": "stderr",
     "output_type": "stream",
     "text": [
      "Training Epoch 29: 100%|██████████| 30/30 [00:11<00:00,  2.63it/s]\n"
     ]
    },
    {
     "name": "stdout",
     "output_type": "stream",
     "text": [
      "Epoch 29 Loss: 0.0070\n"
     ]
    },
    {
     "name": "stderr",
     "output_type": "stream",
     "text": [
      "Training Epoch 30: 100%|██████████| 30/30 [00:11<00:00,  2.71it/s]\n"
     ]
    },
    {
     "name": "stdout",
     "output_type": "stream",
     "text": [
      "Epoch 30 Loss: 0.0059\n"
     ]
    },
    {
     "name": "stderr",
     "output_type": "stream",
     "text": [
      "Training Epoch 31: 100%|██████████| 30/30 [00:11<00:00,  2.72it/s]\n"
     ]
    },
    {
     "name": "stdout",
     "output_type": "stream",
     "text": [
      "Epoch 31 Loss: 0.0059\n"
     ]
    },
    {
     "name": "stderr",
     "output_type": "stream",
     "text": [
      "Training Epoch 32: 100%|██████████| 30/30 [00:11<00:00,  2.66it/s]\n"
     ]
    },
    {
     "name": "stdout",
     "output_type": "stream",
     "text": [
      "Epoch 32 Loss: 0.0057\n"
     ]
    },
    {
     "name": "stderr",
     "output_type": "stream",
     "text": [
      "Training Epoch 33: 100%|██████████| 30/30 [00:11<00:00,  2.71it/s]\n"
     ]
    },
    {
     "name": "stdout",
     "output_type": "stream",
     "text": [
      "Epoch 33 Loss: 0.0042\n"
     ]
    },
    {
     "name": "stderr",
     "output_type": "stream",
     "text": [
      "Training Epoch 34: 100%|██████████| 30/30 [00:11<00:00,  2.66it/s]\n"
     ]
    },
    {
     "name": "stdout",
     "output_type": "stream",
     "text": [
      "Epoch 34 Loss: 0.0041\n"
     ]
    },
    {
     "name": "stderr",
     "output_type": "stream",
     "text": [
      "Training Epoch 35: 100%|██████████| 30/30 [00:11<00:00,  2.52it/s]\n"
     ]
    },
    {
     "name": "stdout",
     "output_type": "stream",
     "text": [
      "Epoch 35 Loss: 0.0043\n"
     ]
    },
    {
     "name": "stderr",
     "output_type": "stream",
     "text": [
      "Training Epoch 36: 100%|██████████| 30/30 [00:11<00:00,  2.56it/s]\n"
     ]
    },
    {
     "name": "stdout",
     "output_type": "stream",
     "text": [
      "Epoch 36 Loss: 0.0041\n"
     ]
    },
    {
     "name": "stderr",
     "output_type": "stream",
     "text": [
      "Training Epoch 37: 100%|██████████| 30/30 [00:12<00:00,  2.49it/s]\n"
     ]
    },
    {
     "name": "stdout",
     "output_type": "stream",
     "text": [
      "Epoch 37 Loss: 0.0044\n"
     ]
    },
    {
     "name": "stderr",
     "output_type": "stream",
     "text": [
      "Training Epoch 38: 100%|██████████| 30/30 [00:11<00:00,  2.65it/s]\n"
     ]
    },
    {
     "name": "stdout",
     "output_type": "stream",
     "text": [
      "Epoch 38 Loss: 0.0040\n"
     ]
    },
    {
     "name": "stderr",
     "output_type": "stream",
     "text": [
      "Training Epoch 39: 100%|██████████| 30/30 [00:11<00:00,  2.57it/s]\n"
     ]
    },
    {
     "name": "stdout",
     "output_type": "stream",
     "text": [
      "Epoch 39 Loss: 0.0036\n"
     ]
    },
    {
     "name": "stderr",
     "output_type": "stream",
     "text": [
      "Training Epoch 40: 100%|██████████| 30/30 [00:11<00:00,  2.72it/s]\n"
     ]
    },
    {
     "name": "stdout",
     "output_type": "stream",
     "text": [
      "Epoch 40 Loss: 0.0040\n"
     ]
    },
    {
     "name": "stderr",
     "output_type": "stream",
     "text": [
      "Training Epoch 41: 100%|██████████| 30/30 [00:11<00:00,  2.65it/s]\n"
     ]
    },
    {
     "name": "stdout",
     "output_type": "stream",
     "text": [
      "Epoch 41 Loss: 0.0033\n"
     ]
    },
    {
     "name": "stderr",
     "output_type": "stream",
     "text": [
      "Training Epoch 42: 100%|██████████| 30/30 [00:08<00:00,  3.37it/s]\n"
     ]
    },
    {
     "name": "stdout",
     "output_type": "stream",
     "text": [
      "Epoch 42 Loss: 0.0031\n"
     ]
    },
    {
     "name": "stderr",
     "output_type": "stream",
     "text": [
      "Training Epoch 43: 100%|██████████| 30/30 [00:10<00:00,  2.88it/s]\n"
     ]
    },
    {
     "name": "stdout",
     "output_type": "stream",
     "text": [
      "Epoch 43 Loss: 0.0037\n"
     ]
    },
    {
     "name": "stderr",
     "output_type": "stream",
     "text": [
      "Training Epoch 44: 100%|██████████| 30/30 [00:10<00:00,  2.78it/s]\n"
     ]
    },
    {
     "name": "stdout",
     "output_type": "stream",
     "text": [
      "Epoch 44 Loss: 0.0031\n"
     ]
    },
    {
     "name": "stderr",
     "output_type": "stream",
     "text": [
      "Training Epoch 45: 100%|██████████| 30/30 [00:10<00:00,  2.80it/s]\n"
     ]
    },
    {
     "name": "stdout",
     "output_type": "stream",
     "text": [
      "Epoch 45 Loss: 0.0031\n"
     ]
    },
    {
     "name": "stderr",
     "output_type": "stream",
     "text": [
      "Training Epoch 46: 100%|██████████| 30/30 [00:10<00:00,  2.88it/s]\n"
     ]
    },
    {
     "name": "stdout",
     "output_type": "stream",
     "text": [
      "Epoch 46 Loss: 0.0030\n"
     ]
    },
    {
     "name": "stderr",
     "output_type": "stream",
     "text": [
      "Training Epoch 47: 100%|██████████| 30/30 [00:11<00:00,  2.70it/s]\n"
     ]
    },
    {
     "name": "stdout",
     "output_type": "stream",
     "text": [
      "Epoch 47 Loss: 0.0031\n"
     ]
    },
    {
     "name": "stderr",
     "output_type": "stream",
     "text": [
      "Training Epoch 48: 100%|██████████| 30/30 [00:11<00:00,  2.63it/s]\n"
     ]
    },
    {
     "name": "stdout",
     "output_type": "stream",
     "text": [
      "Epoch 48 Loss: 0.0030\n"
     ]
    },
    {
     "name": "stderr",
     "output_type": "stream",
     "text": [
      "Training Epoch 49: 100%|██████████| 30/30 [00:11<00:00,  2.65it/s]\n"
     ]
    },
    {
     "name": "stdout",
     "output_type": "stream",
     "text": [
      "Epoch 49 Loss: 0.0031\n"
     ]
    },
    {
     "name": "stderr",
     "output_type": "stream",
     "text": [
      "Training Epoch 50: 100%|██████████| 30/30 [00:12<00:00,  2.46it/s]\n"
     ]
    },
    {
     "name": "stdout",
     "output_type": "stream",
     "text": [
      "Epoch 50 Loss: 0.0028\n",
      "\n",
      "FINAL EVALUATION ON VALIDATION SET\n",
      "\n",
      "=== Mistake_Identification ===\n",
      "-- Exact (3-Class) --\n",
      "                precision    recall  f1-score   support\n",
      "\n",
      "            No      0.000     0.000     0.000         0\n",
      "To some extent      0.000     0.000     0.000         1\n",
      "           Yes      0.982     0.932     0.957        59\n",
      "\n",
      "      accuracy                          0.917        60\n",
      "     macro avg      0.327     0.311     0.319        60\n",
      "  weighted avg      0.966     0.917     0.941        60\n",
      "\n",
      "Confusion Matrix:\n",
      "[[ 0  0  0]\n",
      " [ 0  0  1]\n",
      " [ 1  3 55]]\n",
      "Accuracy: 0.9166666666666666\n",
      "Macro F1: 0.31884057971014496\n",
      "Micro F1: 0.9166666666666666\n",
      "-- Lenient (2-Class) --\n",
      "              precision    recall  f1-score   support\n",
      "\n",
      "          No      0.000     0.000     0.000         0\n",
      "     Yes/TSE      1.000     0.983     0.992        60\n",
      "\n",
      "    accuracy                          0.983        60\n",
      "   macro avg      0.500     0.492     0.496        60\n",
      "weighted avg      1.000     0.983     0.992        60\n",
      "\n",
      "Confusion Matrix:\n",
      "[[ 0  0]\n",
      " [ 1 59]]\n",
      "Accuracy: 0.9833333333333333\n",
      "Macro F1: 0.49579831932773105\n",
      "Micro F1: 0.9833333333333333\n",
      "\n",
      "=== Mistake_Location ===\n",
      "-- Exact (3-Class) --\n",
      "                precision    recall  f1-score   support\n",
      "\n",
      "            No      0.125     0.125     0.125         8\n",
      "To some extent      0.000     0.000     0.000         8\n",
      "           Yes      0.760     0.864     0.809        44\n",
      "\n",
      "      accuracy                          0.650        60\n",
      "     macro avg      0.295     0.330     0.311        60\n",
      "  weighted avg      0.574     0.650     0.610        60\n",
      "\n",
      "Confusion Matrix:\n",
      "[[ 1  0  7]\n",
      " [ 3  0  5]\n",
      " [ 4  2 38]]\n",
      "Accuracy: 0.65\n",
      "Macro F1: 0.31117021276595747\n",
      "Micro F1: 0.65\n",
      "-- Lenient (2-Class) --\n",
      "              precision    recall  f1-score   support\n",
      "\n",
      "          No      0.125     0.125     0.125         8\n",
      "     Yes/TSE      0.865     0.865     0.865        52\n",
      "\n",
      "    accuracy                          0.767        60\n",
      "   macro avg      0.495     0.495     0.495        60\n",
      "weighted avg      0.767     0.767     0.767        60\n",
      "\n",
      "Confusion Matrix:\n",
      "[[ 1  7]\n",
      " [ 7 45]]\n",
      "Accuracy: 0.7666666666666667\n",
      "Macro F1: 0.4951923076923077\n",
      "Micro F1: 0.7666666666666667\n",
      "\n",
      "=== Providing_Guidance ===\n",
      "-- Exact (3-Class) --\n",
      "                precision    recall  f1-score   support\n",
      "\n",
      "            No      0.200     0.154     0.174        13\n",
      "To some extent      0.200     0.067     0.100        15\n",
      "           Yes      0.556     0.781     0.649        32\n",
      "\n",
      "      accuracy                          0.467        60\n",
      "     macro avg      0.319     0.334     0.308        60\n",
      "  weighted avg      0.390     0.467     0.409        60\n",
      "\n",
      "Confusion Matrix:\n",
      "[[ 2  1 10]\n",
      " [ 4  1 10]\n",
      " [ 4  3 25]]\n",
      "Accuracy: 0.4666666666666667\n",
      "Macro F1: 0.3077545642763034\n",
      "Micro F1: 0.4666666666666667\n",
      "-- Lenient (2-Class) --\n",
      "              precision    recall  f1-score   support\n",
      "\n",
      "          No      0.200     0.154     0.174        13\n",
      "     Yes/TSE      0.780     0.830     0.804        47\n",
      "\n",
      "    accuracy                          0.683        60\n",
      "   macro avg      0.490     0.492     0.489        60\n",
      "weighted avg      0.654     0.683     0.668        60\n",
      "\n",
      "Confusion Matrix:\n",
      "[[ 2 11]\n",
      " [ 8 39]]\n",
      "Accuracy: 0.6833333333333333\n",
      "Macro F1: 0.48901837740923354\n",
      "Micro F1: 0.6833333333333333\n",
      "\n",
      "=== Actionability ===\n",
      "-- Exact (3-Class) --\n",
      "                precision    recall  f1-score   support\n",
      "\n",
      "            No      0.200     0.077     0.111        13\n",
      "To some extent      0.250     0.091     0.133        11\n",
      "           Yes      0.608     0.861     0.713        36\n",
      "\n",
      "      accuracy                          0.550        60\n",
      "     macro avg      0.353     0.343     0.319        60\n",
      "  weighted avg      0.454     0.550     0.476        60\n",
      "\n",
      "Confusion Matrix:\n",
      "[[ 1  1 11]\n",
      " [ 1  1  9]\n",
      " [ 3  2 31]]\n",
      "Accuracy: 0.55\n",
      "Macro F1: 0.31902937420178795\n",
      "Micro F1: 0.55\n",
      "-- Lenient (2-Class) --\n",
      "              precision    recall  f1-score   support\n",
      "\n",
      "          No      0.200     0.077     0.111        13\n",
      "     Yes/TSE      0.782     0.915     0.843        47\n",
      "\n",
      "    accuracy                          0.733        60\n",
      "   macro avg      0.491     0.496     0.477        60\n",
      "weighted avg      0.656     0.733     0.685        60\n",
      "\n",
      "Confusion Matrix:\n",
      "[[ 1 12]\n",
      " [ 4 43]]\n",
      "Accuracy: 0.7333333333333333\n",
      "Macro F1: 0.47712418300653603\n",
      "Micro F1: 0.7333333333333333\n",
      "\n",
      "\n",
      "================= TUTOR: Expert =================\n"
     ]
    },
    {
     "name": "stderr",
     "output_type": "stream",
     "text": [
      "Some weights of RobertaModel were not initialized from the model checkpoint at roberta-base and are newly initialized: ['roberta.pooler.dense.bias', 'roberta.pooler.dense.weight']\n",
      "You should probably TRAIN this model on a down-stream task to be able to use it for predictions and inference.\n",
      "Training Epoch 1: 100%|██████████| 30/30 [00:11<00:00,  2.66it/s]\n"
     ]
    },
    {
     "name": "stdout",
     "output_type": "stream",
     "text": [
      "Epoch 1 Loss: 1.4868\n"
     ]
    },
    {
     "name": "stderr",
     "output_type": "stream",
     "text": [
      "Training Epoch 2: 100%|██████████| 30/30 [00:11<00:00,  2.58it/s]\n"
     ]
    },
    {
     "name": "stdout",
     "output_type": "stream",
     "text": [
      "Epoch 2 Loss: 1.4811\n"
     ]
    },
    {
     "name": "stderr",
     "output_type": "stream",
     "text": [
      "Training Epoch 3: 100%|██████████| 30/30 [00:11<00:00,  2.61it/s]\n"
     ]
    },
    {
     "name": "stdout",
     "output_type": "stream",
     "text": [
      "Epoch 3 Loss: 1.3887\n"
     ]
    },
    {
     "name": "stderr",
     "output_type": "stream",
     "text": [
      "Training Epoch 4: 100%|██████████| 30/30 [00:11<00:00,  2.57it/s]\n"
     ]
    },
    {
     "name": "stdout",
     "output_type": "stream",
     "text": [
      "Epoch 4 Loss: 1.3508\n"
     ]
    },
    {
     "name": "stderr",
     "output_type": "stream",
     "text": [
      "Training Epoch 5: 100%|██████████| 30/30 [00:11<00:00,  2.58it/s]\n"
     ]
    },
    {
     "name": "stdout",
     "output_type": "stream",
     "text": [
      "Epoch 5 Loss: 1.3753\n"
     ]
    },
    {
     "name": "stderr",
     "output_type": "stream",
     "text": [
      "Training Epoch 6: 100%|██████████| 30/30 [00:11<00:00,  2.64it/s]\n"
     ]
    },
    {
     "name": "stdout",
     "output_type": "stream",
     "text": [
      "Epoch 6 Loss: 1.2967\n"
     ]
    },
    {
     "name": "stderr",
     "output_type": "stream",
     "text": [
      "Training Epoch 7: 100%|██████████| 30/30 [00:11<00:00,  2.57it/s]\n"
     ]
    },
    {
     "name": "stdout",
     "output_type": "stream",
     "text": [
      "Epoch 7 Loss: 1.2508\n"
     ]
    },
    {
     "name": "stderr",
     "output_type": "stream",
     "text": [
      "Training Epoch 8: 100%|██████████| 30/30 [00:10<00:00,  2.82it/s]\n"
     ]
    },
    {
     "name": "stdout",
     "output_type": "stream",
     "text": [
      "Epoch 8 Loss: 1.2167\n"
     ]
    },
    {
     "name": "stderr",
     "output_type": "stream",
     "text": [
      "Training Epoch 9: 100%|██████████| 30/30 [00:11<00:00,  2.60it/s]\n"
     ]
    },
    {
     "name": "stdout",
     "output_type": "stream",
     "text": [
      "Epoch 9 Loss: 1.1214\n"
     ]
    },
    {
     "name": "stderr",
     "output_type": "stream",
     "text": [
      "Training Epoch 10: 100%|██████████| 30/30 [00:11<00:00,  2.70it/s]\n"
     ]
    },
    {
     "name": "stdout",
     "output_type": "stream",
     "text": [
      "Epoch 10 Loss: 1.0572\n"
     ]
    },
    {
     "name": "stderr",
     "output_type": "stream",
     "text": [
      "Training Epoch 11: 100%|██████████| 30/30 [00:11<00:00,  2.70it/s]\n"
     ]
    },
    {
     "name": "stdout",
     "output_type": "stream",
     "text": [
      "Epoch 11 Loss: 0.9444\n"
     ]
    },
    {
     "name": "stderr",
     "output_type": "stream",
     "text": [
      "Training Epoch 12: 100%|██████████| 30/30 [00:11<00:00,  2.69it/s]\n"
     ]
    },
    {
     "name": "stdout",
     "output_type": "stream",
     "text": [
      "Epoch 12 Loss: 0.7266\n"
     ]
    },
    {
     "name": "stderr",
     "output_type": "stream",
     "text": [
      "Training Epoch 13: 100%|██████████| 30/30 [00:11<00:00,  2.67it/s]\n"
     ]
    },
    {
     "name": "stdout",
     "output_type": "stream",
     "text": [
      "Epoch 13 Loss: 0.6206\n"
     ]
    },
    {
     "name": "stderr",
     "output_type": "stream",
     "text": [
      "Training Epoch 14: 100%|██████████| 30/30 [00:11<00:00,  2.59it/s]\n"
     ]
    },
    {
     "name": "stdout",
     "output_type": "stream",
     "text": [
      "Epoch 14 Loss: 0.5225\n"
     ]
    },
    {
     "name": "stderr",
     "output_type": "stream",
     "text": [
      "Training Epoch 15: 100%|██████████| 30/30 [00:11<00:00,  2.56it/s]\n"
     ]
    },
    {
     "name": "stdout",
     "output_type": "stream",
     "text": [
      "Epoch 15 Loss: 0.4196\n"
     ]
    },
    {
     "name": "stderr",
     "output_type": "stream",
     "text": [
      "Training Epoch 16: 100%|██████████| 30/30 [00:11<00:00,  2.59it/s]\n"
     ]
    },
    {
     "name": "stdout",
     "output_type": "stream",
     "text": [
      "Epoch 16 Loss: 0.3234\n"
     ]
    },
    {
     "name": "stderr",
     "output_type": "stream",
     "text": [
      "Training Epoch 17: 100%|██████████| 30/30 [00:11<00:00,  2.61it/s]\n"
     ]
    },
    {
     "name": "stdout",
     "output_type": "stream",
     "text": [
      "Epoch 17 Loss: 0.2688\n"
     ]
    },
    {
     "name": "stderr",
     "output_type": "stream",
     "text": [
      "Training Epoch 18: 100%|██████████| 30/30 [00:11<00:00,  2.66it/s]\n"
     ]
    },
    {
     "name": "stdout",
     "output_type": "stream",
     "text": [
      "Epoch 18 Loss: 0.2431\n"
     ]
    },
    {
     "name": "stderr",
     "output_type": "stream",
     "text": [
      "Training Epoch 19: 100%|██████████| 30/30 [00:11<00:00,  2.59it/s]\n"
     ]
    },
    {
     "name": "stdout",
     "output_type": "stream",
     "text": [
      "Epoch 19 Loss: 0.1942\n"
     ]
    },
    {
     "name": "stderr",
     "output_type": "stream",
     "text": [
      "Training Epoch 20: 100%|██████████| 30/30 [00:11<00:00,  2.54it/s]\n"
     ]
    },
    {
     "name": "stdout",
     "output_type": "stream",
     "text": [
      "Epoch 20 Loss: 0.1872\n"
     ]
    },
    {
     "name": "stderr",
     "output_type": "stream",
     "text": [
      "Training Epoch 21: 100%|██████████| 30/30 [00:11<00:00,  2.71it/s]\n"
     ]
    },
    {
     "name": "stdout",
     "output_type": "stream",
     "text": [
      "Epoch 21 Loss: 0.1636\n"
     ]
    },
    {
     "name": "stderr",
     "output_type": "stream",
     "text": [
      "Training Epoch 22: 100%|██████████| 30/30 [00:11<00:00,  2.65it/s]\n"
     ]
    },
    {
     "name": "stdout",
     "output_type": "stream",
     "text": [
      "Epoch 22 Loss: 0.1398\n"
     ]
    },
    {
     "name": "stderr",
     "output_type": "stream",
     "text": [
      "Training Epoch 23: 100%|██████████| 30/30 [00:11<00:00,  2.71it/s]\n"
     ]
    },
    {
     "name": "stdout",
     "output_type": "stream",
     "text": [
      "Epoch 23 Loss: 0.1104\n"
     ]
    },
    {
     "name": "stderr",
     "output_type": "stream",
     "text": [
      "Training Epoch 24: 100%|██████████| 30/30 [00:11<00:00,  2.67it/s]\n"
     ]
    },
    {
     "name": "stdout",
     "output_type": "stream",
     "text": [
      "Epoch 24 Loss: 0.1042\n"
     ]
    },
    {
     "name": "stderr",
     "output_type": "stream",
     "text": [
      "Training Epoch 25: 100%|██████████| 30/30 [00:11<00:00,  2.62it/s]\n"
     ]
    },
    {
     "name": "stdout",
     "output_type": "stream",
     "text": [
      "Epoch 25 Loss: 0.0873\n"
     ]
    },
    {
     "name": "stderr",
     "output_type": "stream",
     "text": [
      "Training Epoch 26: 100%|██████████| 30/30 [00:10<00:00,  2.73it/s]\n"
     ]
    },
    {
     "name": "stdout",
     "output_type": "stream",
     "text": [
      "Epoch 26 Loss: 0.0783\n"
     ]
    },
    {
     "name": "stderr",
     "output_type": "stream",
     "text": [
      "Training Epoch 27: 100%|██████████| 30/30 [00:11<00:00,  2.63it/s]\n"
     ]
    },
    {
     "name": "stdout",
     "output_type": "stream",
     "text": [
      "Epoch 27 Loss: 0.0600\n"
     ]
    },
    {
     "name": "stderr",
     "output_type": "stream",
     "text": [
      "Training Epoch 28: 100%|██████████| 30/30 [00:11<00:00,  2.61it/s]\n"
     ]
    },
    {
     "name": "stdout",
     "output_type": "stream",
     "text": [
      "Epoch 28 Loss: 0.0650\n"
     ]
    },
    {
     "name": "stderr",
     "output_type": "stream",
     "text": [
      "Training Epoch 29: 100%|██████████| 30/30 [00:11<00:00,  2.68it/s]\n"
     ]
    },
    {
     "name": "stdout",
     "output_type": "stream",
     "text": [
      "Epoch 29 Loss: 0.0599\n"
     ]
    },
    {
     "name": "stderr",
     "output_type": "stream",
     "text": [
      "Training Epoch 30: 100%|██████████| 30/30 [00:11<00:00,  2.61it/s]\n"
     ]
    },
    {
     "name": "stdout",
     "output_type": "stream",
     "text": [
      "Epoch 30 Loss: 0.0574\n"
     ]
    },
    {
     "name": "stderr",
     "output_type": "stream",
     "text": [
      "Training Epoch 31: 100%|██████████| 30/30 [00:11<00:00,  2.65it/s]\n"
     ]
    },
    {
     "name": "stdout",
     "output_type": "stream",
     "text": [
      "Epoch 31 Loss: 0.0494\n"
     ]
    },
    {
     "name": "stderr",
     "output_type": "stream",
     "text": [
      "Training Epoch 32: 100%|██████████| 30/30 [00:11<00:00,  2.62it/s]\n"
     ]
    },
    {
     "name": "stdout",
     "output_type": "stream",
     "text": [
      "Epoch 32 Loss: 0.0476\n"
     ]
    },
    {
     "name": "stderr",
     "output_type": "stream",
     "text": [
      "Training Epoch 33: 100%|██████████| 30/30 [00:11<00:00,  2.65it/s]\n"
     ]
    },
    {
     "name": "stdout",
     "output_type": "stream",
     "text": [
      "Epoch 33 Loss: 0.0391\n"
     ]
    },
    {
     "name": "stderr",
     "output_type": "stream",
     "text": [
      "Training Epoch 34: 100%|██████████| 30/30 [00:11<00:00,  2.63it/s]\n"
     ]
    },
    {
     "name": "stdout",
     "output_type": "stream",
     "text": [
      "Epoch 34 Loss: 0.0411\n"
     ]
    },
    {
     "name": "stderr",
     "output_type": "stream",
     "text": [
      "Training Epoch 35: 100%|██████████| 30/30 [00:11<00:00,  2.66it/s]\n"
     ]
    },
    {
     "name": "stdout",
     "output_type": "stream",
     "text": [
      "Epoch 35 Loss: 0.0337\n"
     ]
    },
    {
     "name": "stderr",
     "output_type": "stream",
     "text": [
      "Training Epoch 36: 100%|██████████| 30/30 [00:11<00:00,  2.66it/s]\n"
     ]
    },
    {
     "name": "stdout",
     "output_type": "stream",
     "text": [
      "Epoch 36 Loss: 0.0315\n"
     ]
    },
    {
     "name": "stderr",
     "output_type": "stream",
     "text": [
      "Training Epoch 37: 100%|██████████| 30/30 [00:11<00:00,  2.73it/s]\n"
     ]
    },
    {
     "name": "stdout",
     "output_type": "stream",
     "text": [
      "Epoch 37 Loss: 0.0337\n"
     ]
    },
    {
     "name": "stderr",
     "output_type": "stream",
     "text": [
      "Training Epoch 38: 100%|██████████| 30/30 [00:11<00:00,  2.61it/s]\n"
     ]
    },
    {
     "name": "stdout",
     "output_type": "stream",
     "text": [
      "Epoch 38 Loss: 0.0275\n"
     ]
    },
    {
     "name": "stderr",
     "output_type": "stream",
     "text": [
      "Training Epoch 39: 100%|██████████| 30/30 [00:11<00:00,  2.70it/s]\n"
     ]
    },
    {
     "name": "stdout",
     "output_type": "stream",
     "text": [
      "Epoch 39 Loss: 0.0312\n"
     ]
    },
    {
     "name": "stderr",
     "output_type": "stream",
     "text": [
      "Training Epoch 40: 100%|██████████| 30/30 [00:11<00:00,  2.64it/s]\n"
     ]
    },
    {
     "name": "stdout",
     "output_type": "stream",
     "text": [
      "Epoch 40 Loss: 0.0273\n"
     ]
    },
    {
     "name": "stderr",
     "output_type": "stream",
     "text": [
      "Training Epoch 41: 100%|██████████| 30/30 [00:11<00:00,  2.62it/s]\n"
     ]
    },
    {
     "name": "stdout",
     "output_type": "stream",
     "text": [
      "Epoch 41 Loss: 0.0214\n"
     ]
    },
    {
     "name": "stderr",
     "output_type": "stream",
     "text": [
      "Training Epoch 42: 100%|██████████| 30/30 [00:11<00:00,  2.72it/s]\n"
     ]
    },
    {
     "name": "stdout",
     "output_type": "stream",
     "text": [
      "Epoch 42 Loss: 0.0238\n"
     ]
    },
    {
     "name": "stderr",
     "output_type": "stream",
     "text": [
      "Training Epoch 43: 100%|██████████| 30/30 [00:11<00:00,  2.68it/s]\n"
     ]
    },
    {
     "name": "stdout",
     "output_type": "stream",
     "text": [
      "Epoch 43 Loss: 0.0263\n"
     ]
    },
    {
     "name": "stderr",
     "output_type": "stream",
     "text": [
      "Training Epoch 44: 100%|██████████| 30/30 [00:11<00:00,  2.67it/s]\n"
     ]
    },
    {
     "name": "stdout",
     "output_type": "stream",
     "text": [
      "Epoch 44 Loss: 0.0189\n"
     ]
    },
    {
     "name": "stderr",
     "output_type": "stream",
     "text": [
      "Training Epoch 45: 100%|██████████| 30/30 [00:11<00:00,  2.59it/s]\n"
     ]
    },
    {
     "name": "stdout",
     "output_type": "stream",
     "text": [
      "Epoch 45 Loss: 0.0195\n"
     ]
    },
    {
     "name": "stderr",
     "output_type": "stream",
     "text": [
      "Training Epoch 46: 100%|██████████| 30/30 [00:11<00:00,  2.67it/s]\n"
     ]
    },
    {
     "name": "stdout",
     "output_type": "stream",
     "text": [
      "Epoch 46 Loss: 0.0200\n"
     ]
    },
    {
     "name": "stderr",
     "output_type": "stream",
     "text": [
      "Training Epoch 47: 100%|██████████| 30/30 [00:11<00:00,  2.66it/s]\n"
     ]
    },
    {
     "name": "stdout",
     "output_type": "stream",
     "text": [
      "Epoch 47 Loss: 0.0199\n"
     ]
    },
    {
     "name": "stderr",
     "output_type": "stream",
     "text": [
      "Training Epoch 48: 100%|██████████| 30/30 [00:11<00:00,  2.69it/s]\n"
     ]
    },
    {
     "name": "stdout",
     "output_type": "stream",
     "text": [
      "Epoch 48 Loss: 0.0201\n"
     ]
    },
    {
     "name": "stderr",
     "output_type": "stream",
     "text": [
      "Training Epoch 49: 100%|██████████| 30/30 [00:11<00:00,  2.63it/s]\n"
     ]
    },
    {
     "name": "stdout",
     "output_type": "stream",
     "text": [
      "Epoch 49 Loss: 0.0180\n"
     ]
    },
    {
     "name": "stderr",
     "output_type": "stream",
     "text": [
      "Training Epoch 50: 100%|██████████| 30/30 [00:11<00:00,  2.61it/s]\n"
     ]
    },
    {
     "name": "stdout",
     "output_type": "stream",
     "text": [
      "Epoch 50 Loss: 0.0168\n",
      "\n",
      "FINAL EVALUATION ON VALIDATION SET\n",
      "\n",
      "=== Mistake_Identification ===\n",
      "-- Exact (3-Class) --\n",
      "                precision    recall  f1-score   support\n",
      "\n",
      "            No      0.000     0.000     0.000         2\n",
      "To some extent      0.000     0.000     0.000         9\n",
      "           Yes      0.784     0.816     0.800        49\n",
      "\n",
      "      accuracy                          0.667        60\n",
      "     macro avg      0.261     0.272     0.267        60\n",
      "  weighted avg      0.641     0.667     0.653        60\n",
      "\n",
      "Confusion Matrix:\n",
      "[[ 0  0  2]\n",
      " [ 0  0  9]\n",
      " [ 1  8 40]]\n",
      "Accuracy: 0.6666666666666666\n",
      "Macro F1: 0.26666666666666666\n",
      "Micro F1: 0.6666666666666666\n",
      "-- Lenient (2-Class) --\n",
      "              precision    recall  f1-score   support\n",
      "\n",
      "          No      0.000     0.000     0.000         2\n",
      "     Yes/TSE      0.966     0.983     0.974        58\n",
      "\n",
      "    accuracy                          0.950        60\n",
      "   macro avg      0.483     0.491     0.487        60\n",
      "weighted avg      0.934     0.950     0.942        60\n",
      "\n",
      "Confusion Matrix:\n",
      "[[ 0  2]\n",
      " [ 1 57]]\n",
      "Accuracy: 0.95\n",
      "Macro F1: 0.48717948717948717\n",
      "Micro F1: 0.9500000000000001\n",
      "\n",
      "=== Mistake_Location ===\n",
      "-- Exact (3-Class) --\n",
      "                precision    recall  f1-score   support\n",
      "\n",
      "            No      0.200     0.333     0.250         9\n",
      "To some extent      0.000     0.000     0.000        10\n",
      "           Yes      0.714     0.732     0.723        41\n",
      "\n",
      "      accuracy                          0.550        60\n",
      "     macro avg      0.305     0.355     0.324        60\n",
      "  weighted avg      0.518     0.550     0.531        60\n",
      "\n",
      "Confusion Matrix:\n",
      "[[ 3  1  5]\n",
      " [ 3  0  7]\n",
      " [ 9  2 30]]\n",
      "Accuracy: 0.55\n",
      "Macro F1: 0.3242971887550201\n",
      "Micro F1: 0.55\n",
      "-- Lenient (2-Class) --\n",
      "              precision    recall  f1-score   support\n",
      "\n",
      "          No      0.200     0.333     0.250         9\n",
      "     Yes/TSE      0.867     0.765     0.812        51\n",
      "\n",
      "    accuracy                          0.700        60\n",
      "   macro avg      0.533     0.549     0.531        60\n",
      "weighted avg      0.767     0.700     0.728        60\n",
      "\n",
      "Confusion Matrix:\n",
      "[[ 3  6]\n",
      " [12 39]]\n",
      "Accuracy: 0.7\n",
      "Macro F1: 0.53125\n",
      "Micro F1: 0.7\n",
      "\n",
      "=== Providing_Guidance ===\n",
      "-- Exact (3-Class) --\n",
      "                precision    recall  f1-score   support\n",
      "\n",
      "            No      0.250     0.333     0.286         6\n",
      "To some extent      0.400     0.500     0.444         8\n",
      "           Yes      0.810     0.739     0.773        46\n",
      "\n",
      "      accuracy                          0.667        60\n",
      "     macro avg      0.487     0.524     0.501        60\n",
      "  weighted avg      0.699     0.667     0.680        60\n",
      "\n",
      "Confusion Matrix:\n",
      "[[ 2  0  4]\n",
      " [ 0  4  4]\n",
      " [ 6  6 34]]\n",
      "Accuracy: 0.6666666666666666\n",
      "Macro F1: 0.5009620009620009\n",
      "Micro F1: 0.6666666666666666\n",
      "-- Lenient (2-Class) --\n",
      "              precision    recall  f1-score   support\n",
      "\n",
      "          No      0.250     0.333     0.286         6\n",
      "     Yes/TSE      0.923     0.889     0.906        54\n",
      "\n",
      "    accuracy                          0.833        60\n",
      "   macro avg      0.587     0.611     0.596        60\n",
      "weighted avg      0.856     0.833     0.844        60\n",
      "\n",
      "Confusion Matrix:\n",
      "[[ 2  4]\n",
      " [ 6 48]]\n",
      "Accuracy: 0.8333333333333334\n",
      "Macro F1: 0.5956873315363882\n",
      "Micro F1: 0.8333333333333334\n",
      "\n",
      "=== Actionability ===\n",
      "-- Exact (3-Class) --\n",
      "                precision    recall  f1-score   support\n",
      "\n",
      "            No      0.000     0.000     0.000         2\n",
      "To some extent      0.000     0.000     0.000        10\n",
      "           Yes      0.782     0.896     0.835        48\n",
      "\n",
      "      accuracy                          0.717        60\n",
      "     macro avg      0.261     0.299     0.278        60\n",
      "  weighted avg      0.625     0.717     0.668        60\n",
      "\n",
      "Confusion Matrix:\n",
      "[[ 0  0  2]\n",
      " [ 0  0 10]\n",
      " [ 1  4 43]]\n",
      "Accuracy: 0.7166666666666667\n",
      "Macro F1: 0.2783171521035599\n",
      "Micro F1: 0.7166666666666667\n",
      "-- Lenient (2-Class) --\n",
      "              precision    recall  f1-score   support\n",
      "\n",
      "          No      0.000     0.000     0.000         2\n",
      "     Yes/TSE      0.966     0.983     0.974        58\n",
      "\n",
      "    accuracy                          0.950        60\n",
      "   macro avg      0.483     0.491     0.487        60\n",
      "weighted avg      0.934     0.950     0.942        60\n",
      "\n",
      "Confusion Matrix:\n",
      "[[ 0  2]\n",
      " [ 1 57]]\n",
      "Accuracy: 0.95\n",
      "Macro F1: 0.48717948717948717\n",
      "Micro F1: 0.9500000000000001\n",
      "\n",
      "\n",
      "================= TUTOR: Gemini =================\n"
     ]
    },
    {
     "name": "stderr",
     "output_type": "stream",
     "text": [
      "Some weights of RobertaModel were not initialized from the model checkpoint at roberta-base and are newly initialized: ['roberta.pooler.dense.bias', 'roberta.pooler.dense.weight']\n",
      "You should probably TRAIN this model on a down-stream task to be able to use it for predictions and inference.\n",
      "Training Epoch 1: 100%|██████████| 30/30 [00:11<00:00,  2.59it/s]\n"
     ]
    },
    {
     "name": "stdout",
     "output_type": "stream",
     "text": [
      "Epoch 1 Loss: 1.5493\n"
     ]
    },
    {
     "name": "stderr",
     "output_type": "stream",
     "text": [
      "Training Epoch 2: 100%|██████████| 30/30 [00:11<00:00,  2.67it/s]\n"
     ]
    },
    {
     "name": "stdout",
     "output_type": "stream",
     "text": [
      "Epoch 2 Loss: 1.4558\n"
     ]
    },
    {
     "name": "stderr",
     "output_type": "stream",
     "text": [
      "Training Epoch 3: 100%|██████████| 30/30 [00:11<00:00,  2.69it/s]\n"
     ]
    },
    {
     "name": "stdout",
     "output_type": "stream",
     "text": [
      "Epoch 3 Loss: 1.4630\n"
     ]
    },
    {
     "name": "stderr",
     "output_type": "stream",
     "text": [
      "Training Epoch 4: 100%|██████████| 30/30 [00:11<00:00,  2.68it/s]\n"
     ]
    },
    {
     "name": "stdout",
     "output_type": "stream",
     "text": [
      "Epoch 4 Loss: 1.3970\n"
     ]
    },
    {
     "name": "stderr",
     "output_type": "stream",
     "text": [
      "Training Epoch 5: 100%|██████████| 30/30 [00:11<00:00,  2.60it/s]\n"
     ]
    },
    {
     "name": "stdout",
     "output_type": "stream",
     "text": [
      "Epoch 5 Loss: 1.4290\n"
     ]
    },
    {
     "name": "stderr",
     "output_type": "stream",
     "text": [
      "Training Epoch 6: 100%|██████████| 30/30 [00:11<00:00,  2.54it/s]\n"
     ]
    },
    {
     "name": "stdout",
     "output_type": "stream",
     "text": [
      "Epoch 6 Loss: 1.3668\n"
     ]
    },
    {
     "name": "stderr",
     "output_type": "stream",
     "text": [
      "Training Epoch 7: 100%|██████████| 30/30 [00:11<00:00,  2.52it/s]\n"
     ]
    },
    {
     "name": "stdout",
     "output_type": "stream",
     "text": [
      "Epoch 7 Loss: 1.2771\n"
     ]
    },
    {
     "name": "stderr",
     "output_type": "stream",
     "text": [
      "Training Epoch 8: 100%|██████████| 30/30 [00:11<00:00,  2.60it/s]\n"
     ]
    },
    {
     "name": "stdout",
     "output_type": "stream",
     "text": [
      "Epoch 8 Loss: 1.1693\n"
     ]
    },
    {
     "name": "stderr",
     "output_type": "stream",
     "text": [
      "Training Epoch 9: 100%|██████████| 30/30 [00:11<00:00,  2.69it/s]\n"
     ]
    },
    {
     "name": "stdout",
     "output_type": "stream",
     "text": [
      "Epoch 9 Loss: 1.0150\n"
     ]
    },
    {
     "name": "stderr",
     "output_type": "stream",
     "text": [
      "Training Epoch 10: 100%|██████████| 30/30 [00:11<00:00,  2.62it/s]\n"
     ]
    },
    {
     "name": "stdout",
     "output_type": "stream",
     "text": [
      "Epoch 10 Loss: 0.7517\n"
     ]
    },
    {
     "name": "stderr",
     "output_type": "stream",
     "text": [
      "Training Epoch 11: 100%|██████████| 30/30 [00:11<00:00,  2.62it/s]\n"
     ]
    },
    {
     "name": "stdout",
     "output_type": "stream",
     "text": [
      "Epoch 11 Loss: 0.5641\n"
     ]
    },
    {
     "name": "stderr",
     "output_type": "stream",
     "text": [
      "Training Epoch 12: 100%|██████████| 30/30 [00:12<00:00,  2.48it/s]\n"
     ]
    },
    {
     "name": "stdout",
     "output_type": "stream",
     "text": [
      "Epoch 12 Loss: 0.4614\n"
     ]
    },
    {
     "name": "stderr",
     "output_type": "stream",
     "text": [
      "Training Epoch 13: 100%|██████████| 30/30 [00:11<00:00,  2.64it/s]\n"
     ]
    },
    {
     "name": "stdout",
     "output_type": "stream",
     "text": [
      "Epoch 13 Loss: 0.3906\n"
     ]
    },
    {
     "name": "stderr",
     "output_type": "stream",
     "text": [
      "Training Epoch 14: 100%|██████████| 30/30 [00:11<00:00,  2.62it/s]\n"
     ]
    },
    {
     "name": "stdout",
     "output_type": "stream",
     "text": [
      "Epoch 14 Loss: 0.2683\n"
     ]
    },
    {
     "name": "stderr",
     "output_type": "stream",
     "text": [
      "Training Epoch 15: 100%|██████████| 30/30 [00:11<00:00,  2.54it/s]\n"
     ]
    },
    {
     "name": "stdout",
     "output_type": "stream",
     "text": [
      "Epoch 15 Loss: 0.1765\n"
     ]
    },
    {
     "name": "stderr",
     "output_type": "stream",
     "text": [
      "Training Epoch 16: 100%|██████████| 30/30 [00:10<00:00,  2.74it/s]\n"
     ]
    },
    {
     "name": "stdout",
     "output_type": "stream",
     "text": [
      "Epoch 16 Loss: 0.1646\n"
     ]
    },
    {
     "name": "stderr",
     "output_type": "stream",
     "text": [
      "Training Epoch 17: 100%|██████████| 30/30 [00:11<00:00,  2.71it/s]\n"
     ]
    },
    {
     "name": "stdout",
     "output_type": "stream",
     "text": [
      "Epoch 17 Loss: 0.1358\n"
     ]
    },
    {
     "name": "stderr",
     "output_type": "stream",
     "text": [
      "Training Epoch 18: 100%|██████████| 30/30 [00:11<00:00,  2.67it/s]\n"
     ]
    },
    {
     "name": "stdout",
     "output_type": "stream",
     "text": [
      "Epoch 18 Loss: 0.0786\n"
     ]
    },
    {
     "name": "stderr",
     "output_type": "stream",
     "text": [
      "Training Epoch 19: 100%|██████████| 30/30 [00:10<00:00,  2.73it/s]\n"
     ]
    },
    {
     "name": "stdout",
     "output_type": "stream",
     "text": [
      "Epoch 19 Loss: 0.0590\n"
     ]
    },
    {
     "name": "stderr",
     "output_type": "stream",
     "text": [
      "Training Epoch 20: 100%|██████████| 30/30 [00:07<00:00,  3.76it/s]\n"
     ]
    },
    {
     "name": "stdout",
     "output_type": "stream",
     "text": [
      "Epoch 20 Loss: 0.0547\n"
     ]
    },
    {
     "name": "stderr",
     "output_type": "stream",
     "text": [
      "Training Epoch 21: 100%|██████████| 30/30 [00:10<00:00,  2.89it/s]\n"
     ]
    },
    {
     "name": "stdout",
     "output_type": "stream",
     "text": [
      "Epoch 21 Loss: 0.0428\n"
     ]
    },
    {
     "name": "stderr",
     "output_type": "stream",
     "text": [
      "Training Epoch 22: 100%|██████████| 30/30 [00:10<00:00,  2.90it/s]\n"
     ]
    },
    {
     "name": "stdout",
     "output_type": "stream",
     "text": [
      "Epoch 22 Loss: 0.0374\n"
     ]
    },
    {
     "name": "stderr",
     "output_type": "stream",
     "text": [
      "Training Epoch 23: 100%|██████████| 30/30 [00:10<00:00,  2.84it/s]\n"
     ]
    },
    {
     "name": "stdout",
     "output_type": "stream",
     "text": [
      "Epoch 23 Loss: 0.0474\n"
     ]
    },
    {
     "name": "stderr",
     "output_type": "stream",
     "text": [
      "Training Epoch 24: 100%|██████████| 30/30 [00:10<00:00,  2.82it/s]\n"
     ]
    },
    {
     "name": "stdout",
     "output_type": "stream",
     "text": [
      "Epoch 24 Loss: 0.0248\n"
     ]
    },
    {
     "name": "stderr",
     "output_type": "stream",
     "text": [
      "Training Epoch 25: 100%|██████████| 30/30 [00:10<00:00,  2.89it/s]\n"
     ]
    },
    {
     "name": "stdout",
     "output_type": "stream",
     "text": [
      "Epoch 25 Loss: 0.0222\n"
     ]
    },
    {
     "name": "stderr",
     "output_type": "stream",
     "text": [
      "Training Epoch 26: 100%|██████████| 30/30 [00:10<00:00,  2.77it/s]\n"
     ]
    },
    {
     "name": "stdout",
     "output_type": "stream",
     "text": [
      "Epoch 26 Loss: 0.0169\n"
     ]
    },
    {
     "name": "stderr",
     "output_type": "stream",
     "text": [
      "Training Epoch 27: 100%|██████████| 30/30 [00:11<00:00,  2.54it/s]\n"
     ]
    },
    {
     "name": "stdout",
     "output_type": "stream",
     "text": [
      "Epoch 27 Loss: 0.0169\n"
     ]
    },
    {
     "name": "stderr",
     "output_type": "stream",
     "text": [
      "Training Epoch 28: 100%|██████████| 30/30 [00:12<00:00,  2.38it/s]\n"
     ]
    },
    {
     "name": "stdout",
     "output_type": "stream",
     "text": [
      "Epoch 28 Loss: 0.0149\n"
     ]
    },
    {
     "name": "stderr",
     "output_type": "stream",
     "text": [
      "Training Epoch 29: 100%|██████████| 30/30 [00:11<00:00,  2.52it/s]\n"
     ]
    },
    {
     "name": "stdout",
     "output_type": "stream",
     "text": [
      "Epoch 29 Loss: 0.0125\n"
     ]
    },
    {
     "name": "stderr",
     "output_type": "stream",
     "text": [
      "Training Epoch 30: 100%|██████████| 30/30 [00:12<00:00,  2.43it/s]\n"
     ]
    },
    {
     "name": "stdout",
     "output_type": "stream",
     "text": [
      "Epoch 30 Loss: 0.0140\n"
     ]
    },
    {
     "name": "stderr",
     "output_type": "stream",
     "text": [
      "Training Epoch 31: 100%|██████████| 30/30 [00:11<00:00,  2.65it/s]\n"
     ]
    },
    {
     "name": "stdout",
     "output_type": "stream",
     "text": [
      "Epoch 31 Loss: 0.0109\n"
     ]
    },
    {
     "name": "stderr",
     "output_type": "stream",
     "text": [
      "Training Epoch 32: 100%|██████████| 30/30 [00:12<00:00,  2.50it/s]\n"
     ]
    },
    {
     "name": "stdout",
     "output_type": "stream",
     "text": [
      "Epoch 32 Loss: 0.0114\n"
     ]
    },
    {
     "name": "stderr",
     "output_type": "stream",
     "text": [
      "Training Epoch 33: 100%|██████████| 30/30 [00:12<00:00,  2.34it/s]\n"
     ]
    },
    {
     "name": "stdout",
     "output_type": "stream",
     "text": [
      "Epoch 33 Loss: 0.0104\n"
     ]
    },
    {
     "name": "stderr",
     "output_type": "stream",
     "text": [
      "Training Epoch 34: 100%|██████████| 30/30 [00:12<00:00,  2.41it/s]\n"
     ]
    },
    {
     "name": "stdout",
     "output_type": "stream",
     "text": [
      "Epoch 34 Loss: 0.0079\n"
     ]
    },
    {
     "name": "stderr",
     "output_type": "stream",
     "text": [
      "Training Epoch 35: 100%|██████████| 30/30 [00:12<00:00,  2.48it/s]\n"
     ]
    },
    {
     "name": "stdout",
     "output_type": "stream",
     "text": [
      "Epoch 35 Loss: 0.0077\n"
     ]
    },
    {
     "name": "stderr",
     "output_type": "stream",
     "text": [
      "Training Epoch 36: 100%|██████████| 30/30 [00:12<00:00,  2.48it/s]\n"
     ]
    },
    {
     "name": "stdout",
     "output_type": "stream",
     "text": [
      "Epoch 36 Loss: 0.0090\n"
     ]
    },
    {
     "name": "stderr",
     "output_type": "stream",
     "text": [
      "Training Epoch 37: 100%|██████████| 30/30 [00:12<00:00,  2.39it/s]\n"
     ]
    },
    {
     "name": "stdout",
     "output_type": "stream",
     "text": [
      "Epoch 37 Loss: 0.0065\n"
     ]
    },
    {
     "name": "stderr",
     "output_type": "stream",
     "text": [
      "Training Epoch 38: 100%|██████████| 30/30 [00:12<00:00,  2.31it/s]\n"
     ]
    },
    {
     "name": "stdout",
     "output_type": "stream",
     "text": [
      "Epoch 38 Loss: 0.0065\n"
     ]
    },
    {
     "name": "stderr",
     "output_type": "stream",
     "text": [
      "Training Epoch 39: 100%|██████████| 30/30 [00:12<00:00,  2.33it/s]\n"
     ]
    },
    {
     "name": "stdout",
     "output_type": "stream",
     "text": [
      "Epoch 39 Loss: 0.0065\n"
     ]
    },
    {
     "name": "stderr",
     "output_type": "stream",
     "text": [
      "Training Epoch 40: 100%|██████████| 30/30 [00:13<00:00,  2.30it/s]\n"
     ]
    },
    {
     "name": "stdout",
     "output_type": "stream",
     "text": [
      "Epoch 40 Loss: 0.0065\n"
     ]
    },
    {
     "name": "stderr",
     "output_type": "stream",
     "text": [
      "Training Epoch 41: 100%|██████████| 30/30 [00:12<00:00,  2.43it/s]\n"
     ]
    },
    {
     "name": "stdout",
     "output_type": "stream",
     "text": [
      "Epoch 41 Loss: 0.0075\n"
     ]
    },
    {
     "name": "stderr",
     "output_type": "stream",
     "text": [
      "Training Epoch 42: 100%|██████████| 30/30 [00:11<00:00,  2.51it/s]\n"
     ]
    },
    {
     "name": "stdout",
     "output_type": "stream",
     "text": [
      "Epoch 42 Loss: 0.0057\n"
     ]
    },
    {
     "name": "stderr",
     "output_type": "stream",
     "text": [
      "Training Epoch 43: 100%|██████████| 30/30 [00:12<00:00,  2.38it/s]\n"
     ]
    },
    {
     "name": "stdout",
     "output_type": "stream",
     "text": [
      "Epoch 43 Loss: 0.0052\n"
     ]
    },
    {
     "name": "stderr",
     "output_type": "stream",
     "text": [
      "Training Epoch 44: 100%|██████████| 30/30 [00:12<00:00,  2.40it/s]\n"
     ]
    },
    {
     "name": "stdout",
     "output_type": "stream",
     "text": [
      "Epoch 44 Loss: 0.0057\n"
     ]
    },
    {
     "name": "stderr",
     "output_type": "stream",
     "text": [
      "Training Epoch 45: 100%|██████████| 30/30 [00:12<00:00,  2.40it/s]\n"
     ]
    },
    {
     "name": "stdout",
     "output_type": "stream",
     "text": [
      "Epoch 45 Loss: 0.0047\n"
     ]
    },
    {
     "name": "stderr",
     "output_type": "stream",
     "text": [
      "Training Epoch 46: 100%|██████████| 30/30 [00:12<00:00,  2.32it/s]\n"
     ]
    },
    {
     "name": "stdout",
     "output_type": "stream",
     "text": [
      "Epoch 46 Loss: 0.0051\n"
     ]
    },
    {
     "name": "stderr",
     "output_type": "stream",
     "text": [
      "Training Epoch 47: 100%|██████████| 30/30 [00:12<00:00,  2.38it/s]\n"
     ]
    },
    {
     "name": "stdout",
     "output_type": "stream",
     "text": [
      "Epoch 47 Loss: 0.0053\n"
     ]
    },
    {
     "name": "stderr",
     "output_type": "stream",
     "text": [
      "Training Epoch 48: 100%|██████████| 30/30 [00:12<00:00,  2.41it/s]\n"
     ]
    },
    {
     "name": "stdout",
     "output_type": "stream",
     "text": [
      "Epoch 48 Loss: 0.0057\n"
     ]
    },
    {
     "name": "stderr",
     "output_type": "stream",
     "text": [
      "Training Epoch 49: 100%|██████████| 30/30 [00:12<00:00,  2.40it/s]\n"
     ]
    },
    {
     "name": "stdout",
     "output_type": "stream",
     "text": [
      "Epoch 49 Loss: 0.0051\n"
     ]
    },
    {
     "name": "stderr",
     "output_type": "stream",
     "text": [
      "Training Epoch 50: 100%|██████████| 30/30 [00:12<00:00,  2.36it/s]\n"
     ]
    },
    {
     "name": "stdout",
     "output_type": "stream",
     "text": [
      "Epoch 50 Loss: 0.0052\n",
      "\n",
      "FINAL EVALUATION ON VALIDATION SET\n",
      "\n",
      "=== Mistake_Identification ===\n",
      "-- Exact (3-Class) --\n",
      "                precision    recall  f1-score   support\n",
      "\n",
      "            No      0.000     0.000     0.000         6\n",
      "To some extent      0.000     0.000     0.000         0\n",
      "           Yes      0.898     0.981     0.938        54\n",
      "\n",
      "     micro avg      0.883     0.883     0.883        60\n",
      "     macro avg      0.299     0.327     0.313        60\n",
      "  weighted avg      0.808     0.883     0.844        60\n",
      "\n",
      "Confusion Matrix:\n",
      "[[ 0  0  6]\n",
      " [ 0  0  0]\n",
      " [ 1  0 53]]\n",
      "Accuracy: 0.8833333333333333\n",
      "Macro F1: 0.4690265486725664\n",
      "Micro F1: 0.8833333333333333\n",
      "-- Lenient (2-Class) --\n",
      "              precision    recall  f1-score   support\n",
      "\n",
      "          No      0.000     0.000     0.000         6\n",
      "     Yes/TSE      0.898     0.981     0.938        54\n",
      "\n",
      "    accuracy                          0.883        60\n",
      "   macro avg      0.449     0.491     0.469        60\n",
      "weighted avg      0.808     0.883     0.844        60\n",
      "\n",
      "Confusion Matrix:\n",
      "[[ 0  6]\n",
      " [ 1 53]]\n",
      "Accuracy: 0.8833333333333333\n",
      "Macro F1: 0.4690265486725664\n",
      "Micro F1: 0.8833333333333333\n",
      "\n",
      "=== Mistake_Location ===\n",
      "-- Exact (3-Class) --\n",
      "                precision    recall  f1-score   support\n",
      "\n",
      "            No      0.400     0.235     0.296        17\n",
      "To some extent      0.000     0.000     0.000         6\n",
      "           Yes      0.619     0.703     0.658        37\n",
      "\n",
      "      accuracy                          0.500        60\n",
      "     macro avg      0.340     0.313     0.318        60\n",
      "  weighted avg      0.495     0.500     0.490        60\n",
      "\n",
      "Confusion Matrix:\n",
      "[[ 4  3 10]\n",
      " [ 0  0  6]\n",
      " [ 6  5 26]]\n",
      "Accuracy: 0.5\n",
      "Macro F1: 0.3181747147991874\n",
      "Micro F1: 0.5\n",
      "-- Lenient (2-Class) --\n",
      "              precision    recall  f1-score   support\n",
      "\n",
      "          No      0.400     0.235     0.296        17\n",
      "     Yes/TSE      0.740     0.860     0.796        43\n",
      "\n",
      "    accuracy                          0.683        60\n",
      "   macro avg      0.570     0.548     0.546        60\n",
      "weighted avg      0.644     0.683     0.654        60\n",
      "\n",
      "Confusion Matrix:\n",
      "[[ 4 13]\n",
      " [ 6 37]]\n",
      "Accuracy: 0.6833333333333333\n",
      "Macro F1: 0.5459976105137395\n",
      "Micro F1: 0.6833333333333333\n",
      "\n",
      "=== Providing_Guidance ===\n",
      "-- Exact (3-Class) --\n",
      "                precision    recall  f1-score   support\n",
      "\n",
      "            No      0.000     0.000     0.000        12\n",
      "To some extent      0.429     0.300     0.353        20\n",
      "           Yes      0.489     0.786     0.603        28\n",
      "\n",
      "      accuracy                          0.467        60\n",
      "     macro avg      0.306     0.362     0.319        60\n",
      "  weighted avg      0.371     0.467     0.399        60\n",
      "\n",
      "Confusion Matrix:\n",
      "[[ 0  3  9]\n",
      " [ 0  6 14]\n",
      " [ 1  5 22]]\n",
      "Accuracy: 0.4666666666666667\n",
      "Macro F1: 0.3185603008326618\n",
      "Micro F1: 0.4666666666666667\n",
      "-- Lenient (2-Class) --\n",
      "              precision    recall  f1-score   support\n",
      "\n",
      "          No      0.000     0.000     0.000        12\n",
      "     Yes/TSE      0.797     0.979     0.879        48\n",
      "\n",
      "    accuracy                          0.783        60\n",
      "   macro avg      0.398     0.490     0.439        60\n",
      "weighted avg      0.637     0.783     0.703        60\n",
      "\n",
      "Confusion Matrix:\n",
      "[[ 0 12]\n",
      " [ 1 47]]\n",
      "Accuracy: 0.7833333333333333\n",
      "Macro F1: 0.4392523364485981\n",
      "Micro F1: 0.7833333333333333\n",
      "\n",
      "=== Actionability ===\n",
      "-- Exact (3-Class) --\n",
      "                precision    recall  f1-score   support\n",
      "\n",
      "            No      0.500     0.250     0.333        16\n",
      "To some extent      0.083     0.100     0.091        10\n",
      "           Yes      0.525     0.618     0.568        34\n",
      "\n",
      "      accuracy                          0.433        60\n",
      "     macro avg      0.369     0.323     0.331        60\n",
      "  weighted avg      0.445     0.433     0.426        60\n",
      "\n",
      "Confusion Matrix:\n",
      "[[ 4  2 10]\n",
      " [ 0  1  9]\n",
      " [ 4  9 21]]\n",
      "Accuracy: 0.43333333333333335\n",
      "Macro F1: 0.33060333060333064\n",
      "Micro F1: 0.43333333333333335\n",
      "-- Lenient (2-Class) --\n",
      "              precision    recall  f1-score   support\n",
      "\n",
      "          No      0.500     0.250     0.333        16\n",
      "     Yes/TSE      0.769     0.909     0.833        44\n",
      "\n",
      "    accuracy                          0.733        60\n",
      "   macro avg      0.635     0.580     0.583        60\n",
      "weighted avg      0.697     0.733     0.700        60\n",
      "\n",
      "Confusion Matrix:\n",
      "[[ 4 12]\n",
      " [ 4 40]]\n",
      "Accuracy: 0.7333333333333333\n",
      "Macro F1: 0.5833333333333333\n",
      "Micro F1: 0.7333333333333333\n",
      "\n",
      "\n",
      "================= TUTOR: Phi3 =================\n"
     ]
    },
    {
     "name": "stderr",
     "output_type": "stream",
     "text": [
      "Some weights of RobertaModel were not initialized from the model checkpoint at roberta-base and are newly initialized: ['roberta.pooler.dense.bias', 'roberta.pooler.dense.weight']\n",
      "You should probably TRAIN this model on a down-stream task to be able to use it for predictions and inference.\n",
      "Training Epoch 1: 100%|██████████| 30/30 [00:12<00:00,  2.34it/s]\n"
     ]
    },
    {
     "name": "stdout",
     "output_type": "stream",
     "text": [
      "Epoch 1 Loss: 1.1790\n"
     ]
    },
    {
     "name": "stderr",
     "output_type": "stream",
     "text": [
      "Training Epoch 2: 100%|██████████| 30/30 [00:12<00:00,  2.37it/s]\n"
     ]
    },
    {
     "name": "stdout",
     "output_type": "stream",
     "text": [
      "Epoch 2 Loss: 0.8058\n"
     ]
    },
    {
     "name": "stderr",
     "output_type": "stream",
     "text": [
      "Training Epoch 3: 100%|██████████| 30/30 [00:12<00:00,  2.49it/s]\n"
     ]
    },
    {
     "name": "stdout",
     "output_type": "stream",
     "text": [
      "Epoch 3 Loss: 0.7493\n"
     ]
    },
    {
     "name": "stderr",
     "output_type": "stream",
     "text": [
      "Training Epoch 4: 100%|██████████| 30/30 [00:12<00:00,  2.44it/s]\n"
     ]
    },
    {
     "name": "stdout",
     "output_type": "stream",
     "text": [
      "Epoch 4 Loss: 0.7027\n"
     ]
    },
    {
     "name": "stderr",
     "output_type": "stream",
     "text": [
      "Training Epoch 5: 100%|██████████| 30/30 [00:12<00:00,  2.41it/s]\n"
     ]
    },
    {
     "name": "stdout",
     "output_type": "stream",
     "text": [
      "Epoch 5 Loss: 0.6351\n"
     ]
    },
    {
     "name": "stderr",
     "output_type": "stream",
     "text": [
      "Training Epoch 6: 100%|██████████| 30/30 [00:12<00:00,  2.39it/s]\n"
     ]
    },
    {
     "name": "stdout",
     "output_type": "stream",
     "text": [
      "Epoch 6 Loss: 0.5933\n"
     ]
    },
    {
     "name": "stderr",
     "output_type": "stream",
     "text": [
      "Training Epoch 7: 100%|██████████| 30/30 [00:13<00:00,  2.29it/s]\n"
     ]
    },
    {
     "name": "stdout",
     "output_type": "stream",
     "text": [
      "Epoch 7 Loss: 0.4924\n"
     ]
    },
    {
     "name": "stderr",
     "output_type": "stream",
     "text": [
      "Training Epoch 8: 100%|██████████| 30/30 [00:12<00:00,  2.44it/s]\n"
     ]
    },
    {
     "name": "stdout",
     "output_type": "stream",
     "text": [
      "Epoch 8 Loss: 0.3942\n"
     ]
    },
    {
     "name": "stderr",
     "output_type": "stream",
     "text": [
      "Training Epoch 9: 100%|██████████| 30/30 [00:12<00:00,  2.39it/s]\n"
     ]
    },
    {
     "name": "stdout",
     "output_type": "stream",
     "text": [
      "Epoch 9 Loss: 0.3239\n"
     ]
    },
    {
     "name": "stderr",
     "output_type": "stream",
     "text": [
      "Training Epoch 10: 100%|██████████| 30/30 [00:12<00:00,  2.35it/s]\n"
     ]
    },
    {
     "name": "stdout",
     "output_type": "stream",
     "text": [
      "Epoch 10 Loss: 0.2062\n"
     ]
    },
    {
     "name": "stderr",
     "output_type": "stream",
     "text": [
      "Training Epoch 11: 100%|██████████| 30/30 [00:13<00:00,  2.30it/s]\n"
     ]
    },
    {
     "name": "stdout",
     "output_type": "stream",
     "text": [
      "Epoch 11 Loss: 0.1594\n"
     ]
    },
    {
     "name": "stderr",
     "output_type": "stream",
     "text": [
      "Training Epoch 12: 100%|██████████| 30/30 [00:12<00:00,  2.40it/s]\n"
     ]
    },
    {
     "name": "stdout",
     "output_type": "stream",
     "text": [
      "Epoch 12 Loss: 0.1079\n"
     ]
    },
    {
     "name": "stderr",
     "output_type": "stream",
     "text": [
      "Training Epoch 13: 100%|██████████| 30/30 [00:12<00:00,  2.35it/s]\n"
     ]
    },
    {
     "name": "stdout",
     "output_type": "stream",
     "text": [
      "Epoch 13 Loss: 0.0747\n"
     ]
    },
    {
     "name": "stderr",
     "output_type": "stream",
     "text": [
      "Training Epoch 14: 100%|██████████| 30/30 [00:12<00:00,  2.41it/s]\n"
     ]
    },
    {
     "name": "stdout",
     "output_type": "stream",
     "text": [
      "Epoch 14 Loss: 0.0507\n"
     ]
    },
    {
     "name": "stderr",
     "output_type": "stream",
     "text": [
      "Training Epoch 15: 100%|██████████| 30/30 [00:12<00:00,  2.43it/s]\n"
     ]
    },
    {
     "name": "stdout",
     "output_type": "stream",
     "text": [
      "Epoch 15 Loss: 0.0316\n"
     ]
    },
    {
     "name": "stderr",
     "output_type": "stream",
     "text": [
      "Training Epoch 16: 100%|██████████| 30/30 [00:12<00:00,  2.47it/s]\n"
     ]
    },
    {
     "name": "stdout",
     "output_type": "stream",
     "text": [
      "Epoch 16 Loss: 0.0187\n"
     ]
    },
    {
     "name": "stderr",
     "output_type": "stream",
     "text": [
      "Training Epoch 17: 100%|██████████| 30/30 [00:12<00:00,  2.43it/s]\n"
     ]
    },
    {
     "name": "stdout",
     "output_type": "stream",
     "text": [
      "Epoch 17 Loss: 0.0229\n"
     ]
    },
    {
     "name": "stderr",
     "output_type": "stream",
     "text": [
      "Training Epoch 18: 100%|██████████| 30/30 [00:12<00:00,  2.44it/s]\n"
     ]
    },
    {
     "name": "stdout",
     "output_type": "stream",
     "text": [
      "Epoch 18 Loss: 0.0233\n"
     ]
    },
    {
     "name": "stderr",
     "output_type": "stream",
     "text": [
      "Training Epoch 19: 100%|██████████| 30/30 [00:12<00:00,  2.44it/s]\n"
     ]
    },
    {
     "name": "stdout",
     "output_type": "stream",
     "text": [
      "Epoch 19 Loss: 0.0146\n"
     ]
    },
    {
     "name": "stderr",
     "output_type": "stream",
     "text": [
      "Training Epoch 20: 100%|██████████| 30/30 [00:12<00:00,  2.35it/s]\n"
     ]
    },
    {
     "name": "stdout",
     "output_type": "stream",
     "text": [
      "Epoch 20 Loss: 0.0114\n"
     ]
    },
    {
     "name": "stderr",
     "output_type": "stream",
     "text": [
      "Training Epoch 21: 100%|██████████| 30/30 [00:12<00:00,  2.37it/s]\n"
     ]
    },
    {
     "name": "stdout",
     "output_type": "stream",
     "text": [
      "Epoch 21 Loss: 0.0129\n"
     ]
    },
    {
     "name": "stderr",
     "output_type": "stream",
     "text": [
      "Training Epoch 22: 100%|██████████| 30/30 [00:11<00:00,  2.50it/s]\n"
     ]
    },
    {
     "name": "stdout",
     "output_type": "stream",
     "text": [
      "Epoch 22 Loss: 0.0076\n"
     ]
    },
    {
     "name": "stderr",
     "output_type": "stream",
     "text": [
      "Training Epoch 23: 100%|██████████| 30/30 [00:12<00:00,  2.42it/s]\n"
     ]
    },
    {
     "name": "stdout",
     "output_type": "stream",
     "text": [
      "Epoch 23 Loss: 0.0119\n"
     ]
    },
    {
     "name": "stderr",
     "output_type": "stream",
     "text": [
      "Training Epoch 24: 100%|██████████| 30/30 [00:12<00:00,  2.46it/s]\n"
     ]
    },
    {
     "name": "stdout",
     "output_type": "stream",
     "text": [
      "Epoch 24 Loss: 0.0110\n"
     ]
    },
    {
     "name": "stderr",
     "output_type": "stream",
     "text": [
      "Training Epoch 25: 100%|██████████| 30/30 [00:12<00:00,  2.46it/s]\n"
     ]
    },
    {
     "name": "stdout",
     "output_type": "stream",
     "text": [
      "Epoch 25 Loss: 0.0071\n"
     ]
    },
    {
     "name": "stderr",
     "output_type": "stream",
     "text": [
      "Training Epoch 26: 100%|██████████| 30/30 [00:12<00:00,  2.35it/s]\n"
     ]
    },
    {
     "name": "stdout",
     "output_type": "stream",
     "text": [
      "Epoch 26 Loss: 0.0074\n"
     ]
    },
    {
     "name": "stderr",
     "output_type": "stream",
     "text": [
      "Training Epoch 27: 100%|██████████| 30/30 [00:12<00:00,  2.36it/s]\n"
     ]
    },
    {
     "name": "stdout",
     "output_type": "stream",
     "text": [
      "Epoch 27 Loss: 0.0043\n"
     ]
    },
    {
     "name": "stderr",
     "output_type": "stream",
     "text": [
      "Training Epoch 28: 100%|██████████| 30/30 [00:12<00:00,  2.38it/s]\n"
     ]
    },
    {
     "name": "stdout",
     "output_type": "stream",
     "text": [
      "Epoch 28 Loss: 0.0087\n"
     ]
    },
    {
     "name": "stderr",
     "output_type": "stream",
     "text": [
      "Training Epoch 29: 100%|██████████| 30/30 [00:12<00:00,  2.45it/s]\n"
     ]
    },
    {
     "name": "stdout",
     "output_type": "stream",
     "text": [
      "Epoch 29 Loss: 0.0035\n"
     ]
    },
    {
     "name": "stderr",
     "output_type": "stream",
     "text": [
      "Training Epoch 30: 100%|██████████| 30/30 [00:12<00:00,  2.34it/s]\n"
     ]
    },
    {
     "name": "stdout",
     "output_type": "stream",
     "text": [
      "Epoch 30 Loss: 0.0044\n"
     ]
    },
    {
     "name": "stderr",
     "output_type": "stream",
     "text": [
      "Training Epoch 31: 100%|██████████| 30/30 [00:12<00:00,  2.39it/s]\n"
     ]
    },
    {
     "name": "stdout",
     "output_type": "stream",
     "text": [
      "Epoch 31 Loss: 0.0039\n"
     ]
    },
    {
     "name": "stderr",
     "output_type": "stream",
     "text": [
      "Training Epoch 32: 100%|██████████| 30/30 [00:13<00:00,  2.29it/s]\n"
     ]
    },
    {
     "name": "stdout",
     "output_type": "stream",
     "text": [
      "Epoch 32 Loss: 0.0054\n"
     ]
    },
    {
     "name": "stderr",
     "output_type": "stream",
     "text": [
      "Training Epoch 33: 100%|██████████| 30/30 [00:12<00:00,  2.49it/s]\n"
     ]
    },
    {
     "name": "stdout",
     "output_type": "stream",
     "text": [
      "Epoch 33 Loss: 0.0041\n"
     ]
    },
    {
     "name": "stderr",
     "output_type": "stream",
     "text": [
      "Training Epoch 34: 100%|██████████| 30/30 [00:11<00:00,  2.55it/s]\n"
     ]
    },
    {
     "name": "stdout",
     "output_type": "stream",
     "text": [
      "Epoch 34 Loss: 0.0088\n"
     ]
    },
    {
     "name": "stderr",
     "output_type": "stream",
     "text": [
      "Training Epoch 35: 100%|██████████| 30/30 [00:11<00:00,  2.51it/s]\n"
     ]
    },
    {
     "name": "stdout",
     "output_type": "stream",
     "text": [
      "Epoch 35 Loss: 0.0040\n"
     ]
    },
    {
     "name": "stderr",
     "output_type": "stream",
     "text": [
      "Training Epoch 36: 100%|██████████| 30/30 [00:12<00:00,  2.32it/s]\n"
     ]
    },
    {
     "name": "stdout",
     "output_type": "stream",
     "text": [
      "Epoch 36 Loss: 0.0054\n"
     ]
    },
    {
     "name": "stderr",
     "output_type": "stream",
     "text": [
      "Training Epoch 37: 100%|██████████| 30/30 [00:12<00:00,  2.36it/s]\n"
     ]
    },
    {
     "name": "stdout",
     "output_type": "stream",
     "text": [
      "Epoch 37 Loss: 0.0049\n"
     ]
    },
    {
     "name": "stderr",
     "output_type": "stream",
     "text": [
      "Training Epoch 38: 100%|██████████| 30/30 [00:12<00:00,  2.47it/s]\n"
     ]
    },
    {
     "name": "stdout",
     "output_type": "stream",
     "text": [
      "Epoch 38 Loss: 0.0034\n"
     ]
    },
    {
     "name": "stderr",
     "output_type": "stream",
     "text": [
      "Training Epoch 39: 100%|██████████| 30/30 [00:12<00:00,  2.45it/s]\n"
     ]
    },
    {
     "name": "stdout",
     "output_type": "stream",
     "text": [
      "Epoch 39 Loss: 0.0030\n"
     ]
    },
    {
     "name": "stderr",
     "output_type": "stream",
     "text": [
      "Training Epoch 40: 100%|██████████| 30/30 [00:11<00:00,  2.58it/s]\n"
     ]
    },
    {
     "name": "stdout",
     "output_type": "stream",
     "text": [
      "Epoch 40 Loss: 0.0028\n"
     ]
    },
    {
     "name": "stderr",
     "output_type": "stream",
     "text": [
      "Training Epoch 41: 100%|██████████| 30/30 [00:12<00:00,  2.39it/s]\n"
     ]
    },
    {
     "name": "stdout",
     "output_type": "stream",
     "text": [
      "Epoch 41 Loss: 0.0080\n"
     ]
    },
    {
     "name": "stderr",
     "output_type": "stream",
     "text": [
      "Training Epoch 42: 100%|██████████| 30/30 [00:12<00:00,  2.40it/s]\n"
     ]
    },
    {
     "name": "stdout",
     "output_type": "stream",
     "text": [
      "Epoch 42 Loss: 0.0054\n"
     ]
    },
    {
     "name": "stderr",
     "output_type": "stream",
     "text": [
      "Training Epoch 43: 100%|██████████| 30/30 [00:12<00:00,  2.34it/s]\n"
     ]
    },
    {
     "name": "stdout",
     "output_type": "stream",
     "text": [
      "Epoch 43 Loss: 0.0021\n"
     ]
    },
    {
     "name": "stderr",
     "output_type": "stream",
     "text": [
      "Training Epoch 44: 100%|██████████| 30/30 [00:12<00:00,  2.37it/s]\n"
     ]
    },
    {
     "name": "stdout",
     "output_type": "stream",
     "text": [
      "Epoch 44 Loss: 0.0044\n"
     ]
    },
    {
     "name": "stderr",
     "output_type": "stream",
     "text": [
      "Training Epoch 45: 100%|██████████| 30/30 [00:11<00:00,  2.60it/s]\n"
     ]
    },
    {
     "name": "stdout",
     "output_type": "stream",
     "text": [
      "Epoch 45 Loss: 0.0044\n"
     ]
    },
    {
     "name": "stderr",
     "output_type": "stream",
     "text": [
      "Training Epoch 46: 100%|██████████| 30/30 [00:12<00:00,  2.45it/s]\n"
     ]
    },
    {
     "name": "stdout",
     "output_type": "stream",
     "text": [
      "Epoch 46 Loss: 0.0026\n"
     ]
    },
    {
     "name": "stderr",
     "output_type": "stream",
     "text": [
      "Training Epoch 47: 100%|██████████| 30/30 [00:11<00:00,  2.55it/s]\n"
     ]
    },
    {
     "name": "stdout",
     "output_type": "stream",
     "text": [
      "Epoch 47 Loss: 0.0034\n"
     ]
    },
    {
     "name": "stderr",
     "output_type": "stream",
     "text": [
      "Training Epoch 48: 100%|██████████| 30/30 [00:13<00:00,  2.24it/s]\n"
     ]
    },
    {
     "name": "stdout",
     "output_type": "stream",
     "text": [
      "Epoch 48 Loss: 0.0035\n"
     ]
    },
    {
     "name": "stderr",
     "output_type": "stream",
     "text": [
      "Training Epoch 49: 100%|██████████| 30/30 [00:12<00:00,  2.33it/s]\n"
     ]
    },
    {
     "name": "stdout",
     "output_type": "stream",
     "text": [
      "Epoch 49 Loss: 0.0040\n"
     ]
    },
    {
     "name": "stderr",
     "output_type": "stream",
     "text": [
      "Training Epoch 50: 100%|██████████| 30/30 [00:12<00:00,  2.34it/s]\n"
     ]
    },
    {
     "name": "stdout",
     "output_type": "stream",
     "text": [
      "Epoch 50 Loss: 0.0049\n",
      "\n",
      "FINAL EVALUATION ON VALIDATION SET\n",
      "\n",
      "=== Mistake_Identification ===\n",
      "-- Exact (3-Class) --\n",
      "                precision    recall  f1-score   support\n",
      "\n",
      "            No      0.929     1.000     0.963        39\n",
      "To some extent      0.000     0.000     0.000         0\n",
      "           Yes      1.000     0.857     0.923        21\n",
      "\n",
      "     micro avg      0.950     0.950     0.950        60\n",
      "     macro avg      0.643     0.619     0.629        60\n",
      "  weighted avg      0.954     0.950     0.949        60\n",
      "\n",
      "Confusion Matrix:\n",
      "[[39  0  0]\n",
      " [ 0  0  0]\n",
      " [ 3  0 18]]\n",
      "Accuracy: 0.95\n",
      "Macro F1: 0.9430199430199431\n",
      "Micro F1: 0.9500000000000001\n",
      "-- Lenient (2-Class) --\n",
      "              precision    recall  f1-score   support\n",
      "\n",
      "          No      0.929     1.000     0.963        39\n",
      "     Yes/TSE      1.000     0.857     0.923        21\n",
      "\n",
      "    accuracy                          0.950        60\n",
      "   macro avg      0.964     0.929     0.943        60\n",
      "weighted avg      0.954     0.950     0.949        60\n",
      "\n",
      "Confusion Matrix:\n",
      "[[39  0]\n",
      " [ 3 18]]\n",
      "Accuracy: 0.95\n",
      "Macro F1: 0.9430199430199431\n",
      "Micro F1: 0.9500000000000001\n",
      "\n",
      "=== Mistake_Location ===\n",
      "-- Exact (3-Class) --\n",
      "                precision    recall  f1-score   support\n",
      "\n",
      "            No      0.952     1.000     0.976        40\n",
      "To some extent      0.000     0.000     0.000         1\n",
      "           Yes      0.944     0.895     0.919        19\n",
      "\n",
      "      accuracy                          0.950        60\n",
      "     macro avg      0.632     0.632     0.632        60\n",
      "  weighted avg      0.934     0.950     0.941        60\n",
      "\n",
      "Confusion Matrix:\n",
      "[[40  0  0]\n",
      " [ 0  0  1]\n",
      " [ 2  0 17]]\n",
      "Accuracy: 0.95\n",
      "Macro F1: 0.6315095583388266\n",
      "Micro F1: 0.9500000000000001\n",
      "-- Lenient (2-Class) --\n",
      "              precision    recall  f1-score   support\n",
      "\n",
      "          No      0.952     1.000     0.976        40\n",
      "     Yes/TSE      1.000     0.900     0.947        20\n",
      "\n",
      "    accuracy                          0.967        60\n",
      "   macro avg      0.976     0.950     0.961        60\n",
      "weighted avg      0.968     0.967     0.966        60\n",
      "\n",
      "Confusion Matrix:\n",
      "[[40  0]\n",
      " [ 2 18]]\n",
      "Accuracy: 0.9666666666666667\n",
      "Macro F1: 0.9614890885750963\n",
      "Micro F1: 0.9666666666666667\n",
      "\n",
      "=== Providing_Guidance ===\n",
      "-- Exact (3-Class) --\n",
      "                precision    recall  f1-score   support\n",
      "\n",
      "            No      0.889     0.865     0.877        37\n",
      "To some extent      0.375     0.333     0.353         9\n",
      "           Yes      0.750     0.857     0.800        14\n",
      "\n",
      "      accuracy                          0.783        60\n",
      "     macro avg      0.671     0.685     0.677        60\n",
      "  weighted avg      0.779     0.783     0.780        60\n",
      "\n",
      "Confusion Matrix:\n",
      "[[32  4  1]\n",
      " [ 3  3  3]\n",
      " [ 1  1 12]]\n",
      "Accuracy: 0.7833333333333333\n",
      "Macro F1: 0.6765511684125705\n",
      "Micro F1: 0.7833333333333333\n",
      "-- Lenient (2-Class) --\n",
      "              precision    recall  f1-score   support\n",
      "\n",
      "          No      0.889     0.865     0.877        37\n",
      "     Yes/TSE      0.792     0.826     0.809        23\n",
      "\n",
      "    accuracy                          0.850        60\n",
      "   macro avg      0.840     0.845     0.843        60\n",
      "weighted avg      0.852     0.850     0.851        60\n",
      "\n",
      "Confusion Matrix:\n",
      "[[32  5]\n",
      " [ 4 19]]\n",
      "Accuracy: 0.85\n",
      "Macro F1: 0.8426114835324978\n",
      "Micro F1: 0.85\n",
      "\n",
      "=== Actionability ===\n",
      "-- Exact (3-Class) --\n",
      "                precision    recall  f1-score   support\n",
      "\n",
      "            No      0.887     0.979     0.931        48\n",
      "To some extent      0.000     0.000     0.000         5\n",
      "           Yes      0.429     0.429     0.429         7\n",
      "\n",
      "      accuracy                          0.833        60\n",
      "     macro avg      0.438     0.469     0.453        60\n",
      "  weighted avg      0.759     0.833     0.795        60\n",
      "\n",
      "Confusion Matrix:\n",
      "[[47  0  1]\n",
      " [ 2  0  3]\n",
      " [ 4  0  3]]\n",
      "Accuracy: 0.8333333333333334\n",
      "Macro F1: 0.45308816595945306\n",
      "Micro F1: 0.8333333333333334\n",
      "-- Lenient (2-Class) --\n",
      "              precision    recall  f1-score   support\n",
      "\n",
      "          No      0.887     0.979     0.931        48\n",
      "     Yes/TSE      0.857     0.500     0.632        12\n",
      "\n",
      "    accuracy                          0.883        60\n",
      "   macro avg      0.872     0.740     0.781        60\n",
      "weighted avg      0.881     0.883     0.871        60\n",
      "\n",
      "Confusion Matrix:\n",
      "[[47  1]\n",
      " [ 6  6]]\n",
      "Accuracy: 0.8833333333333333\n",
      "Macro F1: 0.7811360083376759\n",
      "Micro F1: 0.8833333333333333\n",
      "\n",
      "\n",
      "================= TUTOR: Novice =================\n"
     ]
    },
    {
     "name": "stderr",
     "output_type": "stream",
     "text": [
      "Some weights of RobertaModel were not initialized from the model checkpoint at roberta-base and are newly initialized: ['roberta.pooler.dense.bias', 'roberta.pooler.dense.weight']\n",
      "You should probably TRAIN this model on a down-stream task to be able to use it for predictions and inference.\n",
      "Training Epoch 1: 100%|██████████| 8/8 [00:03<00:00,  2.58it/s]\n"
     ]
    },
    {
     "name": "stdout",
     "output_type": "stream",
     "text": [
      "Epoch 1 Loss: 1.6156\n"
     ]
    },
    {
     "name": "stderr",
     "output_type": "stream",
     "text": [
      "Training Epoch 2: 100%|██████████| 8/8 [00:03<00:00,  2.34it/s]\n"
     ]
    },
    {
     "name": "stdout",
     "output_type": "stream",
     "text": [
      "Epoch 2 Loss: 1.4090\n"
     ]
    },
    {
     "name": "stderr",
     "output_type": "stream",
     "text": [
      "Training Epoch 3: 100%|██████████| 8/8 [00:03<00:00,  2.43it/s]\n"
     ]
    },
    {
     "name": "stdout",
     "output_type": "stream",
     "text": [
      "Epoch 3 Loss: 1.2625\n"
     ]
    },
    {
     "name": "stderr",
     "output_type": "stream",
     "text": [
      "Training Epoch 4: 100%|██████████| 8/8 [00:02<00:00,  2.70it/s]\n"
     ]
    },
    {
     "name": "stdout",
     "output_type": "stream",
     "text": [
      "Epoch 4 Loss: 1.2754\n"
     ]
    },
    {
     "name": "stderr",
     "output_type": "stream",
     "text": [
      "Training Epoch 5: 100%|██████████| 8/8 [00:02<00:00,  2.96it/s]\n"
     ]
    },
    {
     "name": "stdout",
     "output_type": "stream",
     "text": [
      "Epoch 5 Loss: 1.2816\n"
     ]
    },
    {
     "name": "stderr",
     "output_type": "stream",
     "text": [
      "Training Epoch 6: 100%|██████████| 8/8 [00:03<00:00,  2.67it/s]\n"
     ]
    },
    {
     "name": "stdout",
     "output_type": "stream",
     "text": [
      "Epoch 6 Loss: 1.0956\n"
     ]
    },
    {
     "name": "stderr",
     "output_type": "stream",
     "text": [
      "Training Epoch 7: 100%|██████████| 8/8 [00:02<00:00,  2.76it/s]\n"
     ]
    },
    {
     "name": "stdout",
     "output_type": "stream",
     "text": [
      "Epoch 7 Loss: 1.0778\n"
     ]
    },
    {
     "name": "stderr",
     "output_type": "stream",
     "text": [
      "Training Epoch 8: 100%|██████████| 8/8 [00:02<00:00,  2.67it/s]\n"
     ]
    },
    {
     "name": "stdout",
     "output_type": "stream",
     "text": [
      "Epoch 8 Loss: 0.9414\n"
     ]
    },
    {
     "name": "stderr",
     "output_type": "stream",
     "text": [
      "Training Epoch 9: 100%|██████████| 8/8 [00:02<00:00,  2.93it/s]\n"
     ]
    },
    {
     "name": "stdout",
     "output_type": "stream",
     "text": [
      "Epoch 9 Loss: 0.8575\n"
     ]
    },
    {
     "name": "stderr",
     "output_type": "stream",
     "text": [
      "Training Epoch 10: 100%|██████████| 8/8 [00:02<00:00,  2.74it/s]\n"
     ]
    },
    {
     "name": "stdout",
     "output_type": "stream",
     "text": [
      "Epoch 10 Loss: 0.6839\n"
     ]
    },
    {
     "name": "stderr",
     "output_type": "stream",
     "text": [
      "Training Epoch 11: 100%|██████████| 8/8 [00:02<00:00,  2.80it/s]\n"
     ]
    },
    {
     "name": "stdout",
     "output_type": "stream",
     "text": [
      "Epoch 11 Loss: 0.5777\n"
     ]
    },
    {
     "name": "stderr",
     "output_type": "stream",
     "text": [
      "Training Epoch 12: 100%|██████████| 8/8 [00:02<00:00,  3.82it/s]\n"
     ]
    },
    {
     "name": "stdout",
     "output_type": "stream",
     "text": [
      "Epoch 12 Loss: 0.4092\n"
     ]
    },
    {
     "name": "stderr",
     "output_type": "stream",
     "text": [
      "Training Epoch 13: 100%|██████████| 8/8 [00:02<00:00,  2.97it/s]\n"
     ]
    },
    {
     "name": "stdout",
     "output_type": "stream",
     "text": [
      "Epoch 13 Loss: 0.2616\n"
     ]
    },
    {
     "name": "stderr",
     "output_type": "stream",
     "text": [
      "Training Epoch 14: 100%|██████████| 8/8 [00:02<00:00,  2.89it/s]\n"
     ]
    },
    {
     "name": "stdout",
     "output_type": "stream",
     "text": [
      "Epoch 14 Loss: 0.2006\n"
     ]
    },
    {
     "name": "stderr",
     "output_type": "stream",
     "text": [
      "Training Epoch 15: 100%|██████████| 8/8 [00:02<00:00,  3.03it/s]\n"
     ]
    },
    {
     "name": "stdout",
     "output_type": "stream",
     "text": [
      "Epoch 15 Loss: 0.1361\n"
     ]
    },
    {
     "name": "stderr",
     "output_type": "stream",
     "text": [
      "Training Epoch 16: 100%|██████████| 8/8 [00:02<00:00,  3.01it/s]\n"
     ]
    },
    {
     "name": "stdout",
     "output_type": "stream",
     "text": [
      "Epoch 16 Loss: 0.0988\n"
     ]
    },
    {
     "name": "stderr",
     "output_type": "stream",
     "text": [
      "Training Epoch 17: 100%|██████████| 8/8 [00:02<00:00,  3.07it/s]\n"
     ]
    },
    {
     "name": "stdout",
     "output_type": "stream",
     "text": [
      "Epoch 17 Loss: 0.0749\n"
     ]
    },
    {
     "name": "stderr",
     "output_type": "stream",
     "text": [
      "Training Epoch 18: 100%|██████████| 8/8 [00:02<00:00,  3.06it/s]\n"
     ]
    },
    {
     "name": "stdout",
     "output_type": "stream",
     "text": [
      "Epoch 18 Loss: 0.0580\n"
     ]
    },
    {
     "name": "stderr",
     "output_type": "stream",
     "text": [
      "Training Epoch 19: 100%|██████████| 8/8 [00:02<00:00,  3.07it/s]\n"
     ]
    },
    {
     "name": "stdout",
     "output_type": "stream",
     "text": [
      "Epoch 19 Loss: 0.0540\n"
     ]
    },
    {
     "name": "stderr",
     "output_type": "stream",
     "text": [
      "Training Epoch 20: 100%|██████████| 8/8 [00:02<00:00,  3.87it/s]\n"
     ]
    },
    {
     "name": "stdout",
     "output_type": "stream",
     "text": [
      "Epoch 20 Loss: 0.0384\n"
     ]
    },
    {
     "name": "stderr",
     "output_type": "stream",
     "text": [
      "Training Epoch 21: 100%|██████████| 8/8 [00:03<00:00,  2.57it/s]\n"
     ]
    },
    {
     "name": "stdout",
     "output_type": "stream",
     "text": [
      "Epoch 21 Loss: 0.0373\n"
     ]
    },
    {
     "name": "stderr",
     "output_type": "stream",
     "text": [
      "Training Epoch 22: 100%|██████████| 8/8 [00:02<00:00,  3.28it/s]\n"
     ]
    },
    {
     "name": "stdout",
     "output_type": "stream",
     "text": [
      "Epoch 22 Loss: 0.0292\n"
     ]
    },
    {
     "name": "stderr",
     "output_type": "stream",
     "text": [
      "Training Epoch 23: 100%|██████████| 8/8 [00:02<00:00,  2.96it/s]\n"
     ]
    },
    {
     "name": "stdout",
     "output_type": "stream",
     "text": [
      "Epoch 23 Loss: 0.0277\n"
     ]
    },
    {
     "name": "stderr",
     "output_type": "stream",
     "text": [
      "Training Epoch 24: 100%|██████████| 8/8 [00:02<00:00,  3.35it/s]\n"
     ]
    },
    {
     "name": "stdout",
     "output_type": "stream",
     "text": [
      "Epoch 24 Loss: 0.0173\n"
     ]
    },
    {
     "name": "stderr",
     "output_type": "stream",
     "text": [
      "Training Epoch 25: 100%|██████████| 8/8 [00:02<00:00,  3.15it/s]\n"
     ]
    },
    {
     "name": "stdout",
     "output_type": "stream",
     "text": [
      "Epoch 25 Loss: 0.0166\n"
     ]
    },
    {
     "name": "stderr",
     "output_type": "stream",
     "text": [
      "Training Epoch 26: 100%|██████████| 8/8 [00:02<00:00,  3.25it/s]\n"
     ]
    },
    {
     "name": "stdout",
     "output_type": "stream",
     "text": [
      "Epoch 26 Loss: 0.0152\n"
     ]
    },
    {
     "name": "stderr",
     "output_type": "stream",
     "text": [
      "Training Epoch 27: 100%|██████████| 8/8 [00:03<00:00,  2.56it/s]\n"
     ]
    },
    {
     "name": "stdout",
     "output_type": "stream",
     "text": [
      "Epoch 27 Loss: 0.0147\n"
     ]
    },
    {
     "name": "stderr",
     "output_type": "stream",
     "text": [
      "Training Epoch 28: 100%|██████████| 8/8 [00:03<00:00,  2.59it/s]\n"
     ]
    },
    {
     "name": "stdout",
     "output_type": "stream",
     "text": [
      "Epoch 28 Loss: 0.0137\n"
     ]
    },
    {
     "name": "stderr",
     "output_type": "stream",
     "text": [
      "Training Epoch 29: 100%|██████████| 8/8 [00:02<00:00,  2.81it/s]\n"
     ]
    },
    {
     "name": "stdout",
     "output_type": "stream",
     "text": [
      "Epoch 29 Loss: 0.0128\n"
     ]
    },
    {
     "name": "stderr",
     "output_type": "stream",
     "text": [
      "Training Epoch 30: 100%|██████████| 8/8 [00:02<00:00,  2.88it/s]\n"
     ]
    },
    {
     "name": "stdout",
     "output_type": "stream",
     "text": [
      "Epoch 30 Loss: 0.0121\n"
     ]
    },
    {
     "name": "stderr",
     "output_type": "stream",
     "text": [
      "Training Epoch 31: 100%|██████████| 8/8 [00:02<00:00,  3.26it/s]\n"
     ]
    },
    {
     "name": "stdout",
     "output_type": "stream",
     "text": [
      "Epoch 31 Loss: 0.0177\n"
     ]
    },
    {
     "name": "stderr",
     "output_type": "stream",
     "text": [
      "Training Epoch 32: 100%|██████████| 8/8 [00:02<00:00,  2.80it/s]\n"
     ]
    },
    {
     "name": "stdout",
     "output_type": "stream",
     "text": [
      "Epoch 32 Loss: 0.0173\n"
     ]
    },
    {
     "name": "stderr",
     "output_type": "stream",
     "text": [
      "Training Epoch 33: 100%|██████████| 8/8 [00:02<00:00,  3.04it/s]\n"
     ]
    },
    {
     "name": "stdout",
     "output_type": "stream",
     "text": [
      "Epoch 33 Loss: 0.0109\n"
     ]
    },
    {
     "name": "stderr",
     "output_type": "stream",
     "text": [
      "Training Epoch 34: 100%|██████████| 8/8 [00:02<00:00,  2.70it/s]\n"
     ]
    },
    {
     "name": "stdout",
     "output_type": "stream",
     "text": [
      "Epoch 34 Loss: 0.0086\n"
     ]
    },
    {
     "name": "stderr",
     "output_type": "stream",
     "text": [
      "Training Epoch 35: 100%|██████████| 8/8 [00:03<00:00,  2.58it/s]\n"
     ]
    },
    {
     "name": "stdout",
     "output_type": "stream",
     "text": [
      "Epoch 35 Loss: 0.0080\n"
     ]
    },
    {
     "name": "stderr",
     "output_type": "stream",
     "text": [
      "Training Epoch 36: 100%|██████████| 8/8 [00:03<00:00,  2.62it/s]\n"
     ]
    },
    {
     "name": "stdout",
     "output_type": "stream",
     "text": [
      "Epoch 36 Loss: 0.0152\n"
     ]
    },
    {
     "name": "stderr",
     "output_type": "stream",
     "text": [
      "Training Epoch 37: 100%|██████████| 8/8 [00:03<00:00,  2.42it/s]\n"
     ]
    },
    {
     "name": "stdout",
     "output_type": "stream",
     "text": [
      "Epoch 37 Loss: 0.0079\n"
     ]
    },
    {
     "name": "stderr",
     "output_type": "stream",
     "text": [
      "Training Epoch 38: 100%|██████████| 8/8 [00:02<00:00,  2.97it/s]\n"
     ]
    },
    {
     "name": "stdout",
     "output_type": "stream",
     "text": [
      "Epoch 38 Loss: 0.0120\n"
     ]
    },
    {
     "name": "stderr",
     "output_type": "stream",
     "text": [
      "Training Epoch 39: 100%|██████████| 8/8 [00:02<00:00,  3.08it/s]\n"
     ]
    },
    {
     "name": "stdout",
     "output_type": "stream",
     "text": [
      "Epoch 39 Loss: 0.0095\n"
     ]
    },
    {
     "name": "stderr",
     "output_type": "stream",
     "text": [
      "Training Epoch 40: 100%|██████████| 8/8 [00:02<00:00,  3.32it/s]\n"
     ]
    },
    {
     "name": "stdout",
     "output_type": "stream",
     "text": [
      "Epoch 40 Loss: 0.0088\n"
     ]
    },
    {
     "name": "stderr",
     "output_type": "stream",
     "text": [
      "Training Epoch 41: 100%|██████████| 8/8 [00:02<00:00,  2.73it/s]\n"
     ]
    },
    {
     "name": "stdout",
     "output_type": "stream",
     "text": [
      "Epoch 41 Loss: 0.0088\n"
     ]
    },
    {
     "name": "stderr",
     "output_type": "stream",
     "text": [
      "Training Epoch 42: 100%|██████████| 8/8 [00:03<00:00,  2.49it/s]\n"
     ]
    },
    {
     "name": "stdout",
     "output_type": "stream",
     "text": [
      "Epoch 42 Loss: 0.0075\n"
     ]
    },
    {
     "name": "stderr",
     "output_type": "stream",
     "text": [
      "Training Epoch 43: 100%|██████████| 8/8 [00:02<00:00,  2.98it/s]\n"
     ]
    },
    {
     "name": "stdout",
     "output_type": "stream",
     "text": [
      "Epoch 43 Loss: 0.0071\n"
     ]
    },
    {
     "name": "stderr",
     "output_type": "stream",
     "text": [
      "Training Epoch 44: 100%|██████████| 8/8 [00:02<00:00,  3.02it/s]\n"
     ]
    },
    {
     "name": "stdout",
     "output_type": "stream",
     "text": [
      "Epoch 44 Loss: 0.0076\n"
     ]
    },
    {
     "name": "stderr",
     "output_type": "stream",
     "text": [
      "Training Epoch 45: 100%|██████████| 8/8 [00:02<00:00,  2.83it/s]\n"
     ]
    },
    {
     "name": "stdout",
     "output_type": "stream",
     "text": [
      "Epoch 45 Loss: 0.0102\n"
     ]
    },
    {
     "name": "stderr",
     "output_type": "stream",
     "text": [
      "Training Epoch 46: 100%|██████████| 8/8 [00:02<00:00,  2.67it/s]\n"
     ]
    },
    {
     "name": "stdout",
     "output_type": "stream",
     "text": [
      "Epoch 46 Loss: 0.0084\n"
     ]
    },
    {
     "name": "stderr",
     "output_type": "stream",
     "text": [
      "Training Epoch 47: 100%|██████████| 8/8 [00:02<00:00,  3.10it/s]\n"
     ]
    },
    {
     "name": "stdout",
     "output_type": "stream",
     "text": [
      "Epoch 47 Loss: 0.0085\n"
     ]
    },
    {
     "name": "stderr",
     "output_type": "stream",
     "text": [
      "Training Epoch 48: 100%|██████████| 8/8 [00:03<00:00,  2.51it/s]\n"
     ]
    },
    {
     "name": "stdout",
     "output_type": "stream",
     "text": [
      "Epoch 48 Loss: 0.0082\n"
     ]
    },
    {
     "name": "stderr",
     "output_type": "stream",
     "text": [
      "Training Epoch 49: 100%|██████████| 8/8 [00:02<00:00,  3.24it/s]\n"
     ]
    },
    {
     "name": "stdout",
     "output_type": "stream",
     "text": [
      "Epoch 49 Loss: 0.0066\n"
     ]
    },
    {
     "name": "stderr",
     "output_type": "stream",
     "text": [
      "Training Epoch 50: 100%|██████████| 8/8 [00:02<00:00,  2.95it/s]\n"
     ]
    },
    {
     "name": "stdout",
     "output_type": "stream",
     "text": [
      "Epoch 50 Loss: 0.0063\n",
      "\n",
      "FINAL EVALUATION ON VALIDATION SET\n",
      "\n",
      "=== Mistake_Identification ===\n",
      "-- Exact (3-Class) --\n",
      "                precision    recall  f1-score   support\n",
      "\n",
      "            No      0.000     0.000     0.000         2\n",
      "To some extent      0.400     0.667     0.500         3\n",
      "           Yes      0.889     0.727     0.800        11\n",
      "\n",
      "      accuracy                          0.625        16\n",
      "     macro avg      0.430     0.465     0.433        16\n",
      "  weighted avg      0.686     0.625     0.644        16\n",
      "\n",
      "Confusion Matrix:\n",
      "[[0 2 0]\n",
      " [0 2 1]\n",
      " [2 1 8]]\n",
      "Accuracy: 0.625\n",
      "Macro F1: 0.4333333333333333\n",
      "Micro F1: 0.625\n",
      "-- Lenient (2-Class) --\n",
      "              precision    recall  f1-score   support\n",
      "\n",
      "          No      0.000     0.000     0.000         2\n",
      "     Yes/TSE      0.857     0.857     0.857        14\n",
      "\n",
      "    accuracy                          0.750        16\n",
      "   macro avg      0.429     0.429     0.429        16\n",
      "weighted avg      0.750     0.750     0.750        16\n",
      "\n",
      "Confusion Matrix:\n",
      "[[ 0  2]\n",
      " [ 2 12]]\n",
      "Accuracy: 0.75\n",
      "Macro F1: 0.42857142857142855\n",
      "Micro F1: 0.75\n",
      "\n",
      "=== Mistake_Location ===\n",
      "-- Exact (3-Class) --\n",
      "                precision    recall  f1-score   support\n",
      "\n",
      "            No      0.714     1.000     0.833        10\n",
      "To some extent      0.000     0.000     0.000         0\n",
      "           Yes      1.000     0.333     0.500         6\n",
      "\n",
      "     micro avg      0.750     0.750     0.750        16\n",
      "     macro avg      0.571     0.444     0.444        16\n",
      "  weighted avg      0.821     0.750     0.708        16\n",
      "\n",
      "Confusion Matrix:\n",
      "[[10  0  0]\n",
      " [ 0  0  0]\n",
      " [ 4  0  2]]\n",
      "Accuracy: 0.75\n",
      "Macro F1: 0.6666666666666666\n",
      "Micro F1: 0.75\n",
      "-- Lenient (2-Class) --\n",
      "              precision    recall  f1-score   support\n",
      "\n",
      "          No      0.714     1.000     0.833        10\n",
      "     Yes/TSE      1.000     0.333     0.500         6\n",
      "\n",
      "    accuracy                          0.750        16\n",
      "   macro avg      0.857     0.667     0.667        16\n",
      "weighted avg      0.821     0.750     0.708        16\n",
      "\n",
      "Confusion Matrix:\n",
      "[[10  0]\n",
      " [ 4  2]]\n",
      "Accuracy: 0.75\n",
      "Macro F1: 0.6666666666666666\n",
      "Micro F1: 0.75\n",
      "\n",
      "=== Providing_Guidance ===\n",
      "-- Exact (3-Class) --\n",
      "                precision    recall  f1-score   support\n",
      "\n",
      "            No      0.857     1.000     0.923        12\n",
      "To some extent      0.000     0.000     0.000         0\n",
      "           Yes      1.000     0.500     0.667         4\n",
      "\n",
      "     micro avg      0.875     0.875     0.875        16\n",
      "     macro avg      0.619     0.500     0.530        16\n",
      "  weighted avg      0.893     0.875     0.859        16\n",
      "\n",
      "Confusion Matrix:\n",
      "[[12  0  0]\n",
      " [ 0  0  0]\n",
      " [ 2  0  2]]\n",
      "Accuracy: 0.875\n",
      "Macro F1: 0.7948717948717948\n",
      "Micro F1: 0.875\n",
      "-- Lenient (2-Class) --\n",
      "              precision    recall  f1-score   support\n",
      "\n",
      "          No      0.857     1.000     0.923        12\n",
      "     Yes/TSE      1.000     0.500     0.667         4\n",
      "\n",
      "    accuracy                          0.875        16\n",
      "   macro avg      0.929     0.750     0.795        16\n",
      "weighted avg      0.893     0.875     0.859        16\n",
      "\n",
      "Confusion Matrix:\n",
      "[[12  0]\n",
      " [ 2  2]]\n",
      "Accuracy: 0.875\n",
      "Macro F1: 0.7948717948717948\n",
      "Micro F1: 0.875\n",
      "\n",
      "=== Actionability ===\n",
      "-- Exact (3-Class) --\n",
      "                precision    recall  f1-score   support\n",
      "\n",
      "            No      0.857     1.000     0.923        12\n",
      "To some extent      1.000     0.667     0.800         3\n",
      "           Yes      0.000     0.000     0.000         1\n",
      "\n",
      "      accuracy                          0.875        16\n",
      "     macro avg      0.619     0.556     0.574        16\n",
      "  weighted avg      0.830     0.875     0.842        16\n",
      "\n",
      "Confusion Matrix:\n",
      "[[12  0  0]\n",
      " [ 1  2  0]\n",
      " [ 1  0  0]]\n",
      "Accuracy: 0.875\n",
      "Macro F1: 0.5743589743589744\n",
      "Micro F1: 0.875\n",
      "-- Lenient (2-Class) --\n",
      "              precision    recall  f1-score   support\n",
      "\n",
      "          No      0.857     1.000     0.923        12\n",
      "     Yes/TSE      1.000     0.500     0.667         4\n",
      "\n",
      "    accuracy                          0.875        16\n",
      "   macro avg      0.929     0.750     0.795        16\n",
      "weighted avg      0.893     0.875     0.859        16\n",
      "\n",
      "Confusion Matrix:\n",
      "[[12  0]\n",
      " [ 2  2]]\n",
      "Accuracy: 0.875\n",
      "Macro F1: 0.7948717948717948\n",
      "Micro F1: 0.875\n",
      "\n",
      "\n",
      "========= SUMMARY: MACRO F1 SCORES BY TUTOR =========\n",
      "Sonnet:\n",
      "  Mistake_Identification: 0.459\n",
      "  Mistake_Location: 0.379\n",
      "  Providing_Guidance: 0.347\n",
      "  Actionability: 0.345\n",
      "Llama318B:\n",
      "  Mistake_Identification: 0.300\n",
      "  Mistake_Location: 0.351\n",
      "  Providing_Guidance: 0.360\n",
      "  Actionability: 0.484\n",
      "Llama31405B:\n",
      "  Mistake_Identification: 1.000\n",
      "  Mistake_Location: 0.306\n",
      "  Providing_Guidance: 0.282\n",
      "  Actionability: 0.442\n",
      "GPT4:\n",
      "  Mistake_Identification: 0.487\n",
      "  Mistake_Location: 0.365\n",
      "  Providing_Guidance: 0.419\n",
      "  Actionability: 0.416\n",
      "Mistral:\n",
      "  Mistake_Identification: 0.319\n",
      "  Mistake_Location: 0.311\n",
      "  Providing_Guidance: 0.308\n",
      "  Actionability: 0.319\n",
      "Expert:\n",
      "  Mistake_Identification: 0.267\n",
      "  Mistake_Location: 0.324\n",
      "  Providing_Guidance: 0.501\n",
      "  Actionability: 0.278\n",
      "Gemini:\n",
      "  Mistake_Identification: 0.469\n",
      "  Mistake_Location: 0.318\n",
      "  Providing_Guidance: 0.319\n",
      "  Actionability: 0.331\n",
      "Phi3:\n",
      "  Mistake_Identification: 0.943\n",
      "  Mistake_Location: 0.632\n",
      "  Providing_Guidance: 0.677\n",
      "  Actionability: 0.453\n",
      "Novice:\n",
      "  Mistake_Identification: 0.433\n",
      "  Mistake_Location: 0.667\n",
      "  Providing_Guidance: 0.795\n",
      "  Actionability: 0.574\n"
     ]
    }
   ],
   "source": [
    "# --- Tutor-wise Training & Evaluation ---\n",
    "if __name__ == '__main__':\n",
    "    from sklearn.model_selection import train_test_split\n",
    "\n",
    "    tokenizer = AutoTokenizer.from_pretrained(MODEL_NAME)\n",
    "    tutor_data = load_json_dataset_by_tutor('ai_tutors_dataset.json')\n",
    "    tutor_scores = {}\n",
    "\n",
    "    for tutor_name, data in tutor_data.items():\n",
    "        print(f\"\\n\\n================= TUTOR: {tutor_name} =================\")\n",
    "\n",
    "        train_data, val_data = train_test_split(data, test_size=0.3, random_state=42)\n",
    "        train_ds = TutorDataset(train_data, tokenizer)\n",
    "        val_ds = TutorDataset(val_data, tokenizer)\n",
    "\n",
    "        train_loader = DataLoader(train_ds, batch_size=8, shuffle=True)\n",
    "        val_loader = DataLoader(val_ds, batch_size=8)\n",
    "\n",
    "        model = PedagogicalModel()\n",
    "        train_model(model, train_loader, val_loader, epochs=50, lr=2e-5, use_focal=True)\n",
    "\n",
    "        y_true, y_pred = evaluate_model(model, val_loader)\n",
    "        tutor_scores[tutor_name] = {\n",
    "            task: f1_score(y_true[task], y_pred[task], average='macro')\n",
    "            for task in TASKS\n",
    "        }\n",
    "\n",
    "    # --- Display Summary ---\n",
    "    print(\"\\n\\n========= SUMMARY: MACRO F1 SCORES BY TUTOR =========\")\n",
    "    for tutor, scores in tutor_scores.items():\n",
    "        print(f\"{tutor}:\")\n",
    "        for task in TASKS:\n",
    "            print(f\"  {task}: {scores[task]:.3f}\")"
   ]
  },
  {
   "cell_type": "code",
   "execution_count": null,
   "id": "7f62db40",
   "metadata": {},
   "outputs": [
    {
     "name": "stdout",
     "output_type": "stream",
     "text": [
      "\n",
      "\n",
      "================= TUTOR: Sonnet =================\n"
     ]
    },
    {
     "name": "stderr",
     "output_type": "stream",
     "text": [
      "Some weights of RobertaModel were not initialized from the model checkpoint at roberta-base and are newly initialized: ['roberta.pooler.dense.weight', 'roberta.pooler.dense.bias']\n",
      "You should probably TRAIN this model on a down-stream task to be able to use it for predictions and inference.\n",
      "Training Epoch 1: 100%|██████████| 30/30 [00:12<00:00,  2.46it/s]\n"
     ]
    },
    {
     "name": "stdout",
     "output_type": "stream",
     "text": [
      "Epoch 1 Loss: 1.5855\n"
     ]
    },
    {
     "name": "stderr",
     "output_type": "stream",
     "text": [
      "Training Epoch 2: 100%|██████████| 30/30 [00:12<00:00,  2.40it/s]\n"
     ]
    },
    {
     "name": "stdout",
     "output_type": "stream",
     "text": [
      "Epoch 2 Loss: 1.5351\n"
     ]
    },
    {
     "name": "stderr",
     "output_type": "stream",
     "text": [
      "Training Epoch 3: 100%|██████████| 30/30 [00:12<00:00,  2.46it/s]\n"
     ]
    },
    {
     "name": "stdout",
     "output_type": "stream",
     "text": [
      "Epoch 3 Loss: 1.4445\n"
     ]
    },
    {
     "name": "stderr",
     "output_type": "stream",
     "text": [
      "Training Epoch 4: 100%|██████████| 30/30 [00:12<00:00,  2.41it/s]\n"
     ]
    },
    {
     "name": "stdout",
     "output_type": "stream",
     "text": [
      "Epoch 4 Loss: 1.4214\n"
     ]
    },
    {
     "name": "stderr",
     "output_type": "stream",
     "text": [
      "Training Epoch 5: 100%|██████████| 30/30 [00:12<00:00,  2.45it/s]\n"
     ]
    },
    {
     "name": "stdout",
     "output_type": "stream",
     "text": [
      "Epoch 5 Loss: 1.3743\n"
     ]
    },
    {
     "name": "stderr",
     "output_type": "stream",
     "text": [
      "Training Epoch 6: 100%|██████████| 30/30 [00:12<00:00,  2.41it/s]\n"
     ]
    },
    {
     "name": "stdout",
     "output_type": "stream",
     "text": [
      "Epoch 6 Loss: 1.3594\n"
     ]
    },
    {
     "name": "stderr",
     "output_type": "stream",
     "text": [
      "Training Epoch 7: 100%|██████████| 30/30 [00:12<00:00,  2.43it/s]\n"
     ]
    },
    {
     "name": "stdout",
     "output_type": "stream",
     "text": [
      "Epoch 7 Loss: 1.2838\n"
     ]
    },
    {
     "name": "stderr",
     "output_type": "stream",
     "text": [
      "Training Epoch 8: 100%|██████████| 30/30 [00:12<00:00,  2.42it/s]\n"
     ]
    },
    {
     "name": "stdout",
     "output_type": "stream",
     "text": [
      "Epoch 8 Loss: 1.2273\n"
     ]
    },
    {
     "name": "stderr",
     "output_type": "stream",
     "text": [
      "Training Epoch 9: 100%|██████████| 30/30 [00:12<00:00,  2.42it/s]\n"
     ]
    },
    {
     "name": "stdout",
     "output_type": "stream",
     "text": [
      "Epoch 9 Loss: 1.0010\n"
     ]
    },
    {
     "name": "stderr",
     "output_type": "stream",
     "text": [
      "Training Epoch 10: 100%|██████████| 30/30 [00:07<00:00,  3.76it/s]\n"
     ]
    },
    {
     "name": "stdout",
     "output_type": "stream",
     "text": [
      "Epoch 10 Loss: 0.7282\n"
     ]
    },
    {
     "name": "stderr",
     "output_type": "stream",
     "text": [
      "Training Epoch 11: 100%|██████████| 30/30 [00:07<00:00,  3.77it/s]\n"
     ]
    },
    {
     "name": "stdout",
     "output_type": "stream",
     "text": [
      "Epoch 11 Loss: 0.5814\n"
     ]
    },
    {
     "name": "stderr",
     "output_type": "stream",
     "text": [
      "Training Epoch 12: 100%|██████████| 30/30 [00:09<00:00,  3.00it/s]\n"
     ]
    },
    {
     "name": "stdout",
     "output_type": "stream",
     "text": [
      "Epoch 12 Loss: 0.4499\n"
     ]
    },
    {
     "name": "stderr",
     "output_type": "stream",
     "text": [
      "Training Epoch 13: 100%|██████████| 30/30 [00:11<00:00,  2.60it/s]\n"
     ]
    },
    {
     "name": "stdout",
     "output_type": "stream",
     "text": [
      "Epoch 13 Loss: 0.2928\n"
     ]
    },
    {
     "name": "stderr",
     "output_type": "stream",
     "text": [
      "Training Epoch 14: 100%|██████████| 30/30 [00:12<00:00,  2.41it/s]\n"
     ]
    },
    {
     "name": "stdout",
     "output_type": "stream",
     "text": [
      "Epoch 14 Loss: 0.2599\n"
     ]
    },
    {
     "name": "stderr",
     "output_type": "stream",
     "text": [
      "Training Epoch 15: 100%|██████████| 30/30 [00:12<00:00,  2.44it/s]\n"
     ]
    },
    {
     "name": "stdout",
     "output_type": "stream",
     "text": [
      "Epoch 15 Loss: 0.1882\n"
     ]
    },
    {
     "name": "stderr",
     "output_type": "stream",
     "text": [
      "Training Epoch 16: 100%|██████████| 30/30 [00:12<00:00,  2.42it/s]\n"
     ]
    },
    {
     "name": "stdout",
     "output_type": "stream",
     "text": [
      "Epoch 16 Loss: 0.1469\n"
     ]
    },
    {
     "name": "stderr",
     "output_type": "stream",
     "text": [
      "Training Epoch 17: 100%|██████████| 30/30 [00:12<00:00,  2.42it/s]\n"
     ]
    },
    {
     "name": "stdout",
     "output_type": "stream",
     "text": [
      "Epoch 17 Loss: 0.1252\n"
     ]
    },
    {
     "name": "stderr",
     "output_type": "stream",
     "text": [
      "Training Epoch 18: 100%|██████████| 30/30 [00:12<00:00,  2.45it/s]\n"
     ]
    },
    {
     "name": "stdout",
     "output_type": "stream",
     "text": [
      "Epoch 18 Loss: 0.1045\n"
     ]
    },
    {
     "name": "stderr",
     "output_type": "stream",
     "text": [
      "Training Epoch 19: 100%|██████████| 30/30 [00:12<00:00,  2.42it/s]\n"
     ]
    },
    {
     "name": "stdout",
     "output_type": "stream",
     "text": [
      "Epoch 19 Loss: 0.0809\n"
     ]
    },
    {
     "name": "stderr",
     "output_type": "stream",
     "text": [
      "Training Epoch 20: 100%|██████████| 30/30 [00:12<00:00,  2.43it/s]\n"
     ]
    },
    {
     "name": "stdout",
     "output_type": "stream",
     "text": [
      "Epoch 20 Loss: 0.0775\n"
     ]
    },
    {
     "name": "stderr",
     "output_type": "stream",
     "text": [
      "Training Epoch 21: 100%|██████████| 30/30 [00:12<00:00,  2.43it/s]\n"
     ]
    },
    {
     "name": "stdout",
     "output_type": "stream",
     "text": [
      "Epoch 21 Loss: 0.0810\n"
     ]
    },
    {
     "name": "stderr",
     "output_type": "stream",
     "text": [
      "Training Epoch 22: 100%|██████████| 30/30 [00:12<00:00,  2.44it/s]\n"
     ]
    },
    {
     "name": "stdout",
     "output_type": "stream",
     "text": [
      "Epoch 22 Loss: 0.0599\n"
     ]
    },
    {
     "name": "stderr",
     "output_type": "stream",
     "text": [
      "Training Epoch 23: 100%|██████████| 30/30 [00:11<00:00,  2.68it/s]\n"
     ]
    },
    {
     "name": "stdout",
     "output_type": "stream",
     "text": [
      "Epoch 23 Loss: 0.0516\n"
     ]
    },
    {
     "name": "stderr",
     "output_type": "stream",
     "text": [
      "Training Epoch 24: 100%|██████████| 30/30 [00:07<00:00,  3.78it/s]\n"
     ]
    },
    {
     "name": "stdout",
     "output_type": "stream",
     "text": [
      "Epoch 24 Loss: 0.0534\n"
     ]
    },
    {
     "name": "stderr",
     "output_type": "stream",
     "text": [
      "Training Epoch 25: 100%|██████████| 30/30 [00:11<00:00,  2.59it/s]\n"
     ]
    },
    {
     "name": "stdout",
     "output_type": "stream",
     "text": [
      "Epoch 25 Loss: 0.0519\n",
      "\n",
      "FINAL EVALUATION ON VALIDATION SET\n",
      "\n",
      "=== Mistake_Identification ===\n",
      "-- Exact (3-Class) --\n",
      "                precision    recall  f1-score   support\n",
      "\n",
      "            No      0.000     0.000     0.000         0\n",
      "To some extent      0.000     0.000     0.000         3\n",
      "           Yes      0.944     0.895     0.919        57\n",
      "\n",
      "     micro avg      0.850     0.850     0.850        60\n",
      "     macro avg      0.315     0.298     0.306        60\n",
      "  weighted avg      0.897     0.850     0.873        60\n",
      "\n",
      "Confusion Matrix:\n",
      "[[ 0  0  0]\n",
      " [ 0  0  3]\n",
      " [ 0  6 51]]\n",
      "Accuracy: 0.85\n",
      "Macro F1: 0.4594594594594595\n",
      "Micro F1: 0.85\n",
      "-- Lenient (2-Class) --\n",
      "              precision    recall  f1-score   support\n",
      "\n",
      "          No      0.000     0.000     0.000         0\n",
      "     Yes/TSE      1.000     1.000     1.000        60\n",
      "\n",
      "   micro avg      1.000     1.000     1.000        60\n",
      "   macro avg      0.500     0.500     0.500        60\n",
      "weighted avg      1.000     1.000     1.000        60\n",
      "\n",
      "Confusion Matrix:\n",
      "[[ 0  0]\n",
      " [ 0 60]]\n",
      "Accuracy: 1.0\n",
      "Macro F1: 1.0\n",
      "Micro F1: 1.0\n",
      "\n",
      "=== Mistake_Location ===\n",
      "-- Exact (3-Class) --\n",
      "                precision    recall  f1-score   support\n",
      "\n",
      "            No      0.455     0.500     0.476        10\n",
      "To some extent      0.000     0.000     0.000         7\n",
      "           Yes      0.783     0.837     0.809        43\n",
      "\n",
      "      accuracy                          0.683        60\n",
      "     macro avg      0.412     0.446     0.428        60\n",
      "  weighted avg      0.637     0.683     0.659        60\n",
      "\n",
      "Confusion Matrix:\n",
      "[[ 5  0  5]\n",
      " [ 2  0  5]\n",
      " [ 4  3 36]]\n",
      "Accuracy: 0.6833333333333333\n",
      "Macro F1: 0.42839308007847327\n",
      "Micro F1: 0.6833333333333333\n",
      "-- Lenient (2-Class) --\n",
      "              precision    recall  f1-score   support\n",
      "\n",
      "          No      0.455     0.500     0.476        10\n",
      "     Yes/TSE      0.898     0.880     0.889        50\n",
      "\n",
      "    accuracy                          0.817        60\n",
      "   macro avg      0.676     0.690     0.683        60\n",
      "weighted avg      0.824     0.817     0.820        60\n",
      "\n",
      "Confusion Matrix:\n",
      "[[ 5  5]\n",
      " [ 6 44]]\n",
      "Accuracy: 0.8166666666666667\n",
      "Macro F1: 0.6825396825396826\n",
      "Micro F1: 0.8166666666666667\n",
      "\n",
      "=== Providing_Guidance ===\n",
      "-- Exact (3-Class) --\n",
      "                precision    recall  f1-score   support\n",
      "\n",
      "            No      1.000     0.250     0.400        12\n",
      "To some extent      0.400     0.400     0.400        15\n",
      "           Yes      0.595     0.758     0.667        33\n",
      "\n",
      "      accuracy                          0.567        60\n",
      "     macro avg      0.665     0.469     0.489        60\n",
      "  weighted avg      0.627     0.567     0.547        60\n",
      "\n",
      "Confusion Matrix:\n",
      "[[ 3  1  8]\n",
      " [ 0  6  9]\n",
      " [ 0  8 25]]\n",
      "Accuracy: 0.5666666666666667\n",
      "Macro F1: 0.48888888888888893\n",
      "Micro F1: 0.5666666666666667\n",
      "-- Lenient (2-Class) --\n",
      "              precision    recall  f1-score   support\n",
      "\n",
      "          No      1.000     0.250     0.400        12\n",
      "     Yes/TSE      0.842     1.000     0.914        48\n",
      "\n",
      "    accuracy                          0.850        60\n",
      "   macro avg      0.921     0.625     0.657        60\n",
      "weighted avg      0.874     0.850     0.811        60\n",
      "\n",
      "Confusion Matrix:\n",
      "[[ 3  9]\n",
      " [ 0 48]]\n",
      "Accuracy: 0.85\n",
      "Macro F1: 0.6571428571428571\n",
      "Micro F1: 0.85\n",
      "\n",
      "=== Actionability ===\n",
      "-- Exact (3-Class) --\n",
      "                precision    recall  f1-score   support\n",
      "\n",
      "            No      0.000     0.000     0.000         6\n",
      "To some extent      0.400     0.381     0.390        21\n",
      "           Yes      0.611     0.667     0.638        33\n",
      "\n",
      "      accuracy                          0.500        60\n",
      "     macro avg      0.337     0.349     0.343        60\n",
      "  weighted avg      0.476     0.500     0.487        60\n",
      "\n",
      "Confusion Matrix:\n",
      "[[ 0  4  2]\n",
      " [ 1  8 12]\n",
      " [ 3  8 22]]\n",
      "Accuracy: 0.5\n",
      "Macro F1: 0.3426416872864381\n",
      "Micro F1: 0.5\n",
      "-- Lenient (2-Class) --\n",
      "              precision    recall  f1-score   support\n",
      "\n",
      "          No      0.000     0.000     0.000         6\n",
      "     Yes/TSE      0.893     0.926     0.909        54\n",
      "\n",
      "    accuracy                          0.833        60\n",
      "   macro avg      0.446     0.463     0.455        60\n",
      "weighted avg      0.804     0.833     0.818        60\n",
      "\n",
      "Confusion Matrix:\n",
      "[[ 0  6]\n",
      " [ 4 50]]\n",
      "Accuracy: 0.8333333333333334\n",
      "Macro F1: 0.45454545454545453\n",
      "Micro F1: 0.8333333333333334\n",
      "\n",
      "\n",
      "================= TUTOR: Llama318B =================\n"
     ]
    },
    {
     "name": "stderr",
     "output_type": "stream",
     "text": [
      "Some weights of RobertaModel were not initialized from the model checkpoint at roberta-base and are newly initialized: ['roberta.pooler.dense.weight', 'roberta.pooler.dense.bias']\n",
      "You should probably TRAIN this model on a down-stream task to be able to use it for predictions and inference.\n",
      "Training Epoch 1: 100%|██████████| 30/30 [00:12<00:00,  2.46it/s]\n"
     ]
    },
    {
     "name": "stdout",
     "output_type": "stream",
     "text": [
      "Epoch 1 Loss: 1.7942\n"
     ]
    },
    {
     "name": "stderr",
     "output_type": "stream",
     "text": [
      "Training Epoch 2: 100%|██████████| 30/30 [00:12<00:00,  2.41it/s]\n"
     ]
    },
    {
     "name": "stdout",
     "output_type": "stream",
     "text": [
      "Epoch 2 Loss: 1.6641\n"
     ]
    },
    {
     "name": "stderr",
     "output_type": "stream",
     "text": [
      "Training Epoch 3: 100%|██████████| 30/30 [00:12<00:00,  2.45it/s]\n"
     ]
    },
    {
     "name": "stdout",
     "output_type": "stream",
     "text": [
      "Epoch 3 Loss: 1.5826\n"
     ]
    },
    {
     "name": "stderr",
     "output_type": "stream",
     "text": [
      "Training Epoch 4: 100%|██████████| 30/30 [00:12<00:00,  2.41it/s]\n"
     ]
    },
    {
     "name": "stdout",
     "output_type": "stream",
     "text": [
      "Epoch 4 Loss: 1.5481\n"
     ]
    },
    {
     "name": "stderr",
     "output_type": "stream",
     "text": [
      "Training Epoch 5: 100%|██████████| 30/30 [00:12<00:00,  2.45it/s]\n"
     ]
    },
    {
     "name": "stdout",
     "output_type": "stream",
     "text": [
      "Epoch 5 Loss: 1.5315\n"
     ]
    },
    {
     "name": "stderr",
     "output_type": "stream",
     "text": [
      "Training Epoch 6: 100%|██████████| 30/30 [00:12<00:00,  2.42it/s]\n"
     ]
    },
    {
     "name": "stdout",
     "output_type": "stream",
     "text": [
      "Epoch 6 Loss: 1.4554\n"
     ]
    },
    {
     "name": "stderr",
     "output_type": "stream",
     "text": [
      "Training Epoch 7: 100%|██████████| 30/30 [00:12<00:00,  2.44it/s]\n"
     ]
    },
    {
     "name": "stdout",
     "output_type": "stream",
     "text": [
      "Epoch 7 Loss: 1.3511\n"
     ]
    },
    {
     "name": "stderr",
     "output_type": "stream",
     "text": [
      "Training Epoch 8: 100%|██████████| 30/30 [00:12<00:00,  2.41it/s]\n"
     ]
    },
    {
     "name": "stdout",
     "output_type": "stream",
     "text": [
      "Epoch 8 Loss: 1.2387\n"
     ]
    },
    {
     "name": "stderr",
     "output_type": "stream",
     "text": [
      "Training Epoch 9: 100%|██████████| 30/30 [00:12<00:00,  2.45it/s]\n"
     ]
    },
    {
     "name": "stdout",
     "output_type": "stream",
     "text": [
      "Epoch 9 Loss: 1.0138\n"
     ]
    },
    {
     "name": "stderr",
     "output_type": "stream",
     "text": [
      "Training Epoch 10: 100%|██████████| 30/30 [00:10<00:00,  2.99it/s]\n"
     ]
    },
    {
     "name": "stdout",
     "output_type": "stream",
     "text": [
      "Epoch 10 Loss: 0.8636\n"
     ]
    },
    {
     "name": "stderr",
     "output_type": "stream",
     "text": [
      "Training Epoch 11: 100%|██████████| 30/30 [00:08<00:00,  3.38it/s]\n"
     ]
    },
    {
     "name": "stdout",
     "output_type": "stream",
     "text": [
      "Epoch 11 Loss: 0.6853\n"
     ]
    },
    {
     "name": "stderr",
     "output_type": "stream",
     "text": [
      "Training Epoch 12: 100%|██████████| 30/30 [00:11<00:00,  2.56it/s]\n"
     ]
    },
    {
     "name": "stdout",
     "output_type": "stream",
     "text": [
      "Epoch 12 Loss: 0.4919\n"
     ]
    },
    {
     "name": "stderr",
     "output_type": "stream",
     "text": [
      "Training Epoch 13: 100%|██████████| 30/30 [00:12<00:00,  2.46it/s]\n"
     ]
    },
    {
     "name": "stdout",
     "output_type": "stream",
     "text": [
      "Epoch 13 Loss: 0.4042\n"
     ]
    },
    {
     "name": "stderr",
     "output_type": "stream",
     "text": [
      "Training Epoch 14: 100%|██████████| 30/30 [00:12<00:00,  2.46it/s]\n"
     ]
    },
    {
     "name": "stdout",
     "output_type": "stream",
     "text": [
      "Epoch 14 Loss: 0.2988\n"
     ]
    },
    {
     "name": "stderr",
     "output_type": "stream",
     "text": [
      "Training Epoch 15: 100%|██████████| 30/30 [00:12<00:00,  2.42it/s]\n"
     ]
    },
    {
     "name": "stdout",
     "output_type": "stream",
     "text": [
      "Epoch 15 Loss: 0.2322\n"
     ]
    },
    {
     "name": "stderr",
     "output_type": "stream",
     "text": [
      "Training Epoch 16: 100%|██████████| 30/30 [00:12<00:00,  2.44it/s]\n"
     ]
    },
    {
     "name": "stdout",
     "output_type": "stream",
     "text": [
      "Epoch 16 Loss: 0.1847\n"
     ]
    },
    {
     "name": "stderr",
     "output_type": "stream",
     "text": [
      "Training Epoch 17: 100%|██████████| 30/30 [00:12<00:00,  2.41it/s]\n"
     ]
    },
    {
     "name": "stdout",
     "output_type": "stream",
     "text": [
      "Epoch 17 Loss: 0.1473\n"
     ]
    },
    {
     "name": "stderr",
     "output_type": "stream",
     "text": [
      "Training Epoch 18: 100%|██████████| 30/30 [00:12<00:00,  2.46it/s]\n"
     ]
    },
    {
     "name": "stdout",
     "output_type": "stream",
     "text": [
      "Epoch 18 Loss: 0.1310\n"
     ]
    },
    {
     "name": "stderr",
     "output_type": "stream",
     "text": [
      "Training Epoch 19: 100%|██████████| 30/30 [00:12<00:00,  2.41it/s]\n"
     ]
    },
    {
     "name": "stdout",
     "output_type": "stream",
     "text": [
      "Epoch 19 Loss: 0.1202\n"
     ]
    },
    {
     "name": "stderr",
     "output_type": "stream",
     "text": [
      "Training Epoch 20: 100%|██████████| 30/30 [00:12<00:00,  2.45it/s]\n"
     ]
    },
    {
     "name": "stdout",
     "output_type": "stream",
     "text": [
      "Epoch 20 Loss: 0.1030\n"
     ]
    },
    {
     "name": "stderr",
     "output_type": "stream",
     "text": [
      "Training Epoch 21: 100%|██████████| 30/30 [00:12<00:00,  2.42it/s]\n"
     ]
    },
    {
     "name": "stdout",
     "output_type": "stream",
     "text": [
      "Epoch 21 Loss: 0.0874\n"
     ]
    },
    {
     "name": "stderr",
     "output_type": "stream",
     "text": [
      "Training Epoch 22: 100%|██████████| 30/30 [00:12<00:00,  2.45it/s]\n"
     ]
    },
    {
     "name": "stdout",
     "output_type": "stream",
     "text": [
      "Epoch 22 Loss: 0.0869\n"
     ]
    },
    {
     "name": "stderr",
     "output_type": "stream",
     "text": [
      "Training Epoch 23: 100%|██████████| 30/30 [00:08<00:00,  3.61it/s]\n"
     ]
    },
    {
     "name": "stdout",
     "output_type": "stream",
     "text": [
      "Epoch 23 Loss: 0.0798\n"
     ]
    },
    {
     "name": "stderr",
     "output_type": "stream",
     "text": [
      "Training Epoch 24: 100%|██████████| 30/30 [00:09<00:00,  3.14it/s]\n"
     ]
    },
    {
     "name": "stdout",
     "output_type": "stream",
     "text": [
      "Epoch 24 Loss: 0.0681\n"
     ]
    },
    {
     "name": "stderr",
     "output_type": "stream",
     "text": [
      "Training Epoch 25: 100%|██████████| 30/30 [00:11<00:00,  2.54it/s]\n"
     ]
    },
    {
     "name": "stdout",
     "output_type": "stream",
     "text": [
      "Epoch 25 Loss: 0.0705\n",
      "\n",
      "FINAL EVALUATION ON VALIDATION SET\n",
      "\n",
      "=== Mistake_Identification ===\n",
      "-- Exact (3-Class) --\n",
      "                precision    recall  f1-score   support\n",
      "\n",
      "            No      0.000     0.000     0.000         6\n",
      "To some extent      0.000     0.000     0.000         4\n",
      "           Yes      0.831     0.980     0.899        50\n",
      "\n",
      "      accuracy                          0.817        60\n",
      "     macro avg      0.277     0.327     0.300        60\n",
      "  weighted avg      0.692     0.817     0.749        60\n",
      "\n",
      "Confusion Matrix:\n",
      "[[ 0  0  6]\n",
      " [ 0  0  4]\n",
      " [ 0  1 49]]\n",
      "Accuracy: 0.8166666666666667\n",
      "Macro F1: 0.2996941896024465\n",
      "Micro F1: 0.8166666666666667\n",
      "-- Lenient (2-Class) --\n",
      "              precision    recall  f1-score   support\n",
      "\n",
      "          No      0.000     0.000     0.000         6\n",
      "     Yes/TSE      0.900     1.000     0.947        54\n",
      "\n",
      "    accuracy                          0.900        60\n",
      "   macro avg      0.450     0.500     0.474        60\n",
      "weighted avg      0.810     0.900     0.853        60\n",
      "\n",
      "Confusion Matrix:\n",
      "[[ 0  6]\n",
      " [ 0 54]]\n",
      "Accuracy: 0.9\n",
      "Macro F1: 0.4736842105263158\n",
      "Micro F1: 0.9\n",
      "\n",
      "=== Mistake_Location ===\n",
      "-- Exact (3-Class) --\n",
      "                precision    recall  f1-score   support\n",
      "\n",
      "            No      0.533     0.364     0.432        22\n",
      "To some extent      0.250     0.250     0.250         4\n",
      "           Yes      0.634     0.765     0.693        34\n",
      "\n",
      "      accuracy                          0.583        60\n",
      "     macro avg      0.472     0.459     0.459        60\n",
      "  weighted avg      0.572     0.583     0.568        60\n",
      "\n",
      "Confusion Matrix:\n",
      "[[ 8  1 13]\n",
      " [ 1  1  2]\n",
      " [ 6  2 26]]\n",
      "Accuracy: 0.5833333333333334\n",
      "Macro F1: 0.4585885885885886\n",
      "Micro F1: 0.5833333333333334\n",
      "-- Lenient (2-Class) --\n",
      "              precision    recall  f1-score   support\n",
      "\n",
      "          No      0.533     0.364     0.432        22\n",
      "     Yes/TSE      0.689     0.816     0.747        38\n",
      "\n",
      "    accuracy                          0.650        60\n",
      "   macro avg      0.611     0.590     0.590        60\n",
      "weighted avg      0.632     0.650     0.632        60\n",
      "\n",
      "Confusion Matrix:\n",
      "[[ 8 14]\n",
      " [ 7 31]]\n",
      "Accuracy: 0.65\n",
      "Macro F1: 0.5897101921198307\n",
      "Micro F1: 0.65\n",
      "\n",
      "=== Providing_Guidance ===\n",
      "-- Exact (3-Class) --\n",
      "                precision    recall  f1-score   support\n",
      "\n",
      "            No      0.143     0.059     0.083        17\n",
      "To some extent      0.444     0.400     0.421        20\n",
      "           Yes      0.400     0.609     0.483        23\n",
      "\n",
      "      accuracy                          0.383        60\n",
      "     macro avg      0.329     0.356     0.329        60\n",
      "  weighted avg      0.342     0.383     0.349        60\n",
      "\n",
      "Confusion Matrix:\n",
      "[[ 1  4 12]\n",
      " [ 3  8  9]\n",
      " [ 3  6 14]]\n",
      "Accuracy: 0.38333333333333336\n",
      "Macro F1: 0.3290481952006453\n",
      "Micro F1: 0.38333333333333336\n",
      "-- Lenient (2-Class) --\n",
      "              precision    recall  f1-score   support\n",
      "\n",
      "          No      0.143     0.059     0.083        17\n",
      "     Yes/TSE      0.698     0.860     0.771        43\n",
      "\n",
      "    accuracy                          0.633        60\n",
      "   macro avg      0.420     0.460     0.427        60\n",
      "weighted avg      0.541     0.633     0.576        60\n",
      "\n",
      "Confusion Matrix:\n",
      "[[ 1 16]\n",
      " [ 6 37]]\n",
      "Accuracy: 0.6333333333333333\n",
      "Macro F1: 0.42708333333333337\n",
      "Micro F1: 0.6333333333333333\n",
      "\n",
      "=== Actionability ===\n",
      "-- Exact (3-Class) --\n",
      "                precision    recall  f1-score   support\n",
      "\n",
      "            No      0.500     0.500     0.500        26\n",
      "To some extent      0.429     0.300     0.353        10\n",
      "           Yes      0.519     0.583     0.549        24\n",
      "\n",
      "      accuracy                          0.500        60\n",
      "     macro avg      0.482     0.461     0.467        60\n",
      "  weighted avg      0.496     0.500     0.495        60\n",
      "\n",
      "Confusion Matrix:\n",
      "[[13  2 11]\n",
      " [ 5  3  2]\n",
      " [ 8  2 14]]\n",
      "Accuracy: 0.5\n",
      "Macro F1: 0.46732026143790845\n",
      "Micro F1: 0.5\n",
      "-- Lenient (2-Class) --\n",
      "              precision    recall  f1-score   support\n",
      "\n",
      "          No      0.500     0.500     0.500        26\n",
      "     Yes/TSE      0.618     0.618     0.618        34\n",
      "\n",
      "    accuracy                          0.567        60\n",
      "   macro avg      0.559     0.559     0.559        60\n",
      "weighted avg      0.567     0.567     0.567        60\n",
      "\n",
      "Confusion Matrix:\n",
      "[[13 13]\n",
      " [13 21]]\n",
      "Accuracy: 0.5666666666666667\n",
      "Macro F1: 0.5588235294117647\n",
      "Micro F1: 0.5666666666666667\n",
      "\n",
      "\n",
      "================= TUTOR: Llama31405B =================\n"
     ]
    },
    {
     "name": "stderr",
     "output_type": "stream",
     "text": [
      "Some weights of RobertaModel were not initialized from the model checkpoint at roberta-base and are newly initialized: ['roberta.pooler.dense.weight', 'roberta.pooler.dense.bias']\n",
      "You should probably TRAIN this model on a down-stream task to be able to use it for predictions and inference.\n",
      "Training Epoch 1: 100%|██████████| 30/30 [00:12<00:00,  2.43it/s]\n"
     ]
    },
    {
     "name": "stdout",
     "output_type": "stream",
     "text": [
      "Epoch 1 Loss: 1.1096\n"
     ]
    },
    {
     "name": "stderr",
     "output_type": "stream",
     "text": [
      "Training Epoch 2: 100%|██████████| 30/30 [00:12<00:00,  2.45it/s]\n"
     ]
    },
    {
     "name": "stdout",
     "output_type": "stream",
     "text": [
      "Epoch 2 Loss: 0.9398\n"
     ]
    },
    {
     "name": "stderr",
     "output_type": "stream",
     "text": [
      "Training Epoch 3: 100%|██████████| 30/30 [00:12<00:00,  2.42it/s]\n"
     ]
    },
    {
     "name": "stdout",
     "output_type": "stream",
     "text": [
      "Epoch 3 Loss: 0.9041\n"
     ]
    },
    {
     "name": "stderr",
     "output_type": "stream",
     "text": [
      "Training Epoch 4: 100%|██████████| 30/30 [00:12<00:00,  2.42it/s]\n"
     ]
    },
    {
     "name": "stdout",
     "output_type": "stream",
     "text": [
      "Epoch 4 Loss: 0.8958\n"
     ]
    },
    {
     "name": "stderr",
     "output_type": "stream",
     "text": [
      "Training Epoch 5: 100%|██████████| 30/30 [00:12<00:00,  2.44it/s]\n"
     ]
    },
    {
     "name": "stdout",
     "output_type": "stream",
     "text": [
      "Epoch 5 Loss: 0.8819\n"
     ]
    },
    {
     "name": "stderr",
     "output_type": "stream",
     "text": [
      "Training Epoch 6: 100%|██████████| 30/30 [00:12<00:00,  2.42it/s]\n"
     ]
    },
    {
     "name": "stdout",
     "output_type": "stream",
     "text": [
      "Epoch 6 Loss: 0.7482\n"
     ]
    },
    {
     "name": "stderr",
     "output_type": "stream",
     "text": [
      "Training Epoch 7: 100%|██████████| 30/30 [00:12<00:00,  2.44it/s]\n"
     ]
    },
    {
     "name": "stdout",
     "output_type": "stream",
     "text": [
      "Epoch 7 Loss: 0.6239\n"
     ]
    },
    {
     "name": "stderr",
     "output_type": "stream",
     "text": [
      "Training Epoch 8: 100%|██████████| 30/30 [00:12<00:00,  2.42it/s]\n"
     ]
    },
    {
     "name": "stdout",
     "output_type": "stream",
     "text": [
      "Epoch 8 Loss: 0.5594\n"
     ]
    },
    {
     "name": "stderr",
     "output_type": "stream",
     "text": [
      "Training Epoch 9: 100%|██████████| 30/30 [00:12<00:00,  2.44it/s]\n"
     ]
    },
    {
     "name": "stdout",
     "output_type": "stream",
     "text": [
      "Epoch 9 Loss: 0.4442\n"
     ]
    },
    {
     "name": "stderr",
     "output_type": "stream",
     "text": [
      "Training Epoch 10: 100%|██████████| 30/30 [00:08<00:00,  3.60it/s]\n"
     ]
    },
    {
     "name": "stdout",
     "output_type": "stream",
     "text": [
      "Epoch 10 Loss: 0.3911\n"
     ]
    },
    {
     "name": "stderr",
     "output_type": "stream",
     "text": [
      "Training Epoch 11: 100%|██████████| 30/30 [00:10<00:00,  2.84it/s]\n"
     ]
    },
    {
     "name": "stdout",
     "output_type": "stream",
     "text": [
      "Epoch 11 Loss: 0.2660\n"
     ]
    },
    {
     "name": "stderr",
     "output_type": "stream",
     "text": [
      "Training Epoch 12: 100%|██████████| 30/30 [00:11<00:00,  2.55it/s]\n"
     ]
    },
    {
     "name": "stdout",
     "output_type": "stream",
     "text": [
      "Epoch 12 Loss: 0.1966\n"
     ]
    },
    {
     "name": "stderr",
     "output_type": "stream",
     "text": [
      "Training Epoch 13: 100%|██████████| 30/30 [00:12<00:00,  2.44it/s]\n"
     ]
    },
    {
     "name": "stdout",
     "output_type": "stream",
     "text": [
      "Epoch 13 Loss: 0.1261\n"
     ]
    },
    {
     "name": "stderr",
     "output_type": "stream",
     "text": [
      "Training Epoch 14: 100%|██████████| 30/30 [00:12<00:00,  2.44it/s]\n"
     ]
    },
    {
     "name": "stdout",
     "output_type": "stream",
     "text": [
      "Epoch 14 Loss: 0.0962\n"
     ]
    },
    {
     "name": "stderr",
     "output_type": "stream",
     "text": [
      "Training Epoch 15: 100%|██████████| 30/30 [00:12<00:00,  2.42it/s]\n"
     ]
    },
    {
     "name": "stdout",
     "output_type": "stream",
     "text": [
      "Epoch 15 Loss: 0.0853\n"
     ]
    },
    {
     "name": "stderr",
     "output_type": "stream",
     "text": [
      "Training Epoch 16: 100%|██████████| 30/30 [00:12<00:00,  2.41it/s]\n"
     ]
    },
    {
     "name": "stdout",
     "output_type": "stream",
     "text": [
      "Epoch 16 Loss: 0.0826\n"
     ]
    },
    {
     "name": "stderr",
     "output_type": "stream",
     "text": [
      "Training Epoch 17: 100%|██████████| 30/30 [00:12<00:00,  2.44it/s]\n"
     ]
    },
    {
     "name": "stdout",
     "output_type": "stream",
     "text": [
      "Epoch 17 Loss: 0.0503\n"
     ]
    },
    {
     "name": "stderr",
     "output_type": "stream",
     "text": [
      "Training Epoch 18: 100%|██████████| 30/30 [00:12<00:00,  2.40it/s]\n"
     ]
    },
    {
     "name": "stdout",
     "output_type": "stream",
     "text": [
      "Epoch 18 Loss: 0.0451\n"
     ]
    },
    {
     "name": "stderr",
     "output_type": "stream",
     "text": [
      "Training Epoch 19: 100%|██████████| 30/30 [00:12<00:00,  2.45it/s]\n"
     ]
    },
    {
     "name": "stdout",
     "output_type": "stream",
     "text": [
      "Epoch 19 Loss: 0.0360\n"
     ]
    },
    {
     "name": "stderr",
     "output_type": "stream",
     "text": [
      "Training Epoch 20: 100%|██████████| 30/30 [00:12<00:00,  2.41it/s]\n"
     ]
    },
    {
     "name": "stdout",
     "output_type": "stream",
     "text": [
      "Epoch 20 Loss: 0.0291\n"
     ]
    },
    {
     "name": "stderr",
     "output_type": "stream",
     "text": [
      "Training Epoch 21: 100%|██████████| 30/30 [00:12<00:00,  2.46it/s]\n"
     ]
    },
    {
     "name": "stdout",
     "output_type": "stream",
     "text": [
      "Epoch 21 Loss: 0.0255\n"
     ]
    },
    {
     "name": "stderr",
     "output_type": "stream",
     "text": [
      "Training Epoch 22: 100%|██████████| 30/30 [00:10<00:00,  2.82it/s]\n"
     ]
    },
    {
     "name": "stdout",
     "output_type": "stream",
     "text": [
      "Epoch 22 Loss: 0.0245\n"
     ]
    },
    {
     "name": "stderr",
     "output_type": "stream",
     "text": [
      "Training Epoch 23: 100%|██████████| 30/30 [00:08<00:00,  3.68it/s]\n"
     ]
    },
    {
     "name": "stdout",
     "output_type": "stream",
     "text": [
      "Epoch 23 Loss: 0.0284\n"
     ]
    },
    {
     "name": "stderr",
     "output_type": "stream",
     "text": [
      "Training Epoch 24: 100%|██████████| 30/30 [00:11<00:00,  2.60it/s]\n"
     ]
    },
    {
     "name": "stdout",
     "output_type": "stream",
     "text": [
      "Epoch 24 Loss: 0.0202\n"
     ]
    },
    {
     "name": "stderr",
     "output_type": "stream",
     "text": [
      "Training Epoch 25: 100%|██████████| 30/30 [00:12<00:00,  2.39it/s]\n"
     ]
    },
    {
     "name": "stdout",
     "output_type": "stream",
     "text": [
      "Epoch 25 Loss: 0.0230\n",
      "\n",
      "FINAL EVALUATION ON VALIDATION SET\n",
      "\n",
      "=== Mistake_Identification ===\n",
      "-- Exact (3-Class) --\n",
      "                precision    recall  f1-score   support\n",
      "\n",
      "            No      0.000     0.000     0.000         0\n",
      "To some extent      0.000     0.000     0.000         0\n",
      "           Yes      1.000     0.967     0.983        60\n",
      "\n",
      "      accuracy                          0.967        60\n",
      "     macro avg      0.333     0.322     0.328        60\n",
      "  weighted avg      1.000     0.967     0.983        60\n",
      "\n",
      "Confusion Matrix:\n",
      "[[ 0  0  0]\n",
      " [ 0  0  0]\n",
      " [ 1  1 58]]\n",
      "Accuracy: 0.9666666666666667\n",
      "Macro F1: 0.327683615819209\n",
      "Micro F1: 0.9666666666666667\n",
      "-- Lenient (2-Class) --\n",
      "              precision    recall  f1-score   support\n",
      "\n",
      "          No      0.000     0.000     0.000         0\n",
      "     Yes/TSE      1.000     0.983     0.992        60\n",
      "\n",
      "    accuracy                          0.983        60\n",
      "   macro avg      0.500     0.492     0.496        60\n",
      "weighted avg      1.000     0.983     0.992        60\n",
      "\n",
      "Confusion Matrix:\n",
      "[[ 0  0]\n",
      " [ 1 59]]\n",
      "Accuracy: 0.9833333333333333\n",
      "Macro F1: 0.49579831932773105\n",
      "Micro F1: 0.9833333333333333\n",
      "\n",
      "=== Mistake_Location ===\n",
      "-- Exact (3-Class) --\n",
      "                precision    recall  f1-score   support\n",
      "\n",
      "            No      0.250     0.250     0.250         4\n",
      "To some extent      0.000     0.000     0.000         2\n",
      "           Yes      0.922     0.870     0.895        54\n",
      "\n",
      "      accuracy                          0.800        60\n",
      "     macro avg      0.391     0.373     0.382        60\n",
      "  weighted avg      0.846     0.800     0.822        60\n",
      "\n",
      "Confusion Matrix:\n",
      "[[ 1  1  2]\n",
      " [ 0  0  2]\n",
      " [ 3  4 47]]\n",
      "Accuracy: 0.8\n",
      "Macro F1: 0.3817460317460317\n",
      "Micro F1: 0.8000000000000002\n",
      "-- Lenient (2-Class) --\n",
      "              precision    recall  f1-score   support\n",
      "\n",
      "          No      0.250     0.250     0.250         4\n",
      "     Yes/TSE      0.946     0.946     0.946        56\n",
      "\n",
      "    accuracy                          0.900        60\n",
      "   macro avg      0.598     0.598     0.598        60\n",
      "weighted avg      0.900     0.900     0.900        60\n",
      "\n",
      "Confusion Matrix:\n",
      "[[ 1  3]\n",
      " [ 3 53]]\n",
      "Accuracy: 0.9\n",
      "Macro F1: 0.5982142857142857\n",
      "Micro F1: 0.9\n",
      "\n",
      "=== Providing_Guidance ===\n",
      "-- Exact (3-Class) --\n",
      "                precision    recall  f1-score   support\n",
      "\n",
      "            No      0.000     0.000     0.000         3\n",
      "To some extent      0.250     0.091     0.133        11\n",
      "           Yes      0.778     0.913     0.840        46\n",
      "\n",
      "      accuracy                          0.717        60\n",
      "     macro avg      0.343     0.335     0.324        60\n",
      "  weighted avg      0.642     0.717     0.668        60\n",
      "\n",
      "Confusion Matrix:\n",
      "[[ 0  0  3]\n",
      " [ 1  1  9]\n",
      " [ 1  3 42]]\n",
      "Accuracy: 0.7166666666666667\n",
      "Macro F1: 0.3244444444444444\n",
      "Micro F1: 0.7166666666666667\n",
      "-- Lenient (2-Class) --\n",
      "              precision    recall  f1-score   support\n",
      "\n",
      "          No      0.000     0.000     0.000         3\n",
      "     Yes/TSE      0.948     0.965     0.957        57\n",
      "\n",
      "    accuracy                          0.917        60\n",
      "   macro avg      0.474     0.482     0.478        60\n",
      "weighted avg      0.901     0.917     0.909        60\n",
      "\n",
      "Confusion Matrix:\n",
      "[[ 0  3]\n",
      " [ 2 55]]\n",
      "Accuracy: 0.9166666666666666\n",
      "Macro F1: 0.47826086956521735\n",
      "Micro F1: 0.9166666666666666\n",
      "\n",
      "=== Actionability ===\n",
      "-- Exact (3-Class) --\n",
      "                precision    recall  f1-score   support\n",
      "\n",
      "            No      0.800     0.400     0.533        10\n",
      "To some extent      0.000     0.000     0.000         7\n",
      "           Yes      0.759     0.953     0.845        43\n",
      "\n",
      "      accuracy                          0.750        60\n",
      "     macro avg      0.520     0.451     0.460        60\n",
      "  weighted avg      0.677     0.750     0.695        60\n",
      "\n",
      "Confusion Matrix:\n",
      "[[ 4  0  6]\n",
      " [ 0  0  7]\n",
      " [ 1  1 41]]\n",
      "Accuracy: 0.75\n",
      "Macro F1: 0.45956471935853377\n",
      "Micro F1: 0.75\n",
      "-- Lenient (2-Class) --\n",
      "              precision    recall  f1-score   support\n",
      "\n",
      "          No      0.800     0.400     0.533        10\n",
      "     Yes/TSE      0.891     0.980     0.933        50\n",
      "\n",
      "    accuracy                          0.883        60\n",
      "   macro avg      0.845     0.690     0.733        60\n",
      "weighted avg      0.876     0.883     0.867        60\n",
      "\n",
      "Confusion Matrix:\n",
      "[[ 4  6]\n",
      " [ 1 49]]\n",
      "Accuracy: 0.8833333333333333\n",
      "Macro F1: 0.7333333333333334\n",
      "Micro F1: 0.8833333333333333\n",
      "\n",
      "\n",
      "================= TUTOR: GPT4 =================\n"
     ]
    },
    {
     "name": "stderr",
     "output_type": "stream",
     "text": [
      "Some weights of RobertaModel were not initialized from the model checkpoint at roberta-base and are newly initialized: ['roberta.pooler.dense.weight', 'roberta.pooler.dense.bias']\n",
      "You should probably TRAIN this model on a down-stream task to be able to use it for predictions and inference.\n",
      "Training Epoch 1: 100%|██████████| 30/30 [00:12<00:00,  2.41it/s]\n"
     ]
    },
    {
     "name": "stdout",
     "output_type": "stream",
     "text": [
      "Epoch 1 Loss: 1.1634\n"
     ]
    },
    {
     "name": "stderr",
     "output_type": "stream",
     "text": [
      "Training Epoch 2: 100%|██████████| 30/30 [00:12<00:00,  2.40it/s]\n"
     ]
    },
    {
     "name": "stdout",
     "output_type": "stream",
     "text": [
      "Epoch 2 Loss: 0.9358\n"
     ]
    },
    {
     "name": "stderr",
     "output_type": "stream",
     "text": [
      "Training Epoch 3: 100%|██████████| 30/30 [00:12<00:00,  2.45it/s]\n"
     ]
    },
    {
     "name": "stdout",
     "output_type": "stream",
     "text": [
      "Epoch 3 Loss: 0.9286\n"
     ]
    },
    {
     "name": "stderr",
     "output_type": "stream",
     "text": [
      "Training Epoch 4: 100%|██████████| 30/30 [00:12<00:00,  2.39it/s]\n"
     ]
    },
    {
     "name": "stdout",
     "output_type": "stream",
     "text": [
      "Epoch 4 Loss: 0.8804\n"
     ]
    },
    {
     "name": "stderr",
     "output_type": "stream",
     "text": [
      "Training Epoch 5: 100%|██████████| 30/30 [00:12<00:00,  2.40it/s]\n"
     ]
    },
    {
     "name": "stdout",
     "output_type": "stream",
     "text": [
      "Epoch 5 Loss: 0.8298\n"
     ]
    },
    {
     "name": "stderr",
     "output_type": "stream",
     "text": [
      "Training Epoch 6: 100%|██████████| 30/30 [00:12<00:00,  2.45it/s]\n"
     ]
    },
    {
     "name": "stdout",
     "output_type": "stream",
     "text": [
      "Epoch 6 Loss: 0.7975\n"
     ]
    },
    {
     "name": "stderr",
     "output_type": "stream",
     "text": [
      "Training Epoch 7: 100%|██████████| 30/30 [00:12<00:00,  2.41it/s]\n"
     ]
    },
    {
     "name": "stdout",
     "output_type": "stream",
     "text": [
      "Epoch 7 Loss: 0.7552\n"
     ]
    },
    {
     "name": "stderr",
     "output_type": "stream",
     "text": [
      "Training Epoch 8: 100%|██████████| 30/30 [00:12<00:00,  2.46it/s]\n"
     ]
    },
    {
     "name": "stdout",
     "output_type": "stream",
     "text": [
      "Epoch 8 Loss: 0.6124\n"
     ]
    },
    {
     "name": "stderr",
     "output_type": "stream",
     "text": [
      "Training Epoch 9: 100%|██████████| 30/30 [00:08<00:00,  3.39it/s]\n"
     ]
    },
    {
     "name": "stdout",
     "output_type": "stream",
     "text": [
      "Epoch 9 Loss: 0.4304\n"
     ]
    },
    {
     "name": "stderr",
     "output_type": "stream",
     "text": [
      "Training Epoch 10: 100%|██████████| 30/30 [00:09<00:00,  3.02it/s]\n"
     ]
    },
    {
     "name": "stdout",
     "output_type": "stream",
     "text": [
      "Epoch 10 Loss: 0.3797\n"
     ]
    },
    {
     "name": "stderr",
     "output_type": "stream",
     "text": [
      "Training Epoch 11: 100%|██████████| 30/30 [00:11<00:00,  2.56it/s]\n"
     ]
    },
    {
     "name": "stdout",
     "output_type": "stream",
     "text": [
      "Epoch 11 Loss: 0.3486\n"
     ]
    },
    {
     "name": "stderr",
     "output_type": "stream",
     "text": [
      "Training Epoch 12: 100%|██████████| 30/30 [00:12<00:00,  2.42it/s]\n"
     ]
    },
    {
     "name": "stdout",
     "output_type": "stream",
     "text": [
      "Epoch 12 Loss: 0.2361\n"
     ]
    },
    {
     "name": "stderr",
     "output_type": "stream",
     "text": [
      "Training Epoch 13: 100%|██████████| 30/30 [00:12<00:00,  2.40it/s]\n"
     ]
    },
    {
     "name": "stdout",
     "output_type": "stream",
     "text": [
      "Epoch 13 Loss: 0.1835\n"
     ]
    },
    {
     "name": "stderr",
     "output_type": "stream",
     "text": [
      "Training Epoch 14: 100%|██████████| 30/30 [00:12<00:00,  2.45it/s]\n"
     ]
    },
    {
     "name": "stdout",
     "output_type": "stream",
     "text": [
      "Epoch 14 Loss: 0.1242\n"
     ]
    },
    {
     "name": "stderr",
     "output_type": "stream",
     "text": [
      "Training Epoch 15: 100%|██████████| 30/30 [00:12<00:00,  2.40it/s]\n"
     ]
    },
    {
     "name": "stdout",
     "output_type": "stream",
     "text": [
      "Epoch 15 Loss: 0.0825\n"
     ]
    },
    {
     "name": "stderr",
     "output_type": "stream",
     "text": [
      "Training Epoch 16: 100%|██████████| 30/30 [00:12<00:00,  2.46it/s]\n"
     ]
    },
    {
     "name": "stdout",
     "output_type": "stream",
     "text": [
      "Epoch 16 Loss: 0.0664\n"
     ]
    },
    {
     "name": "stderr",
     "output_type": "stream",
     "text": [
      "Training Epoch 17: 100%|██████████| 30/30 [00:12<00:00,  2.40it/s]\n"
     ]
    },
    {
     "name": "stdout",
     "output_type": "stream",
     "text": [
      "Epoch 17 Loss: 0.0511\n"
     ]
    },
    {
     "name": "stderr",
     "output_type": "stream",
     "text": [
      "Training Epoch 18: 100%|██████████| 30/30 [00:12<00:00,  2.46it/s]\n"
     ]
    },
    {
     "name": "stdout",
     "output_type": "stream",
     "text": [
      "Epoch 18 Loss: 0.0388\n"
     ]
    },
    {
     "name": "stderr",
     "output_type": "stream",
     "text": [
      "Training Epoch 19: 100%|██████████| 30/30 [00:12<00:00,  2.40it/s]\n"
     ]
    },
    {
     "name": "stdout",
     "output_type": "stream",
     "text": [
      "Epoch 19 Loss: 0.0263\n"
     ]
    },
    {
     "name": "stderr",
     "output_type": "stream",
     "text": [
      "Training Epoch 20: 100%|██████████| 30/30 [00:12<00:00,  2.45it/s]\n"
     ]
    },
    {
     "name": "stdout",
     "output_type": "stream",
     "text": [
      "Epoch 20 Loss: 0.0240\n"
     ]
    },
    {
     "name": "stderr",
     "output_type": "stream",
     "text": [
      "Training Epoch 21: 100%|██████████| 30/30 [00:11<00:00,  2.68it/s]\n"
     ]
    },
    {
     "name": "stdout",
     "output_type": "stream",
     "text": [
      "Epoch 21 Loss: 0.0231\n"
     ]
    },
    {
     "name": "stderr",
     "output_type": "stream",
     "text": [
      "Training Epoch 22: 100%|██████████| 30/30 [00:08<00:00,  3.69it/s]\n"
     ]
    },
    {
     "name": "stdout",
     "output_type": "stream",
     "text": [
      "Epoch 22 Loss: 0.0173\n"
     ]
    },
    {
     "name": "stderr",
     "output_type": "stream",
     "text": [
      "Training Epoch 23: 100%|██████████| 30/30 [00:11<00:00,  2.60it/s]\n"
     ]
    },
    {
     "name": "stdout",
     "output_type": "stream",
     "text": [
      "Epoch 23 Loss: 0.0158\n"
     ]
    },
    {
     "name": "stderr",
     "output_type": "stream",
     "text": [
      "Training Epoch 24: 100%|██████████| 30/30 [00:12<00:00,  2.41it/s]\n"
     ]
    },
    {
     "name": "stdout",
     "output_type": "stream",
     "text": [
      "Epoch 24 Loss: 0.0170\n"
     ]
    },
    {
     "name": "stderr",
     "output_type": "stream",
     "text": [
      "Training Epoch 25: 100%|██████████| 30/30 [00:12<00:00,  2.46it/s]\n"
     ]
    },
    {
     "name": "stdout",
     "output_type": "stream",
     "text": [
      "Epoch 25 Loss: 0.0185\n",
      "\n",
      "FINAL EVALUATION ON VALIDATION SET\n",
      "\n",
      "=== Mistake_Identification ===\n",
      "-- Exact (3-Class) --\n",
      "                precision    recall  f1-score   support\n",
      "\n",
      "            No      0.000     0.000     0.000         3\n",
      "To some extent      0.000     0.000     0.000         0\n",
      "           Yes      0.949     0.982     0.966        57\n",
      "\n",
      "     micro avg      0.933     0.933     0.933        60\n",
      "     macro avg      0.316     0.327     0.322        60\n",
      "  weighted avg      0.902     0.933     0.917        60\n",
      "\n",
      "Confusion Matrix:\n",
      "[[ 0  0  3]\n",
      " [ 0  0  0]\n",
      " [ 1  0 56]]\n",
      "Accuracy: 0.9333333333333333\n",
      "Macro F1: 0.48275862068965514\n",
      "Micro F1: 0.9333333333333333\n",
      "-- Lenient (2-Class) --\n",
      "              precision    recall  f1-score   support\n",
      "\n",
      "          No      0.000     0.000     0.000         3\n",
      "     Yes/TSE      0.949     0.982     0.966        57\n",
      "\n",
      "    accuracy                          0.933        60\n",
      "   macro avg      0.475     0.491     0.483        60\n",
      "weighted avg      0.902     0.933     0.917        60\n",
      "\n",
      "Confusion Matrix:\n",
      "[[ 0  3]\n",
      " [ 1 56]]\n",
      "Accuracy: 0.9333333333333333\n",
      "Macro F1: 0.48275862068965514\n",
      "Micro F1: 0.9333333333333333\n",
      "\n",
      "=== Mistake_Location ===\n",
      "-- Exact (3-Class) --\n",
      "                precision    recall  f1-score   support\n",
      "\n",
      "            No      0.500     0.400     0.444         5\n",
      "To some extent      0.000     0.000     0.000         2\n",
      "           Yes      0.926     0.943     0.935        53\n",
      "\n",
      "      accuracy                          0.867        60\n",
      "     macro avg      0.475     0.448     0.460        60\n",
      "  weighted avg      0.860     0.867     0.863        60\n",
      "\n",
      "Confusion Matrix:\n",
      "[[ 2  1  2]\n",
      " [ 0  0  2]\n",
      " [ 2  1 50]]\n",
      "Accuracy: 0.8666666666666667\n",
      "Macro F1: 0.459674627898927\n",
      "Micro F1: 0.8666666666666667\n",
      "-- Lenient (2-Class) --\n",
      "              precision    recall  f1-score   support\n",
      "\n",
      "          No      0.500     0.400     0.444         5\n",
      "     Yes/TSE      0.946     0.964     0.955        55\n",
      "\n",
      "    accuracy                          0.917        60\n",
      "   macro avg      0.723     0.682     0.700        60\n",
      "weighted avg      0.909     0.917     0.912        60\n",
      "\n",
      "Confusion Matrix:\n",
      "[[ 2  3]\n",
      " [ 2 53]]\n",
      "Accuracy: 0.9166666666666666\n",
      "Macro F1: 0.6996996996996997\n",
      "Micro F1: 0.9166666666666666\n",
      "\n",
      "=== Providing_Guidance ===\n",
      "-- Exact (3-Class) --\n",
      "                precision    recall  f1-score   support\n",
      "\n",
      "            No      0.333     0.091     0.143        11\n",
      "To some extent      0.333     0.100     0.154        10\n",
      "           Yes      0.648     0.897     0.753        39\n",
      "\n",
      "      accuracy                          0.617        60\n",
      "     macro avg      0.438     0.363     0.350        60\n",
      "  weighted avg      0.538     0.617     0.541        60\n",
      "\n",
      "Confusion Matrix:\n",
      "[[ 1  0 10]\n",
      " [ 0  1  9]\n",
      " [ 2  2 35]]\n",
      "Accuracy: 0.6166666666666667\n",
      "Macro F1: 0.34979715624876917\n",
      "Micro F1: 0.6166666666666667\n",
      "-- Lenient (2-Class) --\n",
      "              precision    recall  f1-score   support\n",
      "\n",
      "          No      0.333     0.091     0.143        11\n",
      "     Yes/TSE      0.825     0.959     0.887        49\n",
      "\n",
      "    accuracy                          0.800        60\n",
      "   macro avg      0.579     0.525     0.515        60\n",
      "weighted avg      0.735     0.800     0.750        60\n",
      "\n",
      "Confusion Matrix:\n",
      "[[ 1 10]\n",
      " [ 2 47]]\n",
      "Accuracy: 0.8\n",
      "Macro F1: 0.5148247978436657\n",
      "Micro F1: 0.8000000000000002\n",
      "\n",
      "=== Actionability ===\n",
      "-- Exact (3-Class) --\n",
      "                precision    recall  f1-score   support\n",
      "\n",
      "            No      0.741     0.606     0.667        33\n",
      "To some extent      0.000     0.000     0.000         4\n",
      "           Yes      0.500     0.696     0.582        23\n",
      "\n",
      "      accuracy                          0.600        60\n",
      "     macro avg      0.414     0.434     0.416        60\n",
      "  weighted avg      0.599     0.600     0.590        60\n",
      "\n",
      "Confusion Matrix:\n",
      "[[20  1 12]\n",
      " [ 0  0  4]\n",
      " [ 7  0 16]]\n",
      "Accuracy: 0.6\n",
      "Macro F1: 0.4161616161616162\n",
      "Micro F1: 0.6\n",
      "-- Lenient (2-Class) --\n",
      "              precision    recall  f1-score   support\n",
      "\n",
      "          No      0.741     0.606     0.667        33\n",
      "     Yes/TSE      0.606     0.741     0.667        27\n",
      "\n",
      "    accuracy                          0.667        60\n",
      "   macro avg      0.673     0.673     0.667        60\n",
      "weighted avg      0.680     0.667     0.667        60\n",
      "\n",
      "Confusion Matrix:\n",
      "[[20 13]\n",
      " [ 7 20]]\n",
      "Accuracy: 0.6666666666666666\n",
      "Macro F1: 0.6666666666666666\n",
      "Micro F1: 0.6666666666666666\n",
      "\n",
      "\n",
      "================= TUTOR: Mistral =================\n"
     ]
    },
    {
     "name": "stderr",
     "output_type": "stream",
     "text": [
      "Some weights of RobertaModel were not initialized from the model checkpoint at roberta-base and are newly initialized: ['roberta.pooler.dense.weight', 'roberta.pooler.dense.bias']\n",
      "You should probably TRAIN this model on a down-stream task to be able to use it for predictions and inference.\n",
      "Training Epoch 1: 100%|██████████| 30/30 [00:12<00:00,  2.43it/s]\n"
     ]
    },
    {
     "name": "stdout",
     "output_type": "stream",
     "text": [
      "Epoch 1 Loss: 1.4074\n"
     ]
    },
    {
     "name": "stderr",
     "output_type": "stream",
     "text": [
      "Training Epoch 2: 100%|██████████| 30/30 [00:12<00:00,  2.42it/s]\n"
     ]
    },
    {
     "name": "stdout",
     "output_type": "stream",
     "text": [
      "Epoch 2 Loss: 1.3031\n"
     ]
    },
    {
     "name": "stderr",
     "output_type": "stream",
     "text": [
      "Training Epoch 3: 100%|██████████| 30/30 [00:12<00:00,  2.44it/s]\n"
     ]
    },
    {
     "name": "stdout",
     "output_type": "stream",
     "text": [
      "Epoch 3 Loss: 1.3270\n"
     ]
    },
    {
     "name": "stderr",
     "output_type": "stream",
     "text": [
      "Training Epoch 4: 100%|██████████| 30/30 [00:12<00:00,  2.41it/s]\n"
     ]
    },
    {
     "name": "stdout",
     "output_type": "stream",
     "text": [
      "Epoch 4 Loss: 1.2828\n"
     ]
    },
    {
     "name": "stderr",
     "output_type": "stream",
     "text": [
      "Training Epoch 5: 100%|██████████| 30/30 [00:12<00:00,  2.46it/s]\n"
     ]
    },
    {
     "name": "stdout",
     "output_type": "stream",
     "text": [
      "Epoch 5 Loss: 1.1807\n"
     ]
    },
    {
     "name": "stderr",
     "output_type": "stream",
     "text": [
      "Training Epoch 6: 100%|██████████| 30/30 [00:12<00:00,  2.42it/s]\n"
     ]
    },
    {
     "name": "stdout",
     "output_type": "stream",
     "text": [
      "Epoch 6 Loss: 1.1417\n"
     ]
    },
    {
     "name": "stderr",
     "output_type": "stream",
     "text": [
      "Training Epoch 7: 100%|██████████| 30/30 [00:12<00:00,  2.44it/s]\n"
     ]
    },
    {
     "name": "stdout",
     "output_type": "stream",
     "text": [
      "Epoch 7 Loss: 1.0290\n"
     ]
    },
    {
     "name": "stderr",
     "output_type": "stream",
     "text": [
      "Training Epoch 8: 100%|██████████| 30/30 [00:10<00:00,  2.99it/s]\n"
     ]
    },
    {
     "name": "stdout",
     "output_type": "stream",
     "text": [
      "Epoch 8 Loss: 0.8766\n"
     ]
    },
    {
     "name": "stderr",
     "output_type": "stream",
     "text": [
      "Training Epoch 9: 100%|██████████| 30/30 [00:09<00:00,  3.25it/s]\n"
     ]
    },
    {
     "name": "stdout",
     "output_type": "stream",
     "text": [
      "Epoch 9 Loss: 0.7392\n"
     ]
    },
    {
     "name": "stderr",
     "output_type": "stream",
     "text": [
      "Training Epoch 10: 100%|██████████| 30/30 [00:11<00:00,  2.56it/s]\n"
     ]
    },
    {
     "name": "stdout",
     "output_type": "stream",
     "text": [
      "Epoch 10 Loss: 0.5117\n"
     ]
    },
    {
     "name": "stderr",
     "output_type": "stream",
     "text": [
      "Training Epoch 11: 100%|██████████| 30/30 [00:12<00:00,  2.42it/s]\n"
     ]
    },
    {
     "name": "stdout",
     "output_type": "stream",
     "text": [
      "Epoch 11 Loss: 0.3804\n"
     ]
    },
    {
     "name": "stderr",
     "output_type": "stream",
     "text": [
      "Training Epoch 12: 100%|██████████| 30/30 [00:12<00:00,  2.41it/s]\n"
     ]
    },
    {
     "name": "stdout",
     "output_type": "stream",
     "text": [
      "Epoch 12 Loss: 0.2787\n"
     ]
    },
    {
     "name": "stderr",
     "output_type": "stream",
     "text": [
      "Training Epoch 13: 100%|██████████| 30/30 [00:12<00:00,  2.46it/s]\n"
     ]
    },
    {
     "name": "stdout",
     "output_type": "stream",
     "text": [
      "Epoch 13 Loss: 0.1934\n"
     ]
    },
    {
     "name": "stderr",
     "output_type": "stream",
     "text": [
      "Training Epoch 14: 100%|██████████| 30/30 [00:12<00:00,  2.41it/s]\n"
     ]
    },
    {
     "name": "stdout",
     "output_type": "stream",
     "text": [
      "Epoch 14 Loss: 0.1625\n"
     ]
    },
    {
     "name": "stderr",
     "output_type": "stream",
     "text": [
      "Training Epoch 15: 100%|██████████| 30/30 [00:12<00:00,  2.46it/s]\n"
     ]
    },
    {
     "name": "stdout",
     "output_type": "stream",
     "text": [
      "Epoch 15 Loss: 0.1370\n"
     ]
    },
    {
     "name": "stderr",
     "output_type": "stream",
     "text": [
      "Training Epoch 16: 100%|██████████| 30/30 [00:12<00:00,  2.41it/s]\n"
     ]
    },
    {
     "name": "stdout",
     "output_type": "stream",
     "text": [
      "Epoch 16 Loss: 0.1094\n"
     ]
    },
    {
     "name": "stderr",
     "output_type": "stream",
     "text": [
      "Training Epoch 17: 100%|██████████| 30/30 [00:12<00:00,  2.41it/s]\n"
     ]
    },
    {
     "name": "stdout",
     "output_type": "stream",
     "text": [
      "Epoch 17 Loss: 0.0767\n"
     ]
    },
    {
     "name": "stderr",
     "output_type": "stream",
     "text": [
      "Training Epoch 18: 100%|██████████| 30/30 [00:12<00:00,  2.44it/s]\n"
     ]
    },
    {
     "name": "stdout",
     "output_type": "stream",
     "text": [
      "Epoch 18 Loss: 0.0617\n"
     ]
    },
    {
     "name": "stderr",
     "output_type": "stream",
     "text": [
      "Training Epoch 19: 100%|██████████| 30/30 [00:12<00:00,  2.41it/s]\n"
     ]
    },
    {
     "name": "stdout",
     "output_type": "stream",
     "text": [
      "Epoch 19 Loss: 0.0542\n"
     ]
    },
    {
     "name": "stderr",
     "output_type": "stream",
     "text": [
      "Training Epoch 20: 100%|██████████| 30/30 [00:11<00:00,  2.61it/s]\n"
     ]
    },
    {
     "name": "stdout",
     "output_type": "stream",
     "text": [
      "Epoch 20 Loss: 0.0450\n"
     ]
    },
    {
     "name": "stderr",
     "output_type": "stream",
     "text": [
      "Training Epoch 21: 100%|██████████| 30/30 [00:07<00:00,  3.78it/s]\n"
     ]
    },
    {
     "name": "stdout",
     "output_type": "stream",
     "text": [
      "Epoch 21 Loss: 0.0399\n"
     ]
    },
    {
     "name": "stderr",
     "output_type": "stream",
     "text": [
      "Training Epoch 22: 100%|██████████| 30/30 [00:11<00:00,  2.61it/s]\n"
     ]
    },
    {
     "name": "stdout",
     "output_type": "stream",
     "text": [
      "Epoch 22 Loss: 0.0311\n"
     ]
    },
    {
     "name": "stderr",
     "output_type": "stream",
     "text": [
      "Training Epoch 23: 100%|██████████| 30/30 [00:11<00:00,  2.56it/s]\n"
     ]
    },
    {
     "name": "stdout",
     "output_type": "stream",
     "text": [
      "Epoch 23 Loss: 0.0313\n"
     ]
    },
    {
     "name": "stderr",
     "output_type": "stream",
     "text": [
      "Training Epoch 24: 100%|██████████| 30/30 [00:12<00:00,  2.42it/s]\n"
     ]
    },
    {
     "name": "stdout",
     "output_type": "stream",
     "text": [
      "Epoch 24 Loss: 0.0348\n"
     ]
    },
    {
     "name": "stderr",
     "output_type": "stream",
     "text": [
      "Training Epoch 25: 100%|██████████| 30/30 [00:12<00:00,  2.45it/s]\n"
     ]
    },
    {
     "name": "stdout",
     "output_type": "stream",
     "text": [
      "Epoch 25 Loss: 0.0339\n",
      "\n",
      "FINAL EVALUATION ON VALIDATION SET\n",
      "\n",
      "=== Mistake_Identification ===\n",
      "-- Exact (3-Class) --\n",
      "                precision    recall  f1-score   support\n",
      "\n",
      "            No      0.000     0.000     0.000         0\n",
      "To some extent      0.000     0.000     0.000         1\n",
      "           Yes      0.982     0.949     0.966        59\n",
      "\n",
      "      accuracy                          0.933        60\n",
      "     macro avg      0.327     0.316     0.322        60\n",
      "  weighted avg      0.966     0.933     0.949        60\n",
      "\n",
      "Confusion Matrix:\n",
      "[[ 0  0  0]\n",
      " [ 0  0  1]\n",
      " [ 2  1 56]]\n",
      "Accuracy: 0.9333333333333333\n",
      "Macro F1: 0.3218390804597701\n",
      "Micro F1: 0.9333333333333333\n",
      "-- Lenient (2-Class) --\n",
      "              precision    recall  f1-score   support\n",
      "\n",
      "          No      0.000     0.000     0.000         0\n",
      "     Yes/TSE      1.000     0.967     0.983        60\n",
      "\n",
      "    accuracy                          0.967        60\n",
      "   macro avg      0.500     0.483     0.492        60\n",
      "weighted avg      1.000     0.967     0.983        60\n",
      "\n",
      "Confusion Matrix:\n",
      "[[ 0  0]\n",
      " [ 2 58]]\n",
      "Accuracy: 0.9666666666666667\n",
      "Macro F1: 0.4915254237288135\n",
      "Micro F1: 0.9666666666666667\n",
      "\n",
      "=== Mistake_Location ===\n",
      "-- Exact (3-Class) --\n",
      "                precision    recall  f1-score   support\n",
      "\n",
      "            No      0.125     0.125     0.125         8\n",
      "To some extent      0.000     0.000     0.000         8\n",
      "           Yes      0.765     0.886     0.821        44\n",
      "\n",
      "      accuracy                          0.667        60\n",
      "     macro avg      0.297     0.337     0.315        60\n",
      "  weighted avg      0.577     0.667     0.619        60\n",
      "\n",
      "Confusion Matrix:\n",
      "[[ 1  1  6]\n",
      " [ 2  0  6]\n",
      " [ 5  0 39]]\n",
      "Accuracy: 0.6666666666666666\n",
      "Macro F1: 0.31535087719298244\n",
      "Micro F1: 0.6666666666666666\n",
      "-- Lenient (2-Class) --\n",
      "              precision    recall  f1-score   support\n",
      "\n",
      "          No      0.125     0.125     0.125         8\n",
      "     Yes/TSE      0.865     0.865     0.865        52\n",
      "\n",
      "    accuracy                          0.767        60\n",
      "   macro avg      0.495     0.495     0.495        60\n",
      "weighted avg      0.767     0.767     0.767        60\n",
      "\n",
      "Confusion Matrix:\n",
      "[[ 1  7]\n",
      " [ 7 45]]\n",
      "Accuracy: 0.7666666666666667\n",
      "Macro F1: 0.4951923076923077\n",
      "Micro F1: 0.7666666666666667\n",
      "\n",
      "=== Providing_Guidance ===\n",
      "-- Exact (3-Class) --\n",
      "                precision    recall  f1-score   support\n",
      "\n",
      "            No      0.222     0.154     0.182        13\n",
      "To some extent      0.000     0.000     0.000        15\n",
      "           Yes      0.532     0.781     0.633        32\n",
      "\n",
      "      accuracy                          0.450        60\n",
      "     macro avg      0.251     0.312     0.272        60\n",
      "  weighted avg      0.332     0.450     0.377        60\n",
      "\n",
      "Confusion Matrix:\n",
      "[[ 2  0 11]\n",
      " [ 4  0 11]\n",
      " [ 3  4 25]]\n",
      "Accuracy: 0.45\n",
      "Macro F1: 0.2715765247410817\n",
      "Micro F1: 0.45\n",
      "-- Lenient (2-Class) --\n",
      "              precision    recall  f1-score   support\n",
      "\n",
      "          No      0.222     0.154     0.182        13\n",
      "     Yes/TSE      0.784     0.851     0.816        47\n",
      "\n",
      "    accuracy                          0.700        60\n",
      "   macro avg      0.503     0.502     0.499        60\n",
      "weighted avg      0.663     0.700     0.679        60\n",
      "\n",
      "Confusion Matrix:\n",
      "[[ 2 11]\n",
      " [ 7 40]]\n",
      "Accuracy: 0.7\n",
      "Macro F1: 0.49907235621521334\n",
      "Micro F1: 0.7\n",
      "\n",
      "=== Actionability ===\n",
      "-- Exact (3-Class) --\n",
      "                precision    recall  f1-score   support\n",
      "\n",
      "            No      0.500     0.308     0.381        13\n",
      "To some extent      0.333     0.182     0.235        11\n",
      "           Yes      0.630     0.806     0.707        36\n",
      "\n",
      "      accuracy                          0.583        60\n",
      "     macro avg      0.488     0.432     0.441        60\n",
      "  weighted avg      0.548     0.583     0.550        60\n",
      "\n",
      "Confusion Matrix:\n",
      "[[ 4  0  9]\n",
      " [ 1  2  8]\n",
      " [ 3  4 29]]\n",
      "Accuracy: 0.5833333333333334\n",
      "Macro F1: 0.4411878572567239\n",
      "Micro F1: 0.5833333333333334\n",
      "-- Lenient (2-Class) --\n",
      "              precision    recall  f1-score   support\n",
      "\n",
      "          No      0.500     0.308     0.381        13\n",
      "     Yes/TSE      0.827     0.915     0.869        47\n",
      "\n",
      "    accuracy                          0.783        60\n",
      "   macro avg      0.663     0.611     0.625        60\n",
      "weighted avg      0.756     0.783     0.763        60\n",
      "\n",
      "Confusion Matrix:\n",
      "[[ 4  9]\n",
      " [ 4 43]]\n",
      "Accuracy: 0.7833333333333333\n",
      "Macro F1: 0.6248196248196248\n",
      "Micro F1: 0.7833333333333333\n",
      "\n",
      "\n",
      "================= TUTOR: Expert =================\n"
     ]
    },
    {
     "name": "stderr",
     "output_type": "stream",
     "text": [
      "Some weights of RobertaModel were not initialized from the model checkpoint at roberta-base and are newly initialized: ['roberta.pooler.dense.weight', 'roberta.pooler.dense.bias']\n",
      "You should probably TRAIN this model on a down-stream task to be able to use it for predictions and inference.\n",
      "Training Epoch 1: 100%|██████████| 30/30 [00:12<00:00,  2.38it/s]\n"
     ]
    },
    {
     "name": "stdout",
     "output_type": "stream",
     "text": [
      "Epoch 1 Loss: 1.5055\n"
     ]
    },
    {
     "name": "stderr",
     "output_type": "stream",
     "text": [
      "Training Epoch 2: 100%|██████████| 30/30 [00:12<00:00,  2.44it/s]\n"
     ]
    },
    {
     "name": "stdout",
     "output_type": "stream",
     "text": [
      "Epoch 2 Loss: 1.4047\n"
     ]
    },
    {
     "name": "stderr",
     "output_type": "stream",
     "text": [
      "Training Epoch 3: 100%|██████████| 30/30 [00:12<00:00,  2.39it/s]\n"
     ]
    },
    {
     "name": "stdout",
     "output_type": "stream",
     "text": [
      "Epoch 3 Loss: 1.3112\n"
     ]
    },
    {
     "name": "stderr",
     "output_type": "stream",
     "text": [
      "Training Epoch 4: 100%|██████████| 30/30 [00:12<00:00,  2.45it/s]\n"
     ]
    },
    {
     "name": "stdout",
     "output_type": "stream",
     "text": [
      "Epoch 4 Loss: 1.2926\n"
     ]
    },
    {
     "name": "stderr",
     "output_type": "stream",
     "text": [
      "Training Epoch 5: 100%|██████████| 30/30 [00:12<00:00,  2.40it/s]\n"
     ]
    },
    {
     "name": "stdout",
     "output_type": "stream",
     "text": [
      "Epoch 5 Loss: 1.2553\n"
     ]
    },
    {
     "name": "stderr",
     "output_type": "stream",
     "text": [
      "Training Epoch 6: 100%|██████████| 30/30 [00:12<00:00,  2.43it/s]\n"
     ]
    },
    {
     "name": "stdout",
     "output_type": "stream",
     "text": [
      "Epoch 6 Loss: 1.0479\n"
     ]
    },
    {
     "name": "stderr",
     "output_type": "stream",
     "text": [
      "Training Epoch 7: 100%|██████████| 30/30 [00:09<00:00,  3.04it/s]\n"
     ]
    },
    {
     "name": "stdout",
     "output_type": "stream",
     "text": [
      "Epoch 7 Loss: 0.8667\n"
     ]
    },
    {
     "name": "stderr",
     "output_type": "stream",
     "text": [
      "Training Epoch 8: 100%|██████████| 30/30 [00:07<00:00,  3.78it/s]\n"
     ]
    },
    {
     "name": "stdout",
     "output_type": "stream",
     "text": [
      "Epoch 8 Loss: 0.7586\n"
     ]
    },
    {
     "name": "stderr",
     "output_type": "stream",
     "text": [
      "Training Epoch 9: 100%|██████████| 30/30 [00:07<00:00,  3.78it/s]\n"
     ]
    },
    {
     "name": "stdout",
     "output_type": "stream",
     "text": [
      "Epoch 9 Loss: 0.6223\n"
     ]
    },
    {
     "name": "stderr",
     "output_type": "stream",
     "text": [
      "Training Epoch 10: 100%|██████████| 30/30 [00:10<00:00,  2.75it/s]\n"
     ]
    },
    {
     "name": "stdout",
     "output_type": "stream",
     "text": [
      "Epoch 10 Loss: 0.4108\n"
     ]
    },
    {
     "name": "stderr",
     "output_type": "stream",
     "text": [
      "Training Epoch 11: 100%|██████████| 30/30 [00:11<00:00,  2.57it/s]\n"
     ]
    },
    {
     "name": "stdout",
     "output_type": "stream",
     "text": [
      "Epoch 11 Loss: 0.3114\n"
     ]
    },
    {
     "name": "stderr",
     "output_type": "stream",
     "text": [
      "Training Epoch 12: 100%|██████████| 30/30 [00:12<00:00,  2.46it/s]\n"
     ]
    },
    {
     "name": "stdout",
     "output_type": "stream",
     "text": [
      "Epoch 12 Loss: 0.2793\n"
     ]
    },
    {
     "name": "stderr",
     "output_type": "stream",
     "text": [
      "Training Epoch 13: 100%|██████████| 30/30 [00:12<00:00,  2.41it/s]\n"
     ]
    },
    {
     "name": "stdout",
     "output_type": "stream",
     "text": [
      "Epoch 13 Loss: 0.2384\n"
     ]
    },
    {
     "name": "stderr",
     "output_type": "stream",
     "text": [
      "Training Epoch 14: 100%|██████████| 30/30 [00:12<00:00,  2.46it/s]\n"
     ]
    },
    {
     "name": "stdout",
     "output_type": "stream",
     "text": [
      "Epoch 14 Loss: 0.1810\n"
     ]
    },
    {
     "name": "stderr",
     "output_type": "stream",
     "text": [
      "Training Epoch 15: 100%|██████████| 30/30 [00:12<00:00,  2.41it/s]\n"
     ]
    },
    {
     "name": "stdout",
     "output_type": "stream",
     "text": [
      "Epoch 15 Loss: 0.1615\n"
     ]
    },
    {
     "name": "stderr",
     "output_type": "stream",
     "text": [
      "Training Epoch 16: 100%|██████████| 30/30 [00:12<00:00,  2.45it/s]\n"
     ]
    },
    {
     "name": "stdout",
     "output_type": "stream",
     "text": [
      "Epoch 16 Loss: 0.1345\n"
     ]
    },
    {
     "name": "stderr",
     "output_type": "stream",
     "text": [
      "Training Epoch 17: 100%|██████████| 30/30 [00:12<00:00,  2.40it/s]\n"
     ]
    },
    {
     "name": "stdout",
     "output_type": "stream",
     "text": [
      "Epoch 17 Loss: 0.1168\n"
     ]
    },
    {
     "name": "stderr",
     "output_type": "stream",
     "text": [
      "Training Epoch 18: 100%|██████████| 30/30 [00:12<00:00,  2.46it/s]\n"
     ]
    },
    {
     "name": "stdout",
     "output_type": "stream",
     "text": [
      "Epoch 18 Loss: 0.0811\n"
     ]
    },
    {
     "name": "stderr",
     "output_type": "stream",
     "text": [
      "Training Epoch 19: 100%|██████████| 30/30 [00:12<00:00,  2.42it/s]\n"
     ]
    },
    {
     "name": "stdout",
     "output_type": "stream",
     "text": [
      "Epoch 19 Loss: 0.0780\n"
     ]
    },
    {
     "name": "stderr",
     "output_type": "stream",
     "text": [
      "Training Epoch 20: 100%|██████████| 30/30 [00:12<00:00,  2.44it/s]\n"
     ]
    },
    {
     "name": "stdout",
     "output_type": "stream",
     "text": [
      "Epoch 20 Loss: 0.0812\n"
     ]
    },
    {
     "name": "stderr",
     "output_type": "stream",
     "text": [
      "Training Epoch 21: 100%|██████████| 30/30 [00:10<00:00,  2.83it/s]\n"
     ]
    },
    {
     "name": "stdout",
     "output_type": "stream",
     "text": [
      "Epoch 21 Loss: 0.0650\n"
     ]
    },
    {
     "name": "stderr",
     "output_type": "stream",
     "text": [
      "Training Epoch 22: 100%|██████████| 30/30 [00:08<00:00,  3.49it/s]\n"
     ]
    },
    {
     "name": "stdout",
     "output_type": "stream",
     "text": [
      "Epoch 22 Loss: 0.0685\n"
     ]
    },
    {
     "name": "stderr",
     "output_type": "stream",
     "text": [
      "Training Epoch 23: 100%|██████████| 30/30 [00:11<00:00,  2.55it/s]\n"
     ]
    },
    {
     "name": "stdout",
     "output_type": "stream",
     "text": [
      "Epoch 23 Loss: 0.0566\n"
     ]
    },
    {
     "name": "stderr",
     "output_type": "stream",
     "text": [
      "Training Epoch 24: 100%|██████████| 30/30 [00:12<00:00,  2.43it/s]\n"
     ]
    },
    {
     "name": "stdout",
     "output_type": "stream",
     "text": [
      "Epoch 24 Loss: 0.0548\n"
     ]
    },
    {
     "name": "stderr",
     "output_type": "stream",
     "text": [
      "Training Epoch 25: 100%|██████████| 30/30 [00:12<00:00,  2.46it/s]\n"
     ]
    },
    {
     "name": "stdout",
     "output_type": "stream",
     "text": [
      "Epoch 25 Loss: 0.0487\n",
      "\n",
      "FINAL EVALUATION ON VALIDATION SET\n",
      "\n",
      "=== Mistake_Identification ===\n",
      "-- Exact (3-Class) --\n",
      "                precision    recall  f1-score   support\n",
      "\n",
      "            No      0.000     0.000     0.000         2\n",
      "To some extent      0.000     0.000     0.000         9\n",
      "           Yes      0.788     0.837     0.812        49\n",
      "\n",
      "      accuracy                          0.683        60\n",
      "     macro avg      0.263     0.279     0.271        60\n",
      "  weighted avg      0.644     0.683     0.663        60\n",
      "\n",
      "Confusion Matrix:\n",
      "[[ 0  0  2]\n",
      " [ 0  0  9]\n",
      " [ 1  7 41]]\n",
      "Accuracy: 0.6833333333333333\n",
      "Macro F1: 0.2706270627062706\n",
      "Micro F1: 0.6833333333333333\n",
      "-- Lenient (2-Class) --\n",
      "              precision    recall  f1-score   support\n",
      "\n",
      "          No      0.000     0.000     0.000         2\n",
      "     Yes/TSE      0.966     0.983     0.974        58\n",
      "\n",
      "    accuracy                          0.950        60\n",
      "   macro avg      0.483     0.491     0.487        60\n",
      "weighted avg      0.934     0.950     0.942        60\n",
      "\n",
      "Confusion Matrix:\n",
      "[[ 0  2]\n",
      " [ 1 57]]\n",
      "Accuracy: 0.95\n",
      "Macro F1: 0.48717948717948717\n",
      "Micro F1: 0.9500000000000001\n",
      "\n",
      "=== Mistake_Location ===\n",
      "-- Exact (3-Class) --\n",
      "                precision    recall  f1-score   support\n",
      "\n",
      "            No      0.250     0.222     0.235         9\n",
      "To some extent      0.250     0.100     0.143        10\n",
      "           Yes      0.729     0.854     0.787        41\n",
      "\n",
      "      accuracy                          0.633        60\n",
      "     macro avg      0.410     0.392     0.388        60\n",
      "  weighted avg      0.577     0.633     0.597        60\n",
      "\n",
      "Confusion Matrix:\n",
      "[[ 2  1  6]\n",
      " [ 2  1  7]\n",
      " [ 4  2 35]]\n",
      "Accuracy: 0.6333333333333333\n",
      "Macro F1: 0.388222704812262\n",
      "Micro F1: 0.6333333333333333\n",
      "-- Lenient (2-Class) --\n",
      "              precision    recall  f1-score   support\n",
      "\n",
      "          No      0.250     0.222     0.235         9\n",
      "     Yes/TSE      0.865     0.882     0.874        51\n",
      "\n",
      "    accuracy                          0.783        60\n",
      "   macro avg      0.558     0.552     0.555        60\n",
      "weighted avg      0.773     0.783     0.778        60\n",
      "\n",
      "Confusion Matrix:\n",
      "[[ 2  7]\n",
      " [ 6 45]]\n",
      "Accuracy: 0.7833333333333333\n",
      "Macro F1: 0.5545402627070246\n",
      "Micro F1: 0.7833333333333333\n",
      "\n",
      "=== Providing_Guidance ===\n",
      "-- Exact (3-Class) --\n",
      "                precision    recall  f1-score   support\n",
      "\n",
      "            No      0.250     0.167     0.200         6\n",
      "To some extent      0.300     0.375     0.333         8\n",
      "           Yes      0.783     0.783     0.783        46\n",
      "\n",
      "      accuracy                          0.667        60\n",
      "     macro avg      0.444     0.441     0.439        60\n",
      "  weighted avg      0.665     0.667     0.664        60\n",
      "\n",
      "Confusion Matrix:\n",
      "[[ 1  0  5]\n",
      " [ 0  3  5]\n",
      " [ 3  7 36]]\n",
      "Accuracy: 0.6666666666666666\n",
      "Macro F1: 0.438647342995169\n",
      "Micro F1: 0.6666666666666666\n",
      "-- Lenient (2-Class) --\n",
      "              precision    recall  f1-score   support\n",
      "\n",
      "          No      0.250     0.167     0.200         6\n",
      "     Yes/TSE      0.911     0.944     0.927        54\n",
      "\n",
      "    accuracy                          0.867        60\n",
      "   macro avg      0.580     0.556     0.564        60\n",
      "weighted avg      0.845     0.867     0.855        60\n",
      "\n",
      "Confusion Matrix:\n",
      "[[ 1  5]\n",
      " [ 3 51]]\n",
      "Accuracy: 0.8666666666666667\n",
      "Macro F1: 0.5636363636363636\n",
      "Micro F1: 0.8666666666666667\n",
      "\n",
      "=== Actionability ===\n",
      "-- Exact (3-Class) --\n",
      "                precision    recall  f1-score   support\n",
      "\n",
      "            No      0.000     0.000     0.000         2\n",
      "To some extent      0.000     0.000     0.000        10\n",
      "           Yes      0.789     0.938     0.857        48\n",
      "\n",
      "      accuracy                          0.750        60\n",
      "     macro avg      0.263     0.312     0.286        60\n",
      "  weighted avg      0.632     0.750     0.686        60\n",
      "\n",
      "Confusion Matrix:\n",
      "[[ 0  0  2]\n",
      " [ 0  0 10]\n",
      " [ 2  1 45]]\n",
      "Accuracy: 0.75\n",
      "Macro F1: 0.28571428571428575\n",
      "Micro F1: 0.75\n",
      "-- Lenient (2-Class) --\n",
      "              precision    recall  f1-score   support\n",
      "\n",
      "          No      0.000     0.000     0.000         2\n",
      "     Yes/TSE      0.966     0.966     0.966        58\n",
      "\n",
      "    accuracy                          0.933        60\n",
      "   macro avg      0.483     0.483     0.483        60\n",
      "weighted avg      0.933     0.933     0.933        60\n",
      "\n",
      "Confusion Matrix:\n",
      "[[ 0  2]\n",
      " [ 2 56]]\n",
      "Accuracy: 0.9333333333333333\n",
      "Macro F1: 0.4827586206896552\n",
      "Micro F1: 0.9333333333333333\n",
      "\n",
      "\n",
      "================= TUTOR: Gemini =================\n"
     ]
    },
    {
     "name": "stderr",
     "output_type": "stream",
     "text": [
      "Some weights of RobertaModel were not initialized from the model checkpoint at roberta-base and are newly initialized: ['roberta.pooler.dense.weight', 'roberta.pooler.dense.bias']\n",
      "You should probably TRAIN this model on a down-stream task to be able to use it for predictions and inference.\n",
      "Training Epoch 1: 100%|██████████| 30/30 [00:12<00:00,  2.40it/s]\n"
     ]
    },
    {
     "name": "stdout",
     "output_type": "stream",
     "text": [
      "Epoch 1 Loss: 1.7017\n"
     ]
    },
    {
     "name": "stderr",
     "output_type": "stream",
     "text": [
      "Training Epoch 2: 100%|██████████| 30/30 [00:12<00:00,  2.45it/s]\n"
     ]
    },
    {
     "name": "stdout",
     "output_type": "stream",
     "text": [
      "Epoch 2 Loss: 1.5160\n"
     ]
    },
    {
     "name": "stderr",
     "output_type": "stream",
     "text": [
      "Training Epoch 3: 100%|██████████| 30/30 [00:12<00:00,  2.42it/s]\n"
     ]
    },
    {
     "name": "stdout",
     "output_type": "stream",
     "text": [
      "Epoch 3 Loss: 1.4532\n"
     ]
    },
    {
     "name": "stderr",
     "output_type": "stream",
     "text": [
      "Training Epoch 4: 100%|██████████| 30/30 [00:12<00:00,  2.44it/s]\n"
     ]
    },
    {
     "name": "stdout",
     "output_type": "stream",
     "text": [
      "Epoch 4 Loss: 1.4055\n"
     ]
    },
    {
     "name": "stderr",
     "output_type": "stream",
     "text": [
      "Training Epoch 5: 100%|██████████| 30/30 [00:12<00:00,  2.43it/s]\n"
     ]
    },
    {
     "name": "stdout",
     "output_type": "stream",
     "text": [
      "Epoch 5 Loss: 1.4349\n"
     ]
    },
    {
     "name": "stderr",
     "output_type": "stream",
     "text": [
      "Training Epoch 6: 100%|██████████| 30/30 [00:12<00:00,  2.44it/s]\n"
     ]
    },
    {
     "name": "stdout",
     "output_type": "stream",
     "text": [
      "Epoch 6 Loss: 1.3192\n"
     ]
    },
    {
     "name": "stderr",
     "output_type": "stream",
     "text": [
      "Training Epoch 7: 100%|██████████| 30/30 [00:12<00:00,  2.41it/s]\n"
     ]
    },
    {
     "name": "stdout",
     "output_type": "stream",
     "text": [
      "Epoch 7 Loss: 1.2275\n"
     ]
    },
    {
     "name": "stderr",
     "output_type": "stream",
     "text": [
      "Training Epoch 8: 100%|██████████| 30/30 [00:09<00:00,  3.33it/s]\n"
     ]
    },
    {
     "name": "stdout",
     "output_type": "stream",
     "text": [
      "Epoch 8 Loss: 1.0033\n"
     ]
    },
    {
     "name": "stderr",
     "output_type": "stream",
     "text": [
      "Training Epoch 9: 100%|██████████| 30/30 [00:10<00:00,  2.91it/s]\n"
     ]
    },
    {
     "name": "stdout",
     "output_type": "stream",
     "text": [
      "Epoch 9 Loss: 0.8535\n"
     ]
    },
    {
     "name": "stderr",
     "output_type": "stream",
     "text": [
      "Training Epoch 10: 100%|██████████| 30/30 [00:11<00:00,  2.58it/s]\n"
     ]
    },
    {
     "name": "stdout",
     "output_type": "stream",
     "text": [
      "Epoch 10 Loss: 0.6326\n"
     ]
    },
    {
     "name": "stderr",
     "output_type": "stream",
     "text": [
      "Training Epoch 11: 100%|██████████| 30/30 [00:12<00:00,  2.42it/s]\n"
     ]
    },
    {
     "name": "stdout",
     "output_type": "stream",
     "text": [
      "Epoch 11 Loss: 0.4652\n"
     ]
    },
    {
     "name": "stderr",
     "output_type": "stream",
     "text": [
      "Training Epoch 12: 100%|██████████| 30/30 [00:12<00:00,  2.43it/s]\n"
     ]
    },
    {
     "name": "stdout",
     "output_type": "stream",
     "text": [
      "Epoch 12 Loss: 0.3384\n"
     ]
    },
    {
     "name": "stderr",
     "output_type": "stream",
     "text": [
      "Training Epoch 13: 100%|██████████| 30/30 [00:12<00:00,  2.40it/s]\n"
     ]
    },
    {
     "name": "stdout",
     "output_type": "stream",
     "text": [
      "Epoch 13 Loss: 0.2937\n"
     ]
    },
    {
     "name": "stderr",
     "output_type": "stream",
     "text": [
      "Training Epoch 14: 100%|██████████| 30/30 [00:12<00:00,  2.45it/s]\n"
     ]
    },
    {
     "name": "stdout",
     "output_type": "stream",
     "text": [
      "Epoch 14 Loss: 0.1867\n"
     ]
    },
    {
     "name": "stderr",
     "output_type": "stream",
     "text": [
      "Training Epoch 15: 100%|██████████| 30/30 [00:12<00:00,  2.42it/s]\n"
     ]
    },
    {
     "name": "stdout",
     "output_type": "stream",
     "text": [
      "Epoch 15 Loss: 0.1440\n"
     ]
    },
    {
     "name": "stderr",
     "output_type": "stream",
     "text": [
      "Training Epoch 16: 100%|██████████| 30/30 [00:12<00:00,  2.42it/s]\n"
     ]
    },
    {
     "name": "stdout",
     "output_type": "stream",
     "text": [
      "Epoch 16 Loss: 0.1172\n"
     ]
    },
    {
     "name": "stderr",
     "output_type": "stream",
     "text": [
      "Training Epoch 17: 100%|██████████| 30/30 [00:12<00:00,  2.45it/s]\n"
     ]
    },
    {
     "name": "stdout",
     "output_type": "stream",
     "text": [
      "Epoch 17 Loss: 0.1067\n"
     ]
    },
    {
     "name": "stderr",
     "output_type": "stream",
     "text": [
      "Training Epoch 18: 100%|██████████| 30/30 [00:12<00:00,  2.42it/s]\n"
     ]
    },
    {
     "name": "stdout",
     "output_type": "stream",
     "text": [
      "Epoch 18 Loss: 0.0872\n"
     ]
    },
    {
     "name": "stderr",
     "output_type": "stream",
     "text": [
      "Training Epoch 19: 100%|██████████| 30/30 [00:12<00:00,  2.45it/s]\n"
     ]
    },
    {
     "name": "stdout",
     "output_type": "stream",
     "text": [
      "Epoch 19 Loss: 0.0783\n"
     ]
    },
    {
     "name": "stderr",
     "output_type": "stream",
     "text": [
      "Training Epoch 20: 100%|██████████| 30/30 [00:10<00:00,  2.83it/s]\n"
     ]
    },
    {
     "name": "stdout",
     "output_type": "stream",
     "text": [
      "Epoch 20 Loss: 0.0653\n"
     ]
    },
    {
     "name": "stderr",
     "output_type": "stream",
     "text": [
      "Training Epoch 21: 100%|██████████| 30/30 [00:08<00:00,  3.44it/s]\n"
     ]
    },
    {
     "name": "stdout",
     "output_type": "stream",
     "text": [
      "Epoch 21 Loss: 0.0633\n"
     ]
    },
    {
     "name": "stderr",
     "output_type": "stream",
     "text": [
      "Training Epoch 22: 100%|██████████| 30/30 [00:11<00:00,  2.60it/s]\n"
     ]
    },
    {
     "name": "stdout",
     "output_type": "stream",
     "text": [
      "Epoch 22 Loss: 0.0580\n"
     ]
    },
    {
     "name": "stderr",
     "output_type": "stream",
     "text": [
      "Training Epoch 23: 100%|██████████| 30/30 [00:12<00:00,  2.41it/s]\n"
     ]
    },
    {
     "name": "stdout",
     "output_type": "stream",
     "text": [
      "Epoch 23 Loss: 0.0551\n"
     ]
    },
    {
     "name": "stderr",
     "output_type": "stream",
     "text": [
      "Training Epoch 24: 100%|██████████| 30/30 [00:12<00:00,  2.45it/s]\n"
     ]
    },
    {
     "name": "stdout",
     "output_type": "stream",
     "text": [
      "Epoch 24 Loss: 0.0477\n"
     ]
    },
    {
     "name": "stderr",
     "output_type": "stream",
     "text": [
      "Training Epoch 25: 100%|██████████| 30/30 [00:12<00:00,  2.41it/s]\n"
     ]
    },
    {
     "name": "stdout",
     "output_type": "stream",
     "text": [
      "Epoch 25 Loss: 0.0460\n",
      "\n",
      "FINAL EVALUATION ON VALIDATION SET\n",
      "\n",
      "=== Mistake_Identification ===\n",
      "-- Exact (3-Class) --\n",
      "                precision    recall  f1-score   support\n",
      "\n",
      "            No      0.000     0.000     0.000         6\n",
      "To some extent      0.000     0.000     0.000         0\n",
      "           Yes      0.898     0.981     0.938        54\n",
      "\n",
      "     micro avg      0.883     0.883     0.883        60\n",
      "     macro avg      0.299     0.327     0.313        60\n",
      "  weighted avg      0.808     0.883     0.844        60\n",
      "\n",
      "Confusion Matrix:\n",
      "[[ 0  0  6]\n",
      " [ 0  0  0]\n",
      " [ 1  0 53]]\n",
      "Accuracy: 0.8833333333333333\n",
      "Macro F1: 0.4690265486725664\n",
      "Micro F1: 0.8833333333333333\n",
      "-- Lenient (2-Class) --\n",
      "              precision    recall  f1-score   support\n",
      "\n",
      "          No      0.000     0.000     0.000         6\n",
      "     Yes/TSE      0.898     0.981     0.938        54\n",
      "\n",
      "    accuracy                          0.883        60\n",
      "   macro avg      0.449     0.491     0.469        60\n",
      "weighted avg      0.808     0.883     0.844        60\n",
      "\n",
      "Confusion Matrix:\n",
      "[[ 0  6]\n",
      " [ 1 53]]\n",
      "Accuracy: 0.8833333333333333\n",
      "Macro F1: 0.4690265486725664\n",
      "Micro F1: 0.8833333333333333\n",
      "\n",
      "=== Mistake_Location ===\n",
      "-- Exact (3-Class) --\n",
      "                precision    recall  f1-score   support\n",
      "\n",
      "            No      0.444     0.235     0.308        17\n",
      "To some extent      0.000     0.000     0.000         6\n",
      "           Yes      0.667     0.811     0.732        37\n",
      "\n",
      "      accuracy                          0.567        60\n",
      "     macro avg      0.370     0.349     0.346        60\n",
      "  weighted avg      0.537     0.567     0.538        60\n",
      "\n",
      "Confusion Matrix:\n",
      "[[ 4  2 11]\n",
      " [ 2  0  4]\n",
      " [ 3  4 30]]\n",
      "Accuracy: 0.5666666666666667\n",
      "Macro F1: 0.3464665415884928\n",
      "Micro F1: 0.5666666666666667\n",
      "-- Lenient (2-Class) --\n",
      "              precision    recall  f1-score   support\n",
      "\n",
      "          No      0.444     0.235     0.308        17\n",
      "     Yes/TSE      0.745     0.884     0.809        43\n",
      "\n",
      "    accuracy                          0.700        60\n",
      "   macro avg      0.595     0.560     0.558        60\n",
      "weighted avg      0.660     0.700     0.667        60\n",
      "\n",
      "Confusion Matrix:\n",
      "[[ 4 13]\n",
      " [ 5 38]]\n",
      "Accuracy: 0.7\n",
      "Macro F1: 0.55810147299509\n",
      "Micro F1: 0.7\n",
      "\n",
      "=== Providing_Guidance ===\n",
      "-- Exact (3-Class) --\n",
      "                precision    recall  f1-score   support\n",
      "\n",
      "            No      0.000     0.000     0.000        12\n",
      "To some extent      0.308     0.200     0.242        20\n",
      "           Yes      0.512     0.786     0.620        28\n",
      "\n",
      "      accuracy                          0.433        60\n",
      "     macro avg      0.273     0.329     0.287        60\n",
      "  weighted avg      0.341     0.433     0.370        60\n",
      "\n",
      "Confusion Matrix:\n",
      "[[ 0  4  8]\n",
      " [ 3  4 13]\n",
      " [ 1  5 22]]\n",
      "Accuracy: 0.43333333333333335\n",
      "Macro F1: 0.28738085076113246\n",
      "Micro F1: 0.43333333333333335\n",
      "-- Lenient (2-Class) --\n",
      "              precision    recall  f1-score   support\n",
      "\n",
      "          No      0.000     0.000     0.000        12\n",
      "     Yes/TSE      0.786     0.917     0.846        48\n",
      "\n",
      "    accuracy                          0.733        60\n",
      "   macro avg      0.393     0.458     0.423        60\n",
      "weighted avg      0.629     0.733     0.677        60\n",
      "\n",
      "Confusion Matrix:\n",
      "[[ 0 12]\n",
      " [ 4 44]]\n",
      "Accuracy: 0.7333333333333333\n",
      "Macro F1: 0.4230769230769231\n",
      "Micro F1: 0.7333333333333333\n",
      "\n",
      "=== Actionability ===\n",
      "-- Exact (3-Class) --\n",
      "                precision    recall  f1-score   support\n",
      "\n",
      "            No      0.500     0.125     0.200        16\n",
      "To some extent      0.200     0.200     0.200        10\n",
      "           Yes      0.543     0.735     0.625        34\n",
      "\n",
      "      accuracy                          0.483        60\n",
      "     macro avg      0.414     0.353     0.342        60\n",
      "  weighted avg      0.475     0.483     0.441        60\n",
      "\n",
      "Confusion Matrix:\n",
      "[[ 2  1 13]\n",
      " [ 0  2  8]\n",
      " [ 2  7 25]]\n",
      "Accuracy: 0.48333333333333334\n",
      "Macro F1: 0.3416666666666666\n",
      "Micro F1: 0.48333333333333334\n",
      "-- Lenient (2-Class) --\n",
      "              precision    recall  f1-score   support\n",
      "\n",
      "          No      0.500     0.125     0.200        16\n",
      "     Yes/TSE      0.750     0.955     0.840        44\n",
      "\n",
      "    accuracy                          0.733        60\n",
      "   macro avg      0.625     0.540     0.520        60\n",
      "weighted avg      0.683     0.733     0.669        60\n",
      "\n",
      "Confusion Matrix:\n",
      "[[ 2 14]\n",
      " [ 2 42]]\n",
      "Accuracy: 0.7333333333333333\n",
      "Macro F1: 0.52\n",
      "Micro F1: 0.7333333333333333\n",
      "\n",
      "\n",
      "================= TUTOR: Phi3 =================\n"
     ]
    },
    {
     "name": "stderr",
     "output_type": "stream",
     "text": [
      "Some weights of RobertaModel were not initialized from the model checkpoint at roberta-base and are newly initialized: ['roberta.pooler.dense.weight', 'roberta.pooler.dense.bias']\n",
      "You should probably TRAIN this model on a down-stream task to be able to use it for predictions and inference.\n",
      "Training Epoch 1: 100%|██████████| 30/30 [00:12<00:00,  2.42it/s]\n"
     ]
    },
    {
     "name": "stdout",
     "output_type": "stream",
     "text": [
      "Epoch 1 Loss: 1.2314\n"
     ]
    },
    {
     "name": "stderr",
     "output_type": "stream",
     "text": [
      "Training Epoch 2: 100%|██████████| 30/30 [00:12<00:00,  2.41it/s]\n"
     ]
    },
    {
     "name": "stdout",
     "output_type": "stream",
     "text": [
      "Epoch 2 Loss: 0.7881\n"
     ]
    },
    {
     "name": "stderr",
     "output_type": "stream",
     "text": [
      "Training Epoch 3: 100%|██████████| 30/30 [00:12<00:00,  2.44it/s]\n"
     ]
    },
    {
     "name": "stdout",
     "output_type": "stream",
     "text": [
      "Epoch 3 Loss: 0.6979\n"
     ]
    },
    {
     "name": "stderr",
     "output_type": "stream",
     "text": [
      "Training Epoch 4: 100%|██████████| 30/30 [00:12<00:00,  2.42it/s]\n"
     ]
    },
    {
     "name": "stdout",
     "output_type": "stream",
     "text": [
      "Epoch 4 Loss: 0.6540\n"
     ]
    },
    {
     "name": "stderr",
     "output_type": "stream",
     "text": [
      "Training Epoch 5: 100%|██████████| 30/30 [00:12<00:00,  2.44it/s]\n"
     ]
    },
    {
     "name": "stdout",
     "output_type": "stream",
     "text": [
      "Epoch 5 Loss: 0.6046\n"
     ]
    },
    {
     "name": "stderr",
     "output_type": "stream",
     "text": [
      "Training Epoch 6: 100%|██████████| 30/30 [00:12<00:00,  2.41it/s]\n"
     ]
    },
    {
     "name": "stdout",
     "output_type": "stream",
     "text": [
      "Epoch 6 Loss: 0.5840\n"
     ]
    },
    {
     "name": "stderr",
     "output_type": "stream",
     "text": [
      "Training Epoch 7: 100%|██████████| 30/30 [00:09<00:00,  3.31it/s]\n"
     ]
    },
    {
     "name": "stdout",
     "output_type": "stream",
     "text": [
      "Epoch 7 Loss: 0.4674\n"
     ]
    },
    {
     "name": "stderr",
     "output_type": "stream",
     "text": [
      "Training Epoch 8: 100%|██████████| 30/30 [00:10<00:00,  2.98it/s]\n"
     ]
    },
    {
     "name": "stdout",
     "output_type": "stream",
     "text": [
      "Epoch 8 Loss: 0.4588\n"
     ]
    },
    {
     "name": "stderr",
     "output_type": "stream",
     "text": [
      "Training Epoch 9: 100%|██████████| 30/30 [00:11<00:00,  2.54it/s]\n"
     ]
    },
    {
     "name": "stdout",
     "output_type": "stream",
     "text": [
      "Epoch 9 Loss: 0.3685\n"
     ]
    },
    {
     "name": "stderr",
     "output_type": "stream",
     "text": [
      "Training Epoch 10: 100%|██████████| 30/30 [00:12<00:00,  2.45it/s]\n"
     ]
    },
    {
     "name": "stdout",
     "output_type": "stream",
     "text": [
      "Epoch 10 Loss: 0.3208\n"
     ]
    },
    {
     "name": "stderr",
     "output_type": "stream",
     "text": [
      "Training Epoch 11: 100%|██████████| 30/30 [00:12<00:00,  2.40it/s]\n"
     ]
    },
    {
     "name": "stdout",
     "output_type": "stream",
     "text": [
      "Epoch 11 Loss: 0.2147\n"
     ]
    },
    {
     "name": "stderr",
     "output_type": "stream",
     "text": [
      "Training Epoch 12: 100%|██████████| 30/30 [00:12<00:00,  2.45it/s]\n"
     ]
    },
    {
     "name": "stdout",
     "output_type": "stream",
     "text": [
      "Epoch 12 Loss: 0.1918\n"
     ]
    },
    {
     "name": "stderr",
     "output_type": "stream",
     "text": [
      "Training Epoch 13: 100%|██████████| 30/30 [00:12<00:00,  2.41it/s]\n"
     ]
    },
    {
     "name": "stdout",
     "output_type": "stream",
     "text": [
      "Epoch 13 Loss: 0.1527\n"
     ]
    },
    {
     "name": "stderr",
     "output_type": "stream",
     "text": [
      "Training Epoch 14: 100%|██████████| 30/30 [00:12<00:00,  2.45it/s]\n"
     ]
    },
    {
     "name": "stdout",
     "output_type": "stream",
     "text": [
      "Epoch 14 Loss: 0.1254\n"
     ]
    },
    {
     "name": "stderr",
     "output_type": "stream",
     "text": [
      "Training Epoch 15: 100%|██████████| 30/30 [00:12<00:00,  2.39it/s]\n"
     ]
    },
    {
     "name": "stdout",
     "output_type": "stream",
     "text": [
      "Epoch 15 Loss: 0.0894\n"
     ]
    },
    {
     "name": "stderr",
     "output_type": "stream",
     "text": [
      "Training Epoch 16: 100%|██████████| 30/30 [00:12<00:00,  2.40it/s]\n"
     ]
    },
    {
     "name": "stdout",
     "output_type": "stream",
     "text": [
      "Epoch 16 Loss: 0.0627\n"
     ]
    },
    {
     "name": "stderr",
     "output_type": "stream",
     "text": [
      "Training Epoch 17: 100%|██████████| 30/30 [00:12<00:00,  2.45it/s]\n"
     ]
    },
    {
     "name": "stdout",
     "output_type": "stream",
     "text": [
      "Epoch 17 Loss: 0.0505\n"
     ]
    },
    {
     "name": "stderr",
     "output_type": "stream",
     "text": [
      "Training Epoch 18: 100%|██████████| 30/30 [00:12<00:00,  2.40it/s]\n"
     ]
    },
    {
     "name": "stdout",
     "output_type": "stream",
     "text": [
      "Epoch 18 Loss: 0.0476\n"
     ]
    },
    {
     "name": "stderr",
     "output_type": "stream",
     "text": [
      "Training Epoch 19: 100%|██████████| 30/30 [00:10<00:00,  2.79it/s]\n"
     ]
    },
    {
     "name": "stdout",
     "output_type": "stream",
     "text": [
      "Epoch 19 Loss: 0.0457\n"
     ]
    },
    {
     "name": "stderr",
     "output_type": "stream",
     "text": [
      "Training Epoch 20: 100%|██████████| 30/30 [00:08<00:00,  3.54it/s]\n"
     ]
    },
    {
     "name": "stdout",
     "output_type": "stream",
     "text": [
      "Epoch 20 Loss: 0.0351\n"
     ]
    },
    {
     "name": "stderr",
     "output_type": "stream",
     "text": [
      "Training Epoch 21: 100%|██████████| 30/30 [00:11<00:00,  2.55it/s]\n"
     ]
    },
    {
     "name": "stdout",
     "output_type": "stream",
     "text": [
      "Epoch 21 Loss: 0.0295\n"
     ]
    },
    {
     "name": "stderr",
     "output_type": "stream",
     "text": [
      "Training Epoch 22: 100%|██████████| 30/30 [00:12<00:00,  2.39it/s]\n"
     ]
    },
    {
     "name": "stdout",
     "output_type": "stream",
     "text": [
      "Epoch 22 Loss: 0.0218\n"
     ]
    },
    {
     "name": "stderr",
     "output_type": "stream",
     "text": [
      "Training Epoch 23: 100%|██████████| 30/30 [00:12<00:00,  2.40it/s]\n"
     ]
    },
    {
     "name": "stdout",
     "output_type": "stream",
     "text": [
      "Epoch 23 Loss: 0.0264\n"
     ]
    },
    {
     "name": "stderr",
     "output_type": "stream",
     "text": [
      "Training Epoch 24: 100%|██████████| 30/30 [00:12<00:00,  2.45it/s]\n"
     ]
    },
    {
     "name": "stdout",
     "output_type": "stream",
     "text": [
      "Epoch 24 Loss: 0.0253\n"
     ]
    },
    {
     "name": "stderr",
     "output_type": "stream",
     "text": [
      "Training Epoch 25: 100%|██████████| 30/30 [00:12<00:00,  2.39it/s]\n"
     ]
    },
    {
     "name": "stdout",
     "output_type": "stream",
     "text": [
      "Epoch 25 Loss: 0.0254\n",
      "\n",
      "FINAL EVALUATION ON VALIDATION SET\n",
      "\n",
      "=== Mistake_Identification ===\n",
      "-- Exact (3-Class) --\n",
      "                precision    recall  f1-score   support\n",
      "\n",
      "            No      0.929     1.000     0.963        39\n",
      "To some extent      0.000     0.000     0.000         0\n",
      "           Yes      1.000     0.857     0.923        21\n",
      "\n",
      "     micro avg      0.950     0.950     0.950        60\n",
      "     macro avg      0.643     0.619     0.629        60\n",
      "  weighted avg      0.954     0.950     0.949        60\n",
      "\n",
      "Confusion Matrix:\n",
      "[[39  0  0]\n",
      " [ 0  0  0]\n",
      " [ 3  0 18]]\n",
      "Accuracy: 0.95\n",
      "Macro F1: 0.9430199430199431\n",
      "Micro F1: 0.9500000000000001\n",
      "-- Lenient (2-Class) --\n",
      "              precision    recall  f1-score   support\n",
      "\n",
      "          No      0.929     1.000     0.963        39\n",
      "     Yes/TSE      1.000     0.857     0.923        21\n",
      "\n",
      "    accuracy                          0.950        60\n",
      "   macro avg      0.964     0.929     0.943        60\n",
      "weighted avg      0.954     0.950     0.949        60\n",
      "\n",
      "Confusion Matrix:\n",
      "[[39  0]\n",
      " [ 3 18]]\n",
      "Accuracy: 0.95\n",
      "Macro F1: 0.9430199430199431\n",
      "Micro F1: 0.9500000000000001\n",
      "\n",
      "=== Mistake_Location ===\n",
      "-- Exact (3-Class) --\n",
      "                precision    recall  f1-score   support\n",
      "\n",
      "            No      0.952     1.000     0.976        40\n",
      "To some extent      0.000     0.000     0.000         1\n",
      "           Yes      0.944     0.895     0.919        19\n",
      "\n",
      "      accuracy                          0.950        60\n",
      "     macro avg      0.632     0.632     0.632        60\n",
      "  weighted avg      0.934     0.950     0.941        60\n",
      "\n",
      "Confusion Matrix:\n",
      "[[40  0  0]\n",
      " [ 0  0  1]\n",
      " [ 2  0 17]]\n",
      "Accuracy: 0.95\n",
      "Macro F1: 0.6315095583388266\n",
      "Micro F1: 0.9500000000000001\n",
      "-- Lenient (2-Class) --\n",
      "              precision    recall  f1-score   support\n",
      "\n",
      "          No      0.952     1.000     0.976        40\n",
      "     Yes/TSE      1.000     0.900     0.947        20\n",
      "\n",
      "    accuracy                          0.967        60\n",
      "   macro avg      0.976     0.950     0.961        60\n",
      "weighted avg      0.968     0.967     0.966        60\n",
      "\n",
      "Confusion Matrix:\n",
      "[[40  0]\n",
      " [ 2 18]]\n",
      "Accuracy: 0.9666666666666667\n",
      "Macro F1: 0.9614890885750963\n",
      "Micro F1: 0.9666666666666667\n",
      "\n",
      "=== Providing_Guidance ===\n",
      "-- Exact (3-Class) --\n",
      "                precision    recall  f1-score   support\n",
      "\n",
      "            No      0.865     0.865     0.865        37\n",
      "To some extent      0.222     0.222     0.222         9\n",
      "           Yes      0.714     0.714     0.714        14\n",
      "\n",
      "      accuracy                          0.733        60\n",
      "     macro avg      0.600     0.600     0.600        60\n",
      "  weighted avg      0.733     0.733     0.733        60\n",
      "\n",
      "Confusion Matrix:\n",
      "[[32  4  1]\n",
      " [ 4  2  3]\n",
      " [ 1  3 10]]\n",
      "Accuracy: 0.7333333333333333\n",
      "Macro F1: 0.6004576004576005\n",
      "Micro F1: 0.7333333333333333\n",
      "-- Lenient (2-Class) --\n",
      "              precision    recall  f1-score   support\n",
      "\n",
      "          No      0.865     0.865     0.865        37\n",
      "     Yes/TSE      0.783     0.783     0.783        23\n",
      "\n",
      "    accuracy                          0.833        60\n",
      "   macro avg      0.824     0.824     0.824        60\n",
      "weighted avg      0.833     0.833     0.833        60\n",
      "\n",
      "Confusion Matrix:\n",
      "[[32  5]\n",
      " [ 5 18]]\n",
      "Accuracy: 0.8333333333333334\n",
      "Macro F1: 0.8237367802585194\n",
      "Micro F1: 0.8333333333333334\n",
      "\n",
      "=== Actionability ===\n",
      "-- Exact (3-Class) --\n",
      "                precision    recall  f1-score   support\n",
      "\n",
      "            No      0.810     0.979     0.887        48\n",
      "To some extent      0.000     0.000     0.000         5\n",
      "           Yes      0.000     0.000     0.000         7\n",
      "\n",
      "      accuracy                          0.783        60\n",
      "     macro avg      0.270     0.326     0.296        60\n",
      "  weighted avg      0.648     0.783     0.709        60\n",
      "\n",
      "Confusion Matrix:\n",
      "[[47  0  1]\n",
      " [ 4  0  1]\n",
      " [ 7  0  0]]\n",
      "Accuracy: 0.7833333333333333\n",
      "Macro F1: 0.29559748427672955\n",
      "Micro F1: 0.7833333333333333\n",
      "-- Lenient (2-Class) --\n",
      "              precision    recall  f1-score   support\n",
      "\n",
      "          No      0.810     0.979     0.887        48\n",
      "     Yes/TSE      0.500     0.083     0.143        12\n",
      "\n",
      "    accuracy                          0.800        60\n",
      "   macro avg      0.655     0.531     0.515        60\n",
      "weighted avg      0.748     0.800     0.738        60\n",
      "\n",
      "Confusion Matrix:\n",
      "[[47  1]\n",
      " [11  1]]\n",
      "Accuracy: 0.8\n",
      "Macro F1: 0.5148247978436657\n",
      "Micro F1: 0.8000000000000002\n",
      "\n",
      "\n",
      "================= TUTOR: Novice =================\n"
     ]
    },
    {
     "name": "stderr",
     "output_type": "stream",
     "text": [
      "Some weights of RobertaModel were not initialized from the model checkpoint at roberta-base and are newly initialized: ['roberta.pooler.dense.weight', 'roberta.pooler.dense.bias']\n",
      "You should probably TRAIN this model on a down-stream task to be able to use it for predictions and inference.\n",
      "Training Epoch 1: 100%|██████████| 8/8 [00:02<00:00,  2.76it/s]\n"
     ]
    },
    {
     "name": "stdout",
     "output_type": "stream",
     "text": [
      "Epoch 1 Loss: 1.6089\n"
     ]
    },
    {
     "name": "stderr",
     "output_type": "stream",
     "text": [
      "Training Epoch 2: 100%|██████████| 8/8 [00:03<00:00,  2.55it/s]\n"
     ]
    },
    {
     "name": "stdout",
     "output_type": "stream",
     "text": [
      "Epoch 2 Loss: 1.2158\n"
     ]
    },
    {
     "name": "stderr",
     "output_type": "stream",
     "text": [
      "Training Epoch 3: 100%|██████████| 8/8 [00:03<00:00,  2.54it/s]\n"
     ]
    },
    {
     "name": "stdout",
     "output_type": "stream",
     "text": [
      "Epoch 3 Loss: 1.1866\n"
     ]
    },
    {
     "name": "stderr",
     "output_type": "stream",
     "text": [
      "Training Epoch 4: 100%|██████████| 8/8 [00:03<00:00,  2.55it/s]\n"
     ]
    },
    {
     "name": "stdout",
     "output_type": "stream",
     "text": [
      "Epoch 4 Loss: 1.1802\n"
     ]
    },
    {
     "name": "stderr",
     "output_type": "stream",
     "text": [
      "Training Epoch 5: 100%|██████████| 8/8 [00:03<00:00,  2.54it/s]\n"
     ]
    },
    {
     "name": "stdout",
     "output_type": "stream",
     "text": [
      "Epoch 5 Loss: 1.0681\n"
     ]
    },
    {
     "name": "stderr",
     "output_type": "stream",
     "text": [
      "Training Epoch 6: 100%|██████████| 8/8 [00:03<00:00,  2.54it/s]\n"
     ]
    },
    {
     "name": "stdout",
     "output_type": "stream",
     "text": [
      "Epoch 6 Loss: 1.1152\n"
     ]
    },
    {
     "name": "stderr",
     "output_type": "stream",
     "text": [
      "Training Epoch 7: 100%|██████████| 8/8 [00:03<00:00,  2.54it/s]\n"
     ]
    },
    {
     "name": "stdout",
     "output_type": "stream",
     "text": [
      "Epoch 7 Loss: 1.0268\n"
     ]
    },
    {
     "name": "stderr",
     "output_type": "stream",
     "text": [
      "Training Epoch 8: 100%|██████████| 8/8 [00:03<00:00,  2.55it/s]\n"
     ]
    },
    {
     "name": "stdout",
     "output_type": "stream",
     "text": [
      "Epoch 8 Loss: 1.1123\n"
     ]
    },
    {
     "name": "stderr",
     "output_type": "stream",
     "text": [
      "Training Epoch 9: 100%|██████████| 8/8 [00:03<00:00,  2.54it/s]\n"
     ]
    },
    {
     "name": "stdout",
     "output_type": "stream",
     "text": [
      "Epoch 9 Loss: 0.8996\n"
     ]
    },
    {
     "name": "stderr",
     "output_type": "stream",
     "text": [
      "Training Epoch 10: 100%|██████████| 8/8 [00:03<00:00,  2.55it/s]\n"
     ]
    },
    {
     "name": "stdout",
     "output_type": "stream",
     "text": [
      "Epoch 10 Loss: 0.7698\n"
     ]
    },
    {
     "name": "stderr",
     "output_type": "stream",
     "text": [
      "Training Epoch 11: 100%|██████████| 8/8 [00:03<00:00,  2.66it/s]\n"
     ]
    },
    {
     "name": "stdout",
     "output_type": "stream",
     "text": [
      "Epoch 11 Loss: 0.6466\n"
     ]
    },
    {
     "name": "stderr",
     "output_type": "stream",
     "text": [
      "Training Epoch 12: 100%|██████████| 8/8 [00:02<00:00,  2.77it/s]\n"
     ]
    },
    {
     "name": "stdout",
     "output_type": "stream",
     "text": [
      "Epoch 12 Loss: 0.6234\n"
     ]
    },
    {
     "name": "stderr",
     "output_type": "stream",
     "text": [
      "Training Epoch 13: 100%|██████████| 8/8 [00:03<00:00,  2.55it/s]\n"
     ]
    },
    {
     "name": "stdout",
     "output_type": "stream",
     "text": [
      "Epoch 13 Loss: 0.4593\n"
     ]
    },
    {
     "name": "stderr",
     "output_type": "stream",
     "text": [
      "Training Epoch 14: 100%|██████████| 8/8 [00:03<00:00,  2.55it/s]\n"
     ]
    },
    {
     "name": "stdout",
     "output_type": "stream",
     "text": [
      "Epoch 14 Loss: 0.4218\n"
     ]
    },
    {
     "name": "stderr",
     "output_type": "stream",
     "text": [
      "Training Epoch 15: 100%|██████████| 8/8 [00:03<00:00,  2.54it/s]\n"
     ]
    },
    {
     "name": "stdout",
     "output_type": "stream",
     "text": [
      "Epoch 15 Loss: 0.3537\n"
     ]
    },
    {
     "name": "stderr",
     "output_type": "stream",
     "text": [
      "Training Epoch 16: 100%|██████████| 8/8 [00:03<00:00,  2.55it/s]\n"
     ]
    },
    {
     "name": "stdout",
     "output_type": "stream",
     "text": [
      "Epoch 16 Loss: 0.2362\n"
     ]
    },
    {
     "name": "stderr",
     "output_type": "stream",
     "text": [
      "Training Epoch 17: 100%|██████████| 8/8 [00:03<00:00,  2.54it/s]\n"
     ]
    },
    {
     "name": "stdout",
     "output_type": "stream",
     "text": [
      "Epoch 17 Loss: 0.2466\n"
     ]
    },
    {
     "name": "stderr",
     "output_type": "stream",
     "text": [
      "Training Epoch 18: 100%|██████████| 8/8 [00:03<00:00,  2.55it/s]\n"
     ]
    },
    {
     "name": "stdout",
     "output_type": "stream",
     "text": [
      "Epoch 18 Loss: 0.2243\n"
     ]
    },
    {
     "name": "stderr",
     "output_type": "stream",
     "text": [
      "Training Epoch 19: 100%|██████████| 8/8 [00:03<00:00,  2.54it/s]\n"
     ]
    },
    {
     "name": "stdout",
     "output_type": "stream",
     "text": [
      "Epoch 19 Loss: 0.1804\n"
     ]
    },
    {
     "name": "stderr",
     "output_type": "stream",
     "text": [
      "Training Epoch 20: 100%|██████████| 8/8 [00:03<00:00,  2.54it/s]\n"
     ]
    },
    {
     "name": "stdout",
     "output_type": "stream",
     "text": [
      "Epoch 20 Loss: 0.1759\n"
     ]
    },
    {
     "name": "stderr",
     "output_type": "stream",
     "text": [
      "Training Epoch 21: 100%|██████████| 8/8 [00:02<00:00,  3.39it/s]\n"
     ]
    },
    {
     "name": "stdout",
     "output_type": "stream",
     "text": [
      "Epoch 21 Loss: 0.1600\n"
     ]
    },
    {
     "name": "stderr",
     "output_type": "stream",
     "text": [
      "Training Epoch 22: 100%|██████████| 8/8 [00:01<00:00,  4.05it/s]\n"
     ]
    },
    {
     "name": "stdout",
     "output_type": "stream",
     "text": [
      "Epoch 22 Loss: 0.1665\n"
     ]
    },
    {
     "name": "stderr",
     "output_type": "stream",
     "text": [
      "Training Epoch 23: 100%|██████████| 8/8 [00:01<00:00,  4.08it/s]\n"
     ]
    },
    {
     "name": "stdout",
     "output_type": "stream",
     "text": [
      "Epoch 23 Loss: 0.1153\n"
     ]
    },
    {
     "name": "stderr",
     "output_type": "stream",
     "text": [
      "Training Epoch 24: 100%|██████████| 8/8 [00:01<00:00,  4.08it/s]\n"
     ]
    },
    {
     "name": "stdout",
     "output_type": "stream",
     "text": [
      "Epoch 24 Loss: 0.1143\n"
     ]
    },
    {
     "name": "stderr",
     "output_type": "stream",
     "text": [
      "Training Epoch 25: 100%|██████████| 8/8 [00:01<00:00,  4.07it/s]\n"
     ]
    },
    {
     "name": "stdout",
     "output_type": "stream",
     "text": [
      "Epoch 25 Loss: 0.1244\n",
      "\n",
      "FINAL EVALUATION ON VALIDATION SET\n",
      "\n",
      "=== Mistake_Identification ===\n",
      "-- Exact (3-Class) --\n",
      "                precision    recall  f1-score   support\n",
      "\n",
      "            No      0.000     0.000     0.000         2\n",
      "To some extent      0.286     0.667     0.400         3\n",
      "           Yes      1.000     0.636     0.778        11\n",
      "\n",
      "      accuracy                          0.562        16\n",
      "     macro avg      0.429     0.434     0.393        16\n",
      "  weighted avg      0.741     0.562     0.610        16\n",
      "\n",
      "Confusion Matrix:\n",
      "[[0 2 0]\n",
      " [1 2 0]\n",
      " [1 3 7]]\n",
      "Accuracy: 0.5625\n",
      "Macro F1: 0.3925925925925926\n",
      "Micro F1: 0.5625\n",
      "-- Lenient (2-Class) --\n",
      "              precision    recall  f1-score   support\n",
      "\n",
      "          No      0.000     0.000     0.000         2\n",
      "     Yes/TSE      0.857     0.857     0.857        14\n",
      "\n",
      "    accuracy                          0.750        16\n",
      "   macro avg      0.429     0.429     0.429        16\n",
      "weighted avg      0.750     0.750     0.750        16\n",
      "\n",
      "Confusion Matrix:\n",
      "[[ 0  2]\n",
      " [ 2 12]]\n",
      "Accuracy: 0.75\n",
      "Macro F1: 0.42857142857142855\n",
      "Micro F1: 0.75\n",
      "\n",
      "=== Mistake_Location ===\n",
      "-- Exact (3-Class) --\n",
      "                precision    recall  f1-score   support\n",
      "\n",
      "            No      0.714     1.000     0.833        10\n",
      "To some extent      0.000     0.000     0.000         0\n",
      "           Yes      1.000     0.333     0.500         6\n",
      "\n",
      "     micro avg      0.750     0.750     0.750        16\n",
      "     macro avg      0.571     0.444     0.444        16\n",
      "  weighted avg      0.821     0.750     0.708        16\n",
      "\n",
      "Confusion Matrix:\n",
      "[[10  0  0]\n",
      " [ 0  0  0]\n",
      " [ 4  0  2]]\n",
      "Accuracy: 0.75\n",
      "Macro F1: 0.6666666666666666\n",
      "Micro F1: 0.75\n",
      "-- Lenient (2-Class) --\n",
      "              precision    recall  f1-score   support\n",
      "\n",
      "          No      0.714     1.000     0.833        10\n",
      "     Yes/TSE      1.000     0.333     0.500         6\n",
      "\n",
      "    accuracy                          0.750        16\n",
      "   macro avg      0.857     0.667     0.667        16\n",
      "weighted avg      0.821     0.750     0.708        16\n",
      "\n",
      "Confusion Matrix:\n",
      "[[10  0]\n",
      " [ 4  2]]\n",
      "Accuracy: 0.75\n",
      "Macro F1: 0.6666666666666666\n",
      "Micro F1: 0.75\n",
      "\n",
      "=== Providing_Guidance ===\n",
      "-- Exact (3-Class) --\n",
      "                precision    recall  f1-score   support\n",
      "\n",
      "            No      0.800     1.000     0.889        12\n",
      "To some extent      0.000     0.000     0.000         0\n",
      "           Yes      1.000     0.250     0.400         4\n",
      "\n",
      "     micro avg      0.812     0.812     0.812        16\n",
      "     macro avg      0.600     0.417     0.430        16\n",
      "  weighted avg      0.850     0.812     0.767        16\n",
      "\n",
      "Confusion Matrix:\n",
      "[[12  0  0]\n",
      " [ 0  0  0]\n",
      " [ 3  0  1]]\n",
      "Accuracy: 0.8125\n",
      "Macro F1: 0.6444444444444445\n",
      "Micro F1: 0.8125\n",
      "-- Lenient (2-Class) --\n",
      "              precision    recall  f1-score   support\n",
      "\n",
      "          No      0.800     1.000     0.889        12\n",
      "     Yes/TSE      1.000     0.250     0.400         4\n",
      "\n",
      "    accuracy                          0.812        16\n",
      "   macro avg      0.900     0.625     0.644        16\n",
      "weighted avg      0.850     0.812     0.767        16\n",
      "\n",
      "Confusion Matrix:\n",
      "[[12  0]\n",
      " [ 3  1]]\n",
      "Accuracy: 0.8125\n",
      "Macro F1: 0.6444444444444445\n",
      "Micro F1: 0.8125\n",
      "\n",
      "=== Actionability ===\n",
      "-- Exact (3-Class) --\n",
      "                precision    recall  f1-score   support\n",
      "\n",
      "            No      0.846     0.917     0.880        12\n",
      "To some extent      0.667     0.667     0.667         3\n",
      "           Yes      0.000     0.000     0.000         1\n",
      "\n",
      "      accuracy                          0.812        16\n",
      "     macro avg      0.504     0.528     0.516        16\n",
      "  weighted avg      0.760     0.812     0.785        16\n",
      "\n",
      "Confusion Matrix:\n",
      "[[11  1  0]\n",
      " [ 1  2  0]\n",
      " [ 1  0  0]]\n",
      "Accuracy: 0.8125\n",
      "Macro F1: 0.5155555555555554\n",
      "Micro F1: 0.8125\n",
      "-- Lenient (2-Class) --\n",
      "              precision    recall  f1-score   support\n",
      "\n",
      "          No      0.846     0.917     0.880        12\n",
      "     Yes/TSE      0.667     0.500     0.571         4\n",
      "\n",
      "    accuracy                          0.812        16\n",
      "   macro avg      0.756     0.708     0.726        16\n",
      "weighted avg      0.801     0.812     0.803        16\n",
      "\n",
      "Confusion Matrix:\n",
      "[[11  1]\n",
      " [ 2  2]]\n",
      "Accuracy: 0.8125\n",
      "Macro F1: 0.7257142857142858\n",
      "Micro F1: 0.8125\n",
      "\n",
      "\n",
      "========= SUMMARY: MACRO F1 SCORES BY TUTOR =========\n",
      "Sonnet:\n",
      "  Mistake_Identification: 0.459\n",
      "  Mistake_Location: 0.428\n",
      "  Providing_Guidance: 0.489\n",
      "  Actionability: 0.343\n",
      "Llama318B:\n",
      "  Mistake_Identification: 0.300\n",
      "  Mistake_Location: 0.459\n",
      "  Providing_Guidance: 0.329\n",
      "  Actionability: 0.467\n",
      "Llama31405B:\n",
      "  Mistake_Identification: 0.328\n",
      "  Mistake_Location: 0.382\n",
      "  Providing_Guidance: 0.324\n",
      "  Actionability: 0.460\n",
      "GPT4:\n",
      "  Mistake_Identification: 0.483\n",
      "  Mistake_Location: 0.460\n",
      "  Providing_Guidance: 0.350\n",
      "  Actionability: 0.416\n",
      "Mistral:\n",
      "  Mistake_Identification: 0.322\n",
      "  Mistake_Location: 0.315\n",
      "  Providing_Guidance: 0.272\n",
      "  Actionability: 0.441\n",
      "Expert:\n",
      "  Mistake_Identification: 0.271\n",
      "  Mistake_Location: 0.388\n",
      "  Providing_Guidance: 0.439\n",
      "  Actionability: 0.286\n",
      "Gemini:\n",
      "  Mistake_Identification: 0.469\n",
      "  Mistake_Location: 0.346\n",
      "  Providing_Guidance: 0.287\n",
      "  Actionability: 0.342\n",
      "Phi3:\n",
      "  Mistake_Identification: 0.943\n",
      "  Mistake_Location: 0.632\n",
      "  Providing_Guidance: 0.600\n",
      "  Actionability: 0.296\n",
      "Novice:\n",
      "  Mistake_Identification: 0.393\n",
      "  Mistake_Location: 0.667\n",
      "  Providing_Guidance: 0.644\n",
      "  Actionability: 0.516\n"
     ]
    }
   ],
   "source": [
    "# --- Tutor-wise Training & Evaluation ---\n",
    "if __name__ == '__main__':\n",
    "    from sklearn.model_selection import train_test_split\n",
    "\n",
    "    tokenizer = AutoTokenizer.from_pretrained(MODEL_NAME)\n",
    "    tutor_data = load_json_dataset_by_tutor('ai_tutors_dataset.json')\n",
    "    tutor_scores = {}\n",
    "\n",
    "    for tutor_name, data in tutor_data.items():\n",
    "        print(f\"\\n\\n================= TUTOR: {tutor_name} =================\")\n",
    "\n",
    "        train_data, val_data = train_test_split(data, test_size=0.2, random_state=42)\n",
    "        train_ds = TutorDataset(train_data, tokenizer)\n",
    "        val_ds = TutorDataset(val_data, tokenizer)\n",
    "\n",
    "        train_loader = DataLoader(train_ds, batch_size=8, shuffle=True)\n",
    "        val_loader = DataLoader(val_ds, batch_size=8)\n",
    "\n",
    "        model = PedagogicalModel()\n",
    "        train_model(model, train_loader, val_loader, epochs=25, lr=2e-5, use_focal=True)\n",
    "\n",
    "        y_true, y_pred = evaluate_model(model, val_loader)\n",
    "        tutor_scores[tutor_name] = {\n",
    "            task: f1_score(y_true[task], y_pred[task], average='macro')\n",
    "            for task in TASKS\n",
    "        }\n",
    "\n",
    "    # --- Display Summary ---\n",
    "    print(\"\\n\\n========= SUMMARY: MACRO F1 SCORES BY TUTOR =========\")\n",
    "    for tutor, scores in tutor_scores.items():\n",
    "        print(f\"{tutor}:\")\n",
    "        for task in TASKS:\n",
    "            print(f\"  {task}: {scores[task]:.3f}\")\n"
   ]
  }
 ],
 "metadata": {
  "kernelspec": {
   "display_name": "base",
   "language": "python",
   "name": "python3"
  },
  "language_info": {
   "codemirror_mode": {
    "name": "ipython",
    "version": 3
   },
   "file_extension": ".py",
   "mimetype": "text/x-python",
   "name": "python",
   "nbconvert_exporter": "python",
   "pygments_lexer": "ipython3",
   "version": "3.8.18"
  }
 },
 "nbformat": 4,
 "nbformat_minor": 5
}
